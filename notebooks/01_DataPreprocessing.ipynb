{
  "nbformat": 4,
  "nbformat_minor": 0,
  "metadata": {
    "colab": {
      "provenance": [],
      "toc_visible": true
    },
    "kernelspec": {
      "name": "python3",
      "display_name": "Python 3"
    },
    "language_info": {
      "name": "python"
    }
  },
  "cells": [
    {
      "cell_type": "code",
      "source": [
        "%pip install iterative-stratification==0.1.9"
      ],
      "metadata": {
        "colab": {
          "base_uri": "https://localhost:8080/"
        },
        "collapsed": true,
        "id": "QS1MIg-RJNMp",
        "outputId": "49f402f7-5825-4904-92e4-05a95b905654"
      },
      "execution_count": null,
      "outputs": [
        {
          "output_type": "stream",
          "name": "stdout",
          "text": [
            "Collecting iterative-stratification==0.1.9\n",
            "  Downloading iterative_stratification-0.1.9-py3-none-any.whl.metadata (1.3 kB)\n",
            "Requirement already satisfied: numpy in /usr/local/lib/python3.10/dist-packages (from iterative-stratification==0.1.9) (1.26.4)\n",
            "Requirement already satisfied: scipy in /usr/local/lib/python3.10/dist-packages (from iterative-stratification==0.1.9) (1.13.1)\n",
            "Requirement already satisfied: scikit-learn in /usr/local/lib/python3.10/dist-packages (from iterative-stratification==0.1.9) (1.6.0)\n",
            "Requirement already satisfied: joblib>=1.2.0 in /usr/local/lib/python3.10/dist-packages (from scikit-learn->iterative-stratification==0.1.9) (1.4.2)\n",
            "Requirement already satisfied: threadpoolctl>=3.1.0 in /usr/local/lib/python3.10/dist-packages (from scikit-learn->iterative-stratification==0.1.9) (3.5.0)\n",
            "Downloading iterative_stratification-0.1.9-py3-none-any.whl (8.5 kB)\n",
            "Installing collected packages: iterative-stratification\n",
            "Successfully installed iterative-stratification-0.1.9\n"
          ]
        }
      ]
    },
    {
      "cell_type": "markdown",
      "source": [
        "# 데이터 로드"
      ],
      "metadata": {
        "id": "iElh5sAFpI0i"
      }
    },
    {
      "cell_type": "code",
      "source": [
        "from google.colab import drive\n",
        "drive.mount(\"/content/drive\")"
      ],
      "metadata": {
        "id": "cVYrhbKEyqWx",
        "colab": {
          "base_uri": "https://localhost:8080/"
        },
        "outputId": "e44d1fc3-6307-45a2-e027-2c0a22b429e8"
      },
      "execution_count": null,
      "outputs": [
        {
          "output_type": "stream",
          "name": "stdout",
          "text": [
            "Mounted at /content/drive\n"
          ]
        }
      ]
    },
    {
      "cell_type": "code",
      "source": [
        "import pandas as pd\n",
        "import numpy as np\n",
        "from iterstrat.ml_stratifiers import MultilabelStratifiedKFold\n",
        "\n",
        "#데이터패스 수정해주세요\n",
        "#DATA_PATH = \"/content/drive/MyDrive/dataton/\"\n",
        "DATA_PATH = '/content/drive/MyDrive/dayoon/데이터톤/공유 데이터셋 및 베이스라인코드/'\n",
        "SEED = 42\n",
        "df = pd.read_csv(f'{DATA_PATH}dataset_0110.csv')\n",
        "df.shape"
      ],
      "metadata": {
        "colab": {
          "base_uri": "https://localhost:8080/"
        },
        "id": "iFeqG9G95OtG",
        "outputId": "7e3619a9-76ea-4d24-ba95-94500f9713cf"
      },
      "execution_count": null,
      "outputs": [
        {
          "output_type": "stream",
          "name": "stderr",
          "text": [
            "<ipython-input-3-86db79c7b5c3>:9: DtypeWarning: Columns (37,103,109,207) have mixed types. Specify dtype option on import or set low_memory=False.\n",
            "  df = pd.read_csv(f'{DATA_PATH}dataset_0110.csv')\n"
          ]
        },
        {
          "output_type": "execute_result",
          "data": {
            "text/plain": [
              "(55989, 258)"
            ]
          },
          "metadata": {},
          "execution_count": 3
        }
      ]
    },
    {
      "cell_type": "code",
      "source": [
        "columns_to_select = [\n",
        "    'id', 'id_fam', 'year', 'region', 'town_t', 'apt_t', 'sex', 'age', 'incm', 'ho_incm',\n",
        "    'incm5', 'ho_incm5', 'edu', 'occp', 'cfam', 'genertn', 'allownc', 'house', 'live_t',\n",
        "    'ainc_1', 'ainc', 'marri_1', 'marri_2', 'tins', 'npins', 'id_f', 'id_m', 'd_1_1', 'd_2_1',\n",
        "    'd_2_wk', 'bh9_11', 'bh2_61', 'ac1_yr', 'ac3', 'ac3_1_01', 'ac3_2_01', 'ac8_1_01',\n",
        "    'ac8_1e_01', 'ac3_1_02', 'ac3_2_02', 'ac8_1_02', 'ac8_1e_02', 'ac3_1_03', 'ac3_2_03',\n",
        "    'ac8_1_03', 'ac8_1e_03', 'educ', 'ec_pedu_1', 'ec_pedu_2', 'ec1_1', 'ec_occp', 'ec_stt_1',\n",
        "    'ec_stt_2', 'ec_wht_0', 'ec_wht_23', 'ec_lgw_2', 'ec_lgw_4', 'ec_lgw_5', 'bo1', 'bo1_1',\n",
        "    'bo1_2', 'bo1_3', 'bo2_1', 'bd1', 'bd2', 'bd1_11', 'bd2_1', 'bd2_31', 'bd7_4', 'bd7_5',\n",
        "    'ba2_12', 'ba2_13', 'ba2_2_1', 'ba2_2_2', 'ba2_2_3', 'ba2_2_4', 'ba2_2_5', 'ba2_2_6',\n",
        "    'ba2_22', 'bp1', 'bp5', 'bp6_10', 'bp6_2', 'bp6_31', 'bp7', 'bs1_1', 'bs2_1', 'bs3_1',\n",
        "    'bs3_2', 'bs3_3', 'bs6_2', 'bs6_2_1', 'bs6_2_2', 'bs6_3', 'bs6_4', 'bs6_4_1', 'bs6_4_2',\n",
        "    'bs12_1', 'bs12_2', 'bs12_31', 'bs12_32', 'bs12_33', 'bs12_34', 'bs12_35', 'bs12_36',\n",
        "    'bs12_41', 'bs12_42', 'bs12_43', 'bs12_44', 'bs12_45', 'bs12_46', 'bs5', 'bs5_1', 'bs8_2',\n",
        "    'bs9_2', 'bs13', 'bs10_1', 'bs2', 'bs10_2', 'bs10_3', 'be3_71', 'be3_72', 'be3_73', 'be3_74',\n",
        "    'be3_81', 'be3_82', 'be3_83', 'be3_84', 'be3_91', 'be3_92', 'be3_93', 'be3_94', 'be3_75',\n",
        "    'be3_76', 'be3_77', 'be3_78', 'be3_85', 'be3_86', 'be3_87', 'be3_88', 'be8_1', 'be8_2',\n",
        "    'be3_31', 'be3_32', 'be3_33', 'be5_1', 'lw_ms', 'lw_mp_e', 'lw_mp_a', 'lw_ms_a', 'lw_pr',\n",
        "    'lw_pr_1', 'lw_mt', 'lw_mt_a1', 'lw_mt_a2', 'lw_br', 'lw_br_ch', 'lw_br_dur', 'lw_oc',\n",
        "    'he_mens', 'he_prg', 'he_dprg', 'he_fh', 'he_hpfh1', 'he_hpfh2', 'he_hpfh3', 'he_hlfh1',\n",
        "    'he_hlfh2', 'he_hlfh3', 'he_ihdfh1', 'he_ihdfh2', 'he_ihdfh3', 'he_strfh1', 'he_strfh2',\n",
        "    'he_strfh3', 'he_dmfh1', 'he_dmfh2', 'he_dmfh3', 'he_rpls', 'he_ht', 'he_wt', 'he_wc',\n",
        "    'he_bmi', 'he_obe', 'bm1_0', 'bm1_1', 'bm1_2', 'bm1_3', 'bm1_4', 'bm1_5', 'bm1_6', 'bm1_7',\n",
        "    'bm1_8', 'bm7', 'bm8', 'or1_2', 'mo4_00', 'mo4_4', 'mo4_9', 'mo4_7', 'mo4_8', 'mo4_11',\n",
        "    'mo4_12', 'mo4_18', 'mo4_15', 'bm14', 'bm14_1', 'bm14_2', 't_q_hr', 't_nq_ocp', 't_q_vn',\n",
        "    'l_br_fq', 'l_ln_fq', 'l_dn_fq', 'l_br_to', 'l_br_who', 'l_ln_to', 'l_ln_who', 'l_dn_to',\n",
        "    'l_dn_who', 'l_out_fq', 'ls_1yr', 'lk_edu', 'lk_lb_co', 'lk_lb_us', 'n_diet', 'n_diet_why',\n",
        "    'n_dt_etc', 'n_wat_c', 'n_en', 'n_prot', 'n_fat', 'n_chol', 'n_cho', 'n_tdf', 'n_sugar',\n",
        "    'n_na', 'lf_buyer', 'lf_safe', 'dj4_dg', 'dj4_ag', 'dj4_3', 'dl1_dg', 'dl1_ag', 'dj8_dg',\n",
        "    'dj8_ag', '고혈압', '당뇨', '이상지질혈증', '신장질환'\n",
        "]\n",
        "\n",
        "len(columns_to_select)"
      ],
      "metadata": {
        "id": "RbFl-qB-xcGH",
        "colab": {
          "base_uri": "https://localhost:8080/"
        },
        "outputId": "2a445e3b-ee41-4aa9-e52a-d56e61bfa80a"
      },
      "execution_count": null,
      "outputs": [
        {
          "output_type": "execute_result",
          "data": {
            "text/plain": [
              "250"
            ]
          },
          "metadata": {},
          "execution_count": 4
        }
      ]
    },
    {
      "cell_type": "code",
      "source": [
        "df_fin = df[df.isnull().sum(axis=1) <= 150]\n",
        "df_fin.shape"
      ],
      "metadata": {
        "colab": {
          "base_uri": "https://localhost:8080/"
        },
        "id": "pY26-0OLzsqM",
        "outputId": "248e71da-01dc-4567-c6a4-f218ac37b36f"
      },
      "execution_count": null,
      "outputs": [
        {
          "output_type": "execute_result",
          "data": {
            "text/plain": [
              "(55989, 258)"
            ]
          },
          "metadata": {},
          "execution_count": 5
        }
      ]
    },
    {
      "cell_type": "markdown",
      "source": [
        "# 컬럼명 한글로 바꾸기"
      ],
      "metadata": {
        "id": "zW1NUMZIMwYc"
      }
    },
    {
      "cell_type": "code",
      "source": [
        "korean_columns = [\n",
        "    \"개인ID\", \"가구ID\", \"조사연도\", \"시도\", \"동읍\", \"아파트구분\", \"성별\", \"나이\", \"소득4분위\", \"가구소득4분위\",\n",
        "    \"소득5분위\", \"가구소득5분위\", \"교육수준_재분류\", \"직업코드\", \"가구원수\", \"가구세대구성\", \"기초생활수급여부\",\n",
        "    \"주택소유여부\", \"주택형태\", \"가구총소득\", \"월평균가구총소득\", \"결혼여부\", \"결혼상태\", \"건강보험종류\",\n",
        "    \"민간의료보험가입여부\", \"아버지아이디\", \"어머니아이디\", \"주관적건강인지\", \"2주내몸이불편했는지\", \"불편한일수\",\n",
        "    \"독감예방접종여부\", \"2년내암검진여부\", \"1년내손상발생여부\", \"사고횟수\", \"사고연도1\", \"사고월1\", \"사고치료방법1\",\n",
        "    \"사고치료방법_상세1\", \"사고연도2\", \"사고월2\", \"사고치료방법2\", \"사고치료방법_상세2\", \"사고연도3\", \"사고월3\",\n",
        "    \"사고치료방법3\", \"사고치료방법_상세3\", \"학력\", \"부_교육수준\", \"모_교육수준\", \"경제활동상태\", \"직업대분류\",\n",
        "    \"종사상지위\", \"임금근로자_상세\", \"정규직여부\", \"주당평균근로시간\", \"최장일자리_직업분류\", \"최장일자리_종사상지위\",\n",
        "    \"최장일자리_임금근로자상세\", \"주관적체형인식\", \"1년간체중변화여부\", \"1년간체중감소량\", \"1년간체중증가량\",\n",
        "    \"1년간체중조절여부\", \"음주경험\", \"음주시작연령\", \"1년간음주빈도\", \"회당음주량_범주\", \"폭음빈도\", \"주변의절주권고여부\",\n",
        "    \"성인_1년내음주문제상담여부\", \"안전벨트착용여부_운전시\", \"안전벨트착용여부_앞좌석\", \"음주운전여부_자전거\",\n",
        "    \"음주운전횟수_자전거\", \"음주운전여부_오토바이\", \"음주운전횟수_오토바이\", \"음주운전여부_자동차\",\n",
        "    \"음주운전횟수_자동차\", \"음주운전차량동승횟수\", \"스트레스인지정도\", \"2주이상연속우울감여부\", \"1년간자살생각여부\",\n",
        "    \"1년간자살계획여부\", \"1년간자살시도여부\", \"1년간정신상담여부\", \"흡연경험여부\", \"흡연시작연령\", \"현재흡연여부\",\n",
        "    \"하루평균흡연량\", \"라이트스모커_1달간흡연일수\", \"과거흡연자_흡연기간_월환산\", \"과거흡연자_흡연기간_월\",\n",
        "    \"과거흡연자_흡연기간_월\", \"과거흡연자_일평균흡연량\", \"과거흡연자_금연기간_월환산\", \"과거흡연자_금연기간_연\",\n",
        "    \"과거흡연자_금연기간_월환산\", \"액상형전자담배경험여부\", \"액상형전자담배현재사용여부\", \"평생사용담배종류_머금는담배\",\n",
        "    \"평생사용담배종류_물담배\", \"평생사용담배종류_시가\", \"평생사용담배종류_기타\", \"평생사용담배종류_기타상세\",\n",
        "    \"평생사용담배종류_흡연경험없음\", \"현재사용담배종류_머금는담배\", \"현재사용담배종류_물담배\", \"현재사용담배종류_시가\",\n",
        "    \"현재사용담배종류_기타\", \"현재사용담배종류_기타상세\", \"현재사용담배종류_흡연경험없음\", \"1년간하루이상금연여부\",\n",
        "    \"1개월내금연계획\", \"직장내간접흡연노출여부\", \"가정내간접흡연노출여부\", \"공공장소내간접흡연노출여부\",\n",
        "    \"일반담배_한두모금피운경험\", \"일반담배_한두모금피운연령\", \"1달간흡연일수\", \"1달간하루흡연량\", \"업무_고강도신체활동여부\",\n",
        "    \"업무_고강도신체활동일수\", \"업무_고강도신체활동시간\", \"업무_고강도신체활동분\", \"업무_중강도신체활동여부\",\n",
        "    \"업무_중강도신체활동일수\", \"업무_중강도신체활동시간\", \"업무_중강도신체활동분\", \"일상생활_신체활동여부\",\n",
        "    \"일상생활_신체활동일수\", \"일상생활_신체활동시간\", \"일상생활_신체활동분\", \"여가_고강도신체활동여부\",\n",
        "    \"여가_고강도신체활동일수\", \"여가_고강도신체활동시간\", \"여가_고강도신체활동분\", \"여가_중강도신체활동여부\",\n",
        "    \"여가_중강도신체활동일수\", \"여가_중강도신체활동시간\", \"여가_중강도신체활동분\", \"하루앉아서보내는시간\",\n",
        "    \"하루앉아서보내는분\", \"1주간걷기일수\", \"걷기지속시간\", \"걷기지속분\", \"1주간근력운동일수\", \"월경여부\", \"무월경사유\",\n",
        "    \"폐경연령\", \"초경연령\", \"임신경험여부\", \"임신횟수\", \"출산경험\", \"첫출산연령\", \"마지막출산연령\", \"모유수유경험\",\n",
        "    \"모유수유자녀수\", \"모유수유기간_월환산\", \"경구피임약복용여부\", \"생리여부\", \"임신여부\", \"임신개월수\",\n",
        "    \"만성질환_가족력여부\", \"부_고혈압여부\", \"모_고혈압여부\", \"형제자매_고혈압여부\", \"부_고지혈증여부\", \"모_고지혈증여부\",\n",
        "    \"형제자매_고지혈증여부\", \"부_허혈성심장질환여부\", \"모_허혈성심장질환여부\", \"형제자매_허혈성심장질환여부\",\n",
        "    \"부_뇌졸중여부\", \"모_뇌졸중여부\", \"형제자매_뇌졸중여부\", \"부_당뇨여부\", \"모_당뇨여부\", \"형제자매_당뇨여부\",\n",
        "    \"맥박규칙성여부\", \"키\", \"몸무게\", \"허리둘레\", \"체질량지수\", \"비만여부\", \"어제하루칫솔질여부\", \"칫솔질시기_아침전\",\n",
        "    \"칫솔질시기_아침후\", \"칫솔질시기_점심전\", \"칫솔질시기_점심후\", \"칫솔질시기_저녁전\", \"칫솔질시기_저녁후\",\n",
        "    \"칫솔질시기_간식후\", \"칫솔질시기_자기전\", \"씹기문제\", \"말하기문제\", \"1년내구강검진여부\", \"치과이용여부\", \"구강xray여부\",\n",
        "    \"잇몸병치료여부\", \"단순충치치료여부\", \"치아신경치료여부\", \"발치/구강내수술여부\", \"빠지거나부러진치아치료여부\",\n",
        "    \"보철물제작수리여부\", \"기타여부\", \"치과진료미치료여부\", \"치과진료미치료이유\", \"치과진료미치료이유_기타상세\", \"본인청력\",\n",
        "    \"직업적소음노출여부\", \"5분이상이명경험\", \"최근1년주평균아침식사빈도\", \"최근1년주평균점심식사빈도\", \"최근1년주평균저녁식사빈도\",\n",
        "    \"아침_가족외사람동반여부\", \"아침_가족외사람동반대상\", \"점심_가족외사람동반여부\", \"점심_가족외사람동반대상\",\n",
        "    \"저녁_가족외사람동반여부\", \"저녁_가족외사람동반대상\", \"평균외식빈도\", \"2주이상식이보충제복용여부\", \"영양교육및상담경험여부\",\n",
        "    \"영양표시인지여부\", \"영양표시이용여부\", \"식사요법여부\", \"식사요법이유\", \"식사요법이유_기타\", \"물섭취량\", \"에너지섭취량\",\n",
        "    \"단백질섭취량\", \"지방섭취량\", \"콜레스테롤섭취량\", \"탄수화물섭취량\", \"식이섬유섭취량\", \"당섭취량\", \"나트륨섭취량\",\n",
        "    \"가구내식생활관리자여부\", \"식생활형편\", \"천식의사진단여부\", \"천식진단시기\", \"천식약복용\", \"아토피의사진단여부\",\n",
        "    \"아토피진단시기\", \"비염의사진단여부\", \"비염진단시기\", \"고혈압\", \"당뇨병\", \"이상지질혈증\", \"신장질환\"\n",
        "]\n",
        "len(korean_columns)"
      ],
      "metadata": {
        "colab": {
          "base_uri": "https://localhost:8080/"
        },
        "id": "sBLSl4ZxIffW",
        "outputId": "7089c4e2-b428-4755-a02c-f85079f15684"
      },
      "execution_count": null,
      "outputs": [
        {
          "output_type": "execute_result",
          "data": {
            "text/plain": [
              "250"
            ]
          },
          "metadata": {},
          "execution_count": 6
        }
      ]
    },
    {
      "cell_type": "code",
      "source": [
        "# 컬럼 매핑 딕셔너리 생성\n",
        "columns_name_map = dict(zip(columns_to_select, korean_columns))\n",
        "\n",
        "# 필요한 컬럼만 선택\n",
        "df = df_fin[columns_to_select]\n",
        "\n",
        "# 컬럼명을 한글로 변경\n",
        "df.rename(columns=columns_name_map, inplace=True)\n",
        "df.head()"
      ],
      "metadata": {
        "id": "USdOfOk3MvNO",
        "colab": {
          "base_uri": "https://localhost:8080/",
          "height": 345
        },
        "outputId": "9fb78b98-9107-4c52-c7d8-e9179ec76ed3"
      },
      "execution_count": null,
      "outputs": [
        {
          "output_type": "stream",
          "name": "stderr",
          "text": [
            "<ipython-input-7-f31b29dabd25>:8: SettingWithCopyWarning: \n",
            "A value is trying to be set on a copy of a slice from a DataFrame\n",
            "\n",
            "See the caveats in the documentation: https://pandas.pydata.org/pandas-docs/stable/user_guide/indexing.html#returning-a-view-versus-a-copy\n",
            "  df.rename(columns=columns_name_map, inplace=True)\n"
          ]
        },
        {
          "output_type": "execute_result",
          "data": {
            "text/plain": [
              "         개인ID      가구ID    조사연도   시도   동읍  아파트구분   성별    나이  소득4분위  가구소득4분위  \\\n",
              "0  A651172801  A6511728  2016.0  1.0  1.0    2.0  1.0  61.0    3.0      3.0   \n",
              "1  A651172802  A6511728  2016.0  1.0  1.0    2.0  2.0  57.0    3.0      3.0   \n",
              "2  A651183001  A6511830  2016.0  1.0  1.0    2.0  2.0  41.0    3.0      3.0   \n",
              "3  A651183002  A6511830  2016.0  1.0  1.0    2.0  1.0  39.0    3.0      3.0   \n",
              "4  A651183003  A6511830  2016.0  1.0  1.0    2.0  2.0  38.0    3.0      3.0   \n",
              "\n",
              "   ...  천식진단시기  천식약복용  아토피의사진단여부  아토피진단시기  비염의사진단여부  비염진단시기  고혈압  당뇨병  이상지질혈증  \\\n",
              "0  ...   888.0    8.0        0.0    888.0       1.0    51.0  1.0  1.0     0.0   \n",
              "1  ...   888.0    8.0        0.0    888.0       0.0   888.0  0.0  0.0     0.0   \n",
              "2  ...   888.0    8.0        0.0    888.0       0.0   888.0  0.0  0.0     0.0   \n",
              "3  ...   888.0    8.0        0.0    888.0       1.0    11.0  1.0  0.0     1.0   \n",
              "4  ...   888.0    8.0        0.0    888.0       1.0     3.0  0.0  0.0     0.0   \n",
              "\n",
              "   신장질환  \n",
              "0   0.0  \n",
              "1   0.0  \n",
              "2   0.0  \n",
              "3   0.0  \n",
              "4   0.0  \n",
              "\n",
              "[5 rows x 250 columns]"
            ],
            "text/html": [
              "\n",
              "  <div id=\"df-70ed82ad-6a78-4a36-b98e-b2842d175eba\" class=\"colab-df-container\">\n",
              "    <div>\n",
              "<style scoped>\n",
              "    .dataframe tbody tr th:only-of-type {\n",
              "        vertical-align: middle;\n",
              "    }\n",
              "\n",
              "    .dataframe tbody tr th {\n",
              "        vertical-align: top;\n",
              "    }\n",
              "\n",
              "    .dataframe thead th {\n",
              "        text-align: right;\n",
              "    }\n",
              "</style>\n",
              "<table border=\"1\" class=\"dataframe\">\n",
              "  <thead>\n",
              "    <tr style=\"text-align: right;\">\n",
              "      <th></th>\n",
              "      <th>개인ID</th>\n",
              "      <th>가구ID</th>\n",
              "      <th>조사연도</th>\n",
              "      <th>시도</th>\n",
              "      <th>동읍</th>\n",
              "      <th>아파트구분</th>\n",
              "      <th>성별</th>\n",
              "      <th>나이</th>\n",
              "      <th>소득4분위</th>\n",
              "      <th>가구소득4분위</th>\n",
              "      <th>...</th>\n",
              "      <th>천식진단시기</th>\n",
              "      <th>천식약복용</th>\n",
              "      <th>아토피의사진단여부</th>\n",
              "      <th>아토피진단시기</th>\n",
              "      <th>비염의사진단여부</th>\n",
              "      <th>비염진단시기</th>\n",
              "      <th>고혈압</th>\n",
              "      <th>당뇨병</th>\n",
              "      <th>이상지질혈증</th>\n",
              "      <th>신장질환</th>\n",
              "    </tr>\n",
              "  </thead>\n",
              "  <tbody>\n",
              "    <tr>\n",
              "      <th>0</th>\n",
              "      <td>A651172801</td>\n",
              "      <td>A6511728</td>\n",
              "      <td>2016.0</td>\n",
              "      <td>1.0</td>\n",
              "      <td>1.0</td>\n",
              "      <td>2.0</td>\n",
              "      <td>1.0</td>\n",
              "      <td>61.0</td>\n",
              "      <td>3.0</td>\n",
              "      <td>3.0</td>\n",
              "      <td>...</td>\n",
              "      <td>888.0</td>\n",
              "      <td>8.0</td>\n",
              "      <td>0.0</td>\n",
              "      <td>888.0</td>\n",
              "      <td>1.0</td>\n",
              "      <td>51.0</td>\n",
              "      <td>1.0</td>\n",
              "      <td>1.0</td>\n",
              "      <td>0.0</td>\n",
              "      <td>0.0</td>\n",
              "    </tr>\n",
              "    <tr>\n",
              "      <th>1</th>\n",
              "      <td>A651172802</td>\n",
              "      <td>A6511728</td>\n",
              "      <td>2016.0</td>\n",
              "      <td>1.0</td>\n",
              "      <td>1.0</td>\n",
              "      <td>2.0</td>\n",
              "      <td>2.0</td>\n",
              "      <td>57.0</td>\n",
              "      <td>3.0</td>\n",
              "      <td>3.0</td>\n",
              "      <td>...</td>\n",
              "      <td>888.0</td>\n",
              "      <td>8.0</td>\n",
              "      <td>0.0</td>\n",
              "      <td>888.0</td>\n",
              "      <td>0.0</td>\n",
              "      <td>888.0</td>\n",
              "      <td>0.0</td>\n",
              "      <td>0.0</td>\n",
              "      <td>0.0</td>\n",
              "      <td>0.0</td>\n",
              "    </tr>\n",
              "    <tr>\n",
              "      <th>2</th>\n",
              "      <td>A651183001</td>\n",
              "      <td>A6511830</td>\n",
              "      <td>2016.0</td>\n",
              "      <td>1.0</td>\n",
              "      <td>1.0</td>\n",
              "      <td>2.0</td>\n",
              "      <td>2.0</td>\n",
              "      <td>41.0</td>\n",
              "      <td>3.0</td>\n",
              "      <td>3.0</td>\n",
              "      <td>...</td>\n",
              "      <td>888.0</td>\n",
              "      <td>8.0</td>\n",
              "      <td>0.0</td>\n",
              "      <td>888.0</td>\n",
              "      <td>0.0</td>\n",
              "      <td>888.0</td>\n",
              "      <td>0.0</td>\n",
              "      <td>0.0</td>\n",
              "      <td>0.0</td>\n",
              "      <td>0.0</td>\n",
              "    </tr>\n",
              "    <tr>\n",
              "      <th>3</th>\n",
              "      <td>A651183002</td>\n",
              "      <td>A6511830</td>\n",
              "      <td>2016.0</td>\n",
              "      <td>1.0</td>\n",
              "      <td>1.0</td>\n",
              "      <td>2.0</td>\n",
              "      <td>1.0</td>\n",
              "      <td>39.0</td>\n",
              "      <td>3.0</td>\n",
              "      <td>3.0</td>\n",
              "      <td>...</td>\n",
              "      <td>888.0</td>\n",
              "      <td>8.0</td>\n",
              "      <td>0.0</td>\n",
              "      <td>888.0</td>\n",
              "      <td>1.0</td>\n",
              "      <td>11.0</td>\n",
              "      <td>1.0</td>\n",
              "      <td>0.0</td>\n",
              "      <td>1.0</td>\n",
              "      <td>0.0</td>\n",
              "    </tr>\n",
              "    <tr>\n",
              "      <th>4</th>\n",
              "      <td>A651183003</td>\n",
              "      <td>A6511830</td>\n",
              "      <td>2016.0</td>\n",
              "      <td>1.0</td>\n",
              "      <td>1.0</td>\n",
              "      <td>2.0</td>\n",
              "      <td>2.0</td>\n",
              "      <td>38.0</td>\n",
              "      <td>3.0</td>\n",
              "      <td>3.0</td>\n",
              "      <td>...</td>\n",
              "      <td>888.0</td>\n",
              "      <td>8.0</td>\n",
              "      <td>0.0</td>\n",
              "      <td>888.0</td>\n",
              "      <td>1.0</td>\n",
              "      <td>3.0</td>\n",
              "      <td>0.0</td>\n",
              "      <td>0.0</td>\n",
              "      <td>0.0</td>\n",
              "      <td>0.0</td>\n",
              "    </tr>\n",
              "  </tbody>\n",
              "</table>\n",
              "<p>5 rows × 250 columns</p>\n",
              "</div>\n",
              "    <div class=\"colab-df-buttons\">\n",
              "\n",
              "  <div class=\"colab-df-container\">\n",
              "    <button class=\"colab-df-convert\" onclick=\"convertToInteractive('df-70ed82ad-6a78-4a36-b98e-b2842d175eba')\"\n",
              "            title=\"Convert this dataframe to an interactive table.\"\n",
              "            style=\"display:none;\">\n",
              "\n",
              "  <svg xmlns=\"http://www.w3.org/2000/svg\" height=\"24px\" viewBox=\"0 -960 960 960\">\n",
              "    <path d=\"M120-120v-720h720v720H120Zm60-500h600v-160H180v160Zm220 220h160v-160H400v160Zm0 220h160v-160H400v160ZM180-400h160v-160H180v160Zm440 0h160v-160H620v160ZM180-180h160v-160H180v160Zm440 0h160v-160H620v160Z\"/>\n",
              "  </svg>\n",
              "    </button>\n",
              "\n",
              "  <style>\n",
              "    .colab-df-container {\n",
              "      display:flex;\n",
              "      gap: 12px;\n",
              "    }\n",
              "\n",
              "    .colab-df-convert {\n",
              "      background-color: #E8F0FE;\n",
              "      border: none;\n",
              "      border-radius: 50%;\n",
              "      cursor: pointer;\n",
              "      display: none;\n",
              "      fill: #1967D2;\n",
              "      height: 32px;\n",
              "      padding: 0 0 0 0;\n",
              "      width: 32px;\n",
              "    }\n",
              "\n",
              "    .colab-df-convert:hover {\n",
              "      background-color: #E2EBFA;\n",
              "      box-shadow: 0px 1px 2px rgba(60, 64, 67, 0.3), 0px 1px 3px 1px rgba(60, 64, 67, 0.15);\n",
              "      fill: #174EA6;\n",
              "    }\n",
              "\n",
              "    .colab-df-buttons div {\n",
              "      margin-bottom: 4px;\n",
              "    }\n",
              "\n",
              "    [theme=dark] .colab-df-convert {\n",
              "      background-color: #3B4455;\n",
              "      fill: #D2E3FC;\n",
              "    }\n",
              "\n",
              "    [theme=dark] .colab-df-convert:hover {\n",
              "      background-color: #434B5C;\n",
              "      box-shadow: 0px 1px 3px 1px rgba(0, 0, 0, 0.15);\n",
              "      filter: drop-shadow(0px 1px 2px rgba(0, 0, 0, 0.3));\n",
              "      fill: #FFFFFF;\n",
              "    }\n",
              "  </style>\n",
              "\n",
              "    <script>\n",
              "      const buttonEl =\n",
              "        document.querySelector('#df-70ed82ad-6a78-4a36-b98e-b2842d175eba button.colab-df-convert');\n",
              "      buttonEl.style.display =\n",
              "        google.colab.kernel.accessAllowed ? 'block' : 'none';\n",
              "\n",
              "      async function convertToInteractive(key) {\n",
              "        const element = document.querySelector('#df-70ed82ad-6a78-4a36-b98e-b2842d175eba');\n",
              "        const dataTable =\n",
              "          await google.colab.kernel.invokeFunction('convertToInteractive',\n",
              "                                                    [key], {});\n",
              "        if (!dataTable) return;\n",
              "\n",
              "        const docLinkHtml = 'Like what you see? Visit the ' +\n",
              "          '<a target=\"_blank\" href=https://colab.research.google.com/notebooks/data_table.ipynb>data table notebook</a>'\n",
              "          + ' to learn more about interactive tables.';\n",
              "        element.innerHTML = '';\n",
              "        dataTable['output_type'] = 'display_data';\n",
              "        await google.colab.output.renderOutput(dataTable, element);\n",
              "        const docLink = document.createElement('div');\n",
              "        docLink.innerHTML = docLinkHtml;\n",
              "        element.appendChild(docLink);\n",
              "      }\n",
              "    </script>\n",
              "  </div>\n",
              "\n",
              "\n",
              "<div id=\"df-463d5b44-662f-40c5-9951-1c198c1c2275\">\n",
              "  <button class=\"colab-df-quickchart\" onclick=\"quickchart('df-463d5b44-662f-40c5-9951-1c198c1c2275')\"\n",
              "            title=\"Suggest charts\"\n",
              "            style=\"display:none;\">\n",
              "\n",
              "<svg xmlns=\"http://www.w3.org/2000/svg\" height=\"24px\"viewBox=\"0 0 24 24\"\n",
              "     width=\"24px\">\n",
              "    <g>\n",
              "        <path d=\"M19 3H5c-1.1 0-2 .9-2 2v14c0 1.1.9 2 2 2h14c1.1 0 2-.9 2-2V5c0-1.1-.9-2-2-2zM9 17H7v-7h2v7zm4 0h-2V7h2v10zm4 0h-2v-4h2v4z\"/>\n",
              "    </g>\n",
              "</svg>\n",
              "  </button>\n",
              "\n",
              "<style>\n",
              "  .colab-df-quickchart {\n",
              "      --bg-color: #E8F0FE;\n",
              "      --fill-color: #1967D2;\n",
              "      --hover-bg-color: #E2EBFA;\n",
              "      --hover-fill-color: #174EA6;\n",
              "      --disabled-fill-color: #AAA;\n",
              "      --disabled-bg-color: #DDD;\n",
              "  }\n",
              "\n",
              "  [theme=dark] .colab-df-quickchart {\n",
              "      --bg-color: #3B4455;\n",
              "      --fill-color: #D2E3FC;\n",
              "      --hover-bg-color: #434B5C;\n",
              "      --hover-fill-color: #FFFFFF;\n",
              "      --disabled-bg-color: #3B4455;\n",
              "      --disabled-fill-color: #666;\n",
              "  }\n",
              "\n",
              "  .colab-df-quickchart {\n",
              "    background-color: var(--bg-color);\n",
              "    border: none;\n",
              "    border-radius: 50%;\n",
              "    cursor: pointer;\n",
              "    display: none;\n",
              "    fill: var(--fill-color);\n",
              "    height: 32px;\n",
              "    padding: 0;\n",
              "    width: 32px;\n",
              "  }\n",
              "\n",
              "  .colab-df-quickchart:hover {\n",
              "    background-color: var(--hover-bg-color);\n",
              "    box-shadow: 0 1px 2px rgba(60, 64, 67, 0.3), 0 1px 3px 1px rgba(60, 64, 67, 0.15);\n",
              "    fill: var(--button-hover-fill-color);\n",
              "  }\n",
              "\n",
              "  .colab-df-quickchart-complete:disabled,\n",
              "  .colab-df-quickchart-complete:disabled:hover {\n",
              "    background-color: var(--disabled-bg-color);\n",
              "    fill: var(--disabled-fill-color);\n",
              "    box-shadow: none;\n",
              "  }\n",
              "\n",
              "  .colab-df-spinner {\n",
              "    border: 2px solid var(--fill-color);\n",
              "    border-color: transparent;\n",
              "    border-bottom-color: var(--fill-color);\n",
              "    animation:\n",
              "      spin 1s steps(1) infinite;\n",
              "  }\n",
              "\n",
              "  @keyframes spin {\n",
              "    0% {\n",
              "      border-color: transparent;\n",
              "      border-bottom-color: var(--fill-color);\n",
              "      border-left-color: var(--fill-color);\n",
              "    }\n",
              "    20% {\n",
              "      border-color: transparent;\n",
              "      border-left-color: var(--fill-color);\n",
              "      border-top-color: var(--fill-color);\n",
              "    }\n",
              "    30% {\n",
              "      border-color: transparent;\n",
              "      border-left-color: var(--fill-color);\n",
              "      border-top-color: var(--fill-color);\n",
              "      border-right-color: var(--fill-color);\n",
              "    }\n",
              "    40% {\n",
              "      border-color: transparent;\n",
              "      border-right-color: var(--fill-color);\n",
              "      border-top-color: var(--fill-color);\n",
              "    }\n",
              "    60% {\n",
              "      border-color: transparent;\n",
              "      border-right-color: var(--fill-color);\n",
              "    }\n",
              "    80% {\n",
              "      border-color: transparent;\n",
              "      border-right-color: var(--fill-color);\n",
              "      border-bottom-color: var(--fill-color);\n",
              "    }\n",
              "    90% {\n",
              "      border-color: transparent;\n",
              "      border-bottom-color: var(--fill-color);\n",
              "    }\n",
              "  }\n",
              "</style>\n",
              "\n",
              "  <script>\n",
              "    async function quickchart(key) {\n",
              "      const quickchartButtonEl =\n",
              "        document.querySelector('#' + key + ' button');\n",
              "      quickchartButtonEl.disabled = true;  // To prevent multiple clicks.\n",
              "      quickchartButtonEl.classList.add('colab-df-spinner');\n",
              "      try {\n",
              "        const charts = await google.colab.kernel.invokeFunction(\n",
              "            'suggestCharts', [key], {});\n",
              "      } catch (error) {\n",
              "        console.error('Error during call to suggestCharts:', error);\n",
              "      }\n",
              "      quickchartButtonEl.classList.remove('colab-df-spinner');\n",
              "      quickchartButtonEl.classList.add('colab-df-quickchart-complete');\n",
              "    }\n",
              "    (() => {\n",
              "      let quickchartButtonEl =\n",
              "        document.querySelector('#df-463d5b44-662f-40c5-9951-1c198c1c2275 button');\n",
              "      quickchartButtonEl.style.display =\n",
              "        google.colab.kernel.accessAllowed ? 'block' : 'none';\n",
              "    })();\n",
              "  </script>\n",
              "</div>\n",
              "\n",
              "    </div>\n",
              "  </div>\n"
            ],
            "application/vnd.google.colaboratory.intrinsic+json": {
              "type": "dataframe",
              "variable_name": "df"
            }
          },
          "metadata": {},
          "execution_count": 7
        }
      ]
    },
    {
      "cell_type": "markdown",
      "source": [
        "# 전처리 시작 (정현)"
      ],
      "metadata": {
        "id": "SCjLooPvWx_8"
      }
    },
    {
      "cell_type": "markdown",
      "source": [
        "## train, test 분할"
      ],
      "metadata": {
        "id": "Ors90LQeNv9R"
      }
    },
    {
      "cell_type": "code",
      "source": [
        "my_columns = [\n",
        "    \"시도\", \"동읍\", \"아파트구분\", \"성별\", \"나이\", \"소득4분위\", \"가구소득4분위\",\n",
        "    \"소득5분위\", \"가구소득5분위\", \"교육수준_재분류\", \"가구원수\", \"가구세대구성\", \"기초생활수급여부\",\n",
        "    \"주택소유여부\", \"주택형태\", \"가구총소득\", \"월평균가구총소득\", \"결혼여부\", \"결혼상태\", \"건강보험종류\",\n",
        "    \"민간의료보험가입여부\", \"최근1년주평균아침식사빈도\", \"최근1년주평균점심식사빈도\", \"최근1년주평균저녁식사빈도\",\n",
        "    \"아침_가족외사람동반여부\", \"아침_가족외사람동반대상\", \"점심_가족외사람동반여부\", \"점심_가족외사람동반대상\",\n",
        "    \"저녁_가족외사람동반여부\", \"저녁_가족외사람동반대상\", \"평균외식빈도\", \"2주이상식이보충제복용여부\", \"영양교육및상담경험여부\",\n",
        "    \"영양표시인지여부\", \"영양표시이용여부\", \"식사요법여부\", \"식사요법이유\", \"식사요법이유_기타\", \"물섭취량\", \"에너지섭취량\",\n",
        "    \"단백질섭취량\", \"지방섭취량\", \"콜레스테롤섭취량\", \"탄수화물섭취량\", \"식이섬유섭취량\", \"당섭취량\", \"나트륨섭취량\",\n",
        "    \"가구내식생활관리자여부\", \"식생활형편\", \"천식의사진단여부\", \"천식진단시기\", \"천식약복용\", \"아토피의사진단여부\",\n",
        "    \"아토피진단시기\", \"비염의사진단여부\", \"비염진단시기\", \"고혈압\", \"당뇨병\", \"이상지질혈증\", \"신장질환\"\n",
        "]\n",
        "len(my_columns)\n",
        "df = df[my_columns]\n",
        "df"
      ],
      "metadata": {
        "colab": {
          "base_uri": "https://localhost:8080/",
          "height": 441
        },
        "id": "16xouNMeVUJi",
        "outputId": "cfcdb8c1-8d39-49fd-c0ed-25a271c2df5e"
      },
      "execution_count": null,
      "outputs": [
        {
          "output_type": "execute_result",
          "data": {
            "text/plain": [
              "         시도   동읍  아파트구분   성별    나이  소득4분위  가구소득4분위  소득5분위  가구소득5분위  교육수준_재분류  \\\n",
              "0       1.0  1.0    2.0  1.0  61.0    3.0      3.0    4.0      4.0       4.0   \n",
              "1       1.0  1.0    2.0  2.0  57.0    3.0      3.0    4.0      4.0       4.0   \n",
              "2       1.0  1.0    2.0  2.0  41.0    3.0      3.0    3.0      4.0       4.0   \n",
              "3       1.0  1.0    2.0  1.0  39.0    3.0      3.0    4.0      4.0       4.0   \n",
              "4       1.0  1.0    2.0  2.0  38.0    3.0      3.0    4.0      4.0       4.0   \n",
              "...     ...  ...    ...  ...   ...    ...      ...    ...      ...       ...   \n",
              "55984  16.0  1.0    2.0  1.0  68.0    1.0      1.0    1.0      1.0       1.0   \n",
              "55985  16.0  1.0    2.0  1.0  76.0    3.0      2.0    4.0      2.0       1.0   \n",
              "55986  16.0  1.0    2.0  2.0  62.0    1.0      1.0    1.0      1.0       1.0   \n",
              "55987  16.0  1.0    2.0  1.0  66.0    1.0      1.0    2.0      1.0       1.0   \n",
              "55988  16.0  1.0    2.0  2.0  80.0    3.0      1.0    3.0      1.0       1.0   \n",
              "\n",
              "       ...  천식진단시기  천식약복용  아토피의사진단여부  아토피진단시기  비염의사진단여부  비염진단시기  고혈압  당뇨병  \\\n",
              "0      ...   888.0    8.0        0.0    888.0       1.0    51.0  1.0  1.0   \n",
              "1      ...   888.0    8.0        0.0    888.0       0.0   888.0  0.0  0.0   \n",
              "2      ...   888.0    8.0        0.0    888.0       0.0   888.0  0.0  0.0   \n",
              "3      ...   888.0    8.0        0.0    888.0       1.0    11.0  1.0  0.0   \n",
              "4      ...   888.0    8.0        0.0    888.0       1.0     3.0  0.0  0.0   \n",
              "...    ...     ...    ...        ...      ...       ...     ...  ...  ...   \n",
              "55984  ...   888.0    8.0        1.0     68.0       1.0    68.0  0.0  0.0   \n",
              "55985  ...   888.0    8.0        0.0    888.0       0.0   888.0  0.0  1.0   \n",
              "55986  ...   888.0    8.0        0.0    888.0       0.0   888.0  1.0  1.0   \n",
              "55987  ...   888.0    8.0        0.0    888.0       0.0   888.0  1.0  1.0   \n",
              "55988  ...    80.0    3.0        0.0    888.0       0.0   888.0  1.0  0.0   \n",
              "\n",
              "       이상지질혈증  신장질환  \n",
              "0         0.0   0.0  \n",
              "1         0.0   0.0  \n",
              "2         0.0   0.0  \n",
              "3         1.0   0.0  \n",
              "4         0.0   0.0  \n",
              "...       ...   ...  \n",
              "55984     1.0   0.0  \n",
              "55985     0.0   0.0  \n",
              "55986     1.0   0.0  \n",
              "55987     1.0   0.0  \n",
              "55988     1.0   0.0  \n",
              "\n",
              "[55989 rows x 60 columns]"
            ],
            "text/html": [
              "\n",
              "  <div id=\"df-e0246a6f-9146-44d3-83f3-ce71e33665ef\" class=\"colab-df-container\">\n",
              "    <div>\n",
              "<style scoped>\n",
              "    .dataframe tbody tr th:only-of-type {\n",
              "        vertical-align: middle;\n",
              "    }\n",
              "\n",
              "    .dataframe tbody tr th {\n",
              "        vertical-align: top;\n",
              "    }\n",
              "\n",
              "    .dataframe thead th {\n",
              "        text-align: right;\n",
              "    }\n",
              "</style>\n",
              "<table border=\"1\" class=\"dataframe\">\n",
              "  <thead>\n",
              "    <tr style=\"text-align: right;\">\n",
              "      <th></th>\n",
              "      <th>시도</th>\n",
              "      <th>동읍</th>\n",
              "      <th>아파트구분</th>\n",
              "      <th>성별</th>\n",
              "      <th>나이</th>\n",
              "      <th>소득4분위</th>\n",
              "      <th>가구소득4분위</th>\n",
              "      <th>소득5분위</th>\n",
              "      <th>가구소득5분위</th>\n",
              "      <th>교육수준_재분류</th>\n",
              "      <th>...</th>\n",
              "      <th>천식진단시기</th>\n",
              "      <th>천식약복용</th>\n",
              "      <th>아토피의사진단여부</th>\n",
              "      <th>아토피진단시기</th>\n",
              "      <th>비염의사진단여부</th>\n",
              "      <th>비염진단시기</th>\n",
              "      <th>고혈압</th>\n",
              "      <th>당뇨병</th>\n",
              "      <th>이상지질혈증</th>\n",
              "      <th>신장질환</th>\n",
              "    </tr>\n",
              "  </thead>\n",
              "  <tbody>\n",
              "    <tr>\n",
              "      <th>0</th>\n",
              "      <td>1.0</td>\n",
              "      <td>1.0</td>\n",
              "      <td>2.0</td>\n",
              "      <td>1.0</td>\n",
              "      <td>61.0</td>\n",
              "      <td>3.0</td>\n",
              "      <td>3.0</td>\n",
              "      <td>4.0</td>\n",
              "      <td>4.0</td>\n",
              "      <td>4.0</td>\n",
              "      <td>...</td>\n",
              "      <td>888.0</td>\n",
              "      <td>8.0</td>\n",
              "      <td>0.0</td>\n",
              "      <td>888.0</td>\n",
              "      <td>1.0</td>\n",
              "      <td>51.0</td>\n",
              "      <td>1.0</td>\n",
              "      <td>1.0</td>\n",
              "      <td>0.0</td>\n",
              "      <td>0.0</td>\n",
              "    </tr>\n",
              "    <tr>\n",
              "      <th>1</th>\n",
              "      <td>1.0</td>\n",
              "      <td>1.0</td>\n",
              "      <td>2.0</td>\n",
              "      <td>2.0</td>\n",
              "      <td>57.0</td>\n",
              "      <td>3.0</td>\n",
              "      <td>3.0</td>\n",
              "      <td>4.0</td>\n",
              "      <td>4.0</td>\n",
              "      <td>4.0</td>\n",
              "      <td>...</td>\n",
              "      <td>888.0</td>\n",
              "      <td>8.0</td>\n",
              "      <td>0.0</td>\n",
              "      <td>888.0</td>\n",
              "      <td>0.0</td>\n",
              "      <td>888.0</td>\n",
              "      <td>0.0</td>\n",
              "      <td>0.0</td>\n",
              "      <td>0.0</td>\n",
              "      <td>0.0</td>\n",
              "    </tr>\n",
              "    <tr>\n",
              "      <th>2</th>\n",
              "      <td>1.0</td>\n",
              "      <td>1.0</td>\n",
              "      <td>2.0</td>\n",
              "      <td>2.0</td>\n",
              "      <td>41.0</td>\n",
              "      <td>3.0</td>\n",
              "      <td>3.0</td>\n",
              "      <td>3.0</td>\n",
              "      <td>4.0</td>\n",
              "      <td>4.0</td>\n",
              "      <td>...</td>\n",
              "      <td>888.0</td>\n",
              "      <td>8.0</td>\n",
              "      <td>0.0</td>\n",
              "      <td>888.0</td>\n",
              "      <td>0.0</td>\n",
              "      <td>888.0</td>\n",
              "      <td>0.0</td>\n",
              "      <td>0.0</td>\n",
              "      <td>0.0</td>\n",
              "      <td>0.0</td>\n",
              "    </tr>\n",
              "    <tr>\n",
              "      <th>3</th>\n",
              "      <td>1.0</td>\n",
              "      <td>1.0</td>\n",
              "      <td>2.0</td>\n",
              "      <td>1.0</td>\n",
              "      <td>39.0</td>\n",
              "      <td>3.0</td>\n",
              "      <td>3.0</td>\n",
              "      <td>4.0</td>\n",
              "      <td>4.0</td>\n",
              "      <td>4.0</td>\n",
              "      <td>...</td>\n",
              "      <td>888.0</td>\n",
              "      <td>8.0</td>\n",
              "      <td>0.0</td>\n",
              "      <td>888.0</td>\n",
              "      <td>1.0</td>\n",
              "      <td>11.0</td>\n",
              "      <td>1.0</td>\n",
              "      <td>0.0</td>\n",
              "      <td>1.0</td>\n",
              "      <td>0.0</td>\n",
              "    </tr>\n",
              "    <tr>\n",
              "      <th>4</th>\n",
              "      <td>1.0</td>\n",
              "      <td>1.0</td>\n",
              "      <td>2.0</td>\n",
              "      <td>2.0</td>\n",
              "      <td>38.0</td>\n",
              "      <td>3.0</td>\n",
              "      <td>3.0</td>\n",
              "      <td>4.0</td>\n",
              "      <td>4.0</td>\n",
              "      <td>4.0</td>\n",
              "      <td>...</td>\n",
              "      <td>888.0</td>\n",
              "      <td>8.0</td>\n",
              "      <td>0.0</td>\n",
              "      <td>888.0</td>\n",
              "      <td>1.0</td>\n",
              "      <td>3.0</td>\n",
              "      <td>0.0</td>\n",
              "      <td>0.0</td>\n",
              "      <td>0.0</td>\n",
              "      <td>0.0</td>\n",
              "    </tr>\n",
              "    <tr>\n",
              "      <th>...</th>\n",
              "      <td>...</td>\n",
              "      <td>...</td>\n",
              "      <td>...</td>\n",
              "      <td>...</td>\n",
              "      <td>...</td>\n",
              "      <td>...</td>\n",
              "      <td>...</td>\n",
              "      <td>...</td>\n",
              "      <td>...</td>\n",
              "      <td>...</td>\n",
              "      <td>...</td>\n",
              "      <td>...</td>\n",
              "      <td>...</td>\n",
              "      <td>...</td>\n",
              "      <td>...</td>\n",
              "      <td>...</td>\n",
              "      <td>...</td>\n",
              "      <td>...</td>\n",
              "      <td>...</td>\n",
              "      <td>...</td>\n",
              "      <td>...</td>\n",
              "    </tr>\n",
              "    <tr>\n",
              "      <th>55984</th>\n",
              "      <td>16.0</td>\n",
              "      <td>1.0</td>\n",
              "      <td>2.0</td>\n",
              "      <td>1.0</td>\n",
              "      <td>68.0</td>\n",
              "      <td>1.0</td>\n",
              "      <td>1.0</td>\n",
              "      <td>1.0</td>\n",
              "      <td>1.0</td>\n",
              "      <td>1.0</td>\n",
              "      <td>...</td>\n",
              "      <td>888.0</td>\n",
              "      <td>8.0</td>\n",
              "      <td>1.0</td>\n",
              "      <td>68.0</td>\n",
              "      <td>1.0</td>\n",
              "      <td>68.0</td>\n",
              "      <td>0.0</td>\n",
              "      <td>0.0</td>\n",
              "      <td>1.0</td>\n",
              "      <td>0.0</td>\n",
              "    </tr>\n",
              "    <tr>\n",
              "      <th>55985</th>\n",
              "      <td>16.0</td>\n",
              "      <td>1.0</td>\n",
              "      <td>2.0</td>\n",
              "      <td>1.0</td>\n",
              "      <td>76.0</td>\n",
              "      <td>3.0</td>\n",
              "      <td>2.0</td>\n",
              "      <td>4.0</td>\n",
              "      <td>2.0</td>\n",
              "      <td>1.0</td>\n",
              "      <td>...</td>\n",
              "      <td>888.0</td>\n",
              "      <td>8.0</td>\n",
              "      <td>0.0</td>\n",
              "      <td>888.0</td>\n",
              "      <td>0.0</td>\n",
              "      <td>888.0</td>\n",
              "      <td>0.0</td>\n",
              "      <td>1.0</td>\n",
              "      <td>0.0</td>\n",
              "      <td>0.0</td>\n",
              "    </tr>\n",
              "    <tr>\n",
              "      <th>55986</th>\n",
              "      <td>16.0</td>\n",
              "      <td>1.0</td>\n",
              "      <td>2.0</td>\n",
              "      <td>2.0</td>\n",
              "      <td>62.0</td>\n",
              "      <td>1.0</td>\n",
              "      <td>1.0</td>\n",
              "      <td>1.0</td>\n",
              "      <td>1.0</td>\n",
              "      <td>1.0</td>\n",
              "      <td>...</td>\n",
              "      <td>888.0</td>\n",
              "      <td>8.0</td>\n",
              "      <td>0.0</td>\n",
              "      <td>888.0</td>\n",
              "      <td>0.0</td>\n",
              "      <td>888.0</td>\n",
              "      <td>1.0</td>\n",
              "      <td>1.0</td>\n",
              "      <td>1.0</td>\n",
              "      <td>0.0</td>\n",
              "    </tr>\n",
              "    <tr>\n",
              "      <th>55987</th>\n",
              "      <td>16.0</td>\n",
              "      <td>1.0</td>\n",
              "      <td>2.0</td>\n",
              "      <td>1.0</td>\n",
              "      <td>66.0</td>\n",
              "      <td>1.0</td>\n",
              "      <td>1.0</td>\n",
              "      <td>2.0</td>\n",
              "      <td>1.0</td>\n",
              "      <td>1.0</td>\n",
              "      <td>...</td>\n",
              "      <td>888.0</td>\n",
              "      <td>8.0</td>\n",
              "      <td>0.0</td>\n",
              "      <td>888.0</td>\n",
              "      <td>0.0</td>\n",
              "      <td>888.0</td>\n",
              "      <td>1.0</td>\n",
              "      <td>1.0</td>\n",
              "      <td>1.0</td>\n",
              "      <td>0.0</td>\n",
              "    </tr>\n",
              "    <tr>\n",
              "      <th>55988</th>\n",
              "      <td>16.0</td>\n",
              "      <td>1.0</td>\n",
              "      <td>2.0</td>\n",
              "      <td>2.0</td>\n",
              "      <td>80.0</td>\n",
              "      <td>3.0</td>\n",
              "      <td>1.0</td>\n",
              "      <td>3.0</td>\n",
              "      <td>1.0</td>\n",
              "      <td>1.0</td>\n",
              "      <td>...</td>\n",
              "      <td>80.0</td>\n",
              "      <td>3.0</td>\n",
              "      <td>0.0</td>\n",
              "      <td>888.0</td>\n",
              "      <td>0.0</td>\n",
              "      <td>888.0</td>\n",
              "      <td>1.0</td>\n",
              "      <td>0.0</td>\n",
              "      <td>1.0</td>\n",
              "      <td>0.0</td>\n",
              "    </tr>\n",
              "  </tbody>\n",
              "</table>\n",
              "<p>55989 rows × 60 columns</p>\n",
              "</div>\n",
              "    <div class=\"colab-df-buttons\">\n",
              "\n",
              "  <div class=\"colab-df-container\">\n",
              "    <button class=\"colab-df-convert\" onclick=\"convertToInteractive('df-e0246a6f-9146-44d3-83f3-ce71e33665ef')\"\n",
              "            title=\"Convert this dataframe to an interactive table.\"\n",
              "            style=\"display:none;\">\n",
              "\n",
              "  <svg xmlns=\"http://www.w3.org/2000/svg\" height=\"24px\" viewBox=\"0 -960 960 960\">\n",
              "    <path d=\"M120-120v-720h720v720H120Zm60-500h600v-160H180v160Zm220 220h160v-160H400v160Zm0 220h160v-160H400v160ZM180-400h160v-160H180v160Zm440 0h160v-160H620v160ZM180-180h160v-160H180v160Zm440 0h160v-160H620v160Z\"/>\n",
              "  </svg>\n",
              "    </button>\n",
              "\n",
              "  <style>\n",
              "    .colab-df-container {\n",
              "      display:flex;\n",
              "      gap: 12px;\n",
              "    }\n",
              "\n",
              "    .colab-df-convert {\n",
              "      background-color: #E8F0FE;\n",
              "      border: none;\n",
              "      border-radius: 50%;\n",
              "      cursor: pointer;\n",
              "      display: none;\n",
              "      fill: #1967D2;\n",
              "      height: 32px;\n",
              "      padding: 0 0 0 0;\n",
              "      width: 32px;\n",
              "    }\n",
              "\n",
              "    .colab-df-convert:hover {\n",
              "      background-color: #E2EBFA;\n",
              "      box-shadow: 0px 1px 2px rgba(60, 64, 67, 0.3), 0px 1px 3px 1px rgba(60, 64, 67, 0.15);\n",
              "      fill: #174EA6;\n",
              "    }\n",
              "\n",
              "    .colab-df-buttons div {\n",
              "      margin-bottom: 4px;\n",
              "    }\n",
              "\n",
              "    [theme=dark] .colab-df-convert {\n",
              "      background-color: #3B4455;\n",
              "      fill: #D2E3FC;\n",
              "    }\n",
              "\n",
              "    [theme=dark] .colab-df-convert:hover {\n",
              "      background-color: #434B5C;\n",
              "      box-shadow: 0px 1px 3px 1px rgba(0, 0, 0, 0.15);\n",
              "      filter: drop-shadow(0px 1px 2px rgba(0, 0, 0, 0.3));\n",
              "      fill: #FFFFFF;\n",
              "    }\n",
              "  </style>\n",
              "\n",
              "    <script>\n",
              "      const buttonEl =\n",
              "        document.querySelector('#df-e0246a6f-9146-44d3-83f3-ce71e33665ef button.colab-df-convert');\n",
              "      buttonEl.style.display =\n",
              "        google.colab.kernel.accessAllowed ? 'block' : 'none';\n",
              "\n",
              "      async function convertToInteractive(key) {\n",
              "        const element = document.querySelector('#df-e0246a6f-9146-44d3-83f3-ce71e33665ef');\n",
              "        const dataTable =\n",
              "          await google.colab.kernel.invokeFunction('convertToInteractive',\n",
              "                                                    [key], {});\n",
              "        if (!dataTable) return;\n",
              "\n",
              "        const docLinkHtml = 'Like what you see? Visit the ' +\n",
              "          '<a target=\"_blank\" href=https://colab.research.google.com/notebooks/data_table.ipynb>data table notebook</a>'\n",
              "          + ' to learn more about interactive tables.';\n",
              "        element.innerHTML = '';\n",
              "        dataTable['output_type'] = 'display_data';\n",
              "        await google.colab.output.renderOutput(dataTable, element);\n",
              "        const docLink = document.createElement('div');\n",
              "        docLink.innerHTML = docLinkHtml;\n",
              "        element.appendChild(docLink);\n",
              "      }\n",
              "    </script>\n",
              "  </div>\n",
              "\n",
              "\n",
              "<div id=\"df-a2eba6a9-9247-4932-ac88-23135ad98cae\">\n",
              "  <button class=\"colab-df-quickchart\" onclick=\"quickchart('df-a2eba6a9-9247-4932-ac88-23135ad98cae')\"\n",
              "            title=\"Suggest charts\"\n",
              "            style=\"display:none;\">\n",
              "\n",
              "<svg xmlns=\"http://www.w3.org/2000/svg\" height=\"24px\"viewBox=\"0 0 24 24\"\n",
              "     width=\"24px\">\n",
              "    <g>\n",
              "        <path d=\"M19 3H5c-1.1 0-2 .9-2 2v14c0 1.1.9 2 2 2h14c1.1 0 2-.9 2-2V5c0-1.1-.9-2-2-2zM9 17H7v-7h2v7zm4 0h-2V7h2v10zm4 0h-2v-4h2v4z\"/>\n",
              "    </g>\n",
              "</svg>\n",
              "  </button>\n",
              "\n",
              "<style>\n",
              "  .colab-df-quickchart {\n",
              "      --bg-color: #E8F0FE;\n",
              "      --fill-color: #1967D2;\n",
              "      --hover-bg-color: #E2EBFA;\n",
              "      --hover-fill-color: #174EA6;\n",
              "      --disabled-fill-color: #AAA;\n",
              "      --disabled-bg-color: #DDD;\n",
              "  }\n",
              "\n",
              "  [theme=dark] .colab-df-quickchart {\n",
              "      --bg-color: #3B4455;\n",
              "      --fill-color: #D2E3FC;\n",
              "      --hover-bg-color: #434B5C;\n",
              "      --hover-fill-color: #FFFFFF;\n",
              "      --disabled-bg-color: #3B4455;\n",
              "      --disabled-fill-color: #666;\n",
              "  }\n",
              "\n",
              "  .colab-df-quickchart {\n",
              "    background-color: var(--bg-color);\n",
              "    border: none;\n",
              "    border-radius: 50%;\n",
              "    cursor: pointer;\n",
              "    display: none;\n",
              "    fill: var(--fill-color);\n",
              "    height: 32px;\n",
              "    padding: 0;\n",
              "    width: 32px;\n",
              "  }\n",
              "\n",
              "  .colab-df-quickchart:hover {\n",
              "    background-color: var(--hover-bg-color);\n",
              "    box-shadow: 0 1px 2px rgba(60, 64, 67, 0.3), 0 1px 3px 1px rgba(60, 64, 67, 0.15);\n",
              "    fill: var(--button-hover-fill-color);\n",
              "  }\n",
              "\n",
              "  .colab-df-quickchart-complete:disabled,\n",
              "  .colab-df-quickchart-complete:disabled:hover {\n",
              "    background-color: var(--disabled-bg-color);\n",
              "    fill: var(--disabled-fill-color);\n",
              "    box-shadow: none;\n",
              "  }\n",
              "\n",
              "  .colab-df-spinner {\n",
              "    border: 2px solid var(--fill-color);\n",
              "    border-color: transparent;\n",
              "    border-bottom-color: var(--fill-color);\n",
              "    animation:\n",
              "      spin 1s steps(1) infinite;\n",
              "  }\n",
              "\n",
              "  @keyframes spin {\n",
              "    0% {\n",
              "      border-color: transparent;\n",
              "      border-bottom-color: var(--fill-color);\n",
              "      border-left-color: var(--fill-color);\n",
              "    }\n",
              "    20% {\n",
              "      border-color: transparent;\n",
              "      border-left-color: var(--fill-color);\n",
              "      border-top-color: var(--fill-color);\n",
              "    }\n",
              "    30% {\n",
              "      border-color: transparent;\n",
              "      border-left-color: var(--fill-color);\n",
              "      border-top-color: var(--fill-color);\n",
              "      border-right-color: var(--fill-color);\n",
              "    }\n",
              "    40% {\n",
              "      border-color: transparent;\n",
              "      border-right-color: var(--fill-color);\n",
              "      border-top-color: var(--fill-color);\n",
              "    }\n",
              "    60% {\n",
              "      border-color: transparent;\n",
              "      border-right-color: var(--fill-color);\n",
              "    }\n",
              "    80% {\n",
              "      border-color: transparent;\n",
              "      border-right-color: var(--fill-color);\n",
              "      border-bottom-color: var(--fill-color);\n",
              "    }\n",
              "    90% {\n",
              "      border-color: transparent;\n",
              "      border-bottom-color: var(--fill-color);\n",
              "    }\n",
              "  }\n",
              "</style>\n",
              "\n",
              "  <script>\n",
              "    async function quickchart(key) {\n",
              "      const quickchartButtonEl =\n",
              "        document.querySelector('#' + key + ' button');\n",
              "      quickchartButtonEl.disabled = true;  // To prevent multiple clicks.\n",
              "      quickchartButtonEl.classList.add('colab-df-spinner');\n",
              "      try {\n",
              "        const charts = await google.colab.kernel.invokeFunction(\n",
              "            'suggestCharts', [key], {});\n",
              "      } catch (error) {\n",
              "        console.error('Error during call to suggestCharts:', error);\n",
              "      }\n",
              "      quickchartButtonEl.classList.remove('colab-df-spinner');\n",
              "      quickchartButtonEl.classList.add('colab-df-quickchart-complete');\n",
              "    }\n",
              "    (() => {\n",
              "      let quickchartButtonEl =\n",
              "        document.querySelector('#df-a2eba6a9-9247-4932-ac88-23135ad98cae button');\n",
              "      quickchartButtonEl.style.display =\n",
              "        google.colab.kernel.accessAllowed ? 'block' : 'none';\n",
              "    })();\n",
              "  </script>\n",
              "</div>\n",
              "\n",
              "  <div id=\"id_f5ca0208-d934-41ce-b085-4b3541f1eccd\">\n",
              "    <style>\n",
              "      .colab-df-generate {\n",
              "        background-color: #E8F0FE;\n",
              "        border: none;\n",
              "        border-radius: 50%;\n",
              "        cursor: pointer;\n",
              "        display: none;\n",
              "        fill: #1967D2;\n",
              "        height: 32px;\n",
              "        padding: 0 0 0 0;\n",
              "        width: 32px;\n",
              "      }\n",
              "\n",
              "      .colab-df-generate:hover {\n",
              "        background-color: #E2EBFA;\n",
              "        box-shadow: 0px 1px 2px rgba(60, 64, 67, 0.3), 0px 1px 3px 1px rgba(60, 64, 67, 0.15);\n",
              "        fill: #174EA6;\n",
              "      }\n",
              "\n",
              "      [theme=dark] .colab-df-generate {\n",
              "        background-color: #3B4455;\n",
              "        fill: #D2E3FC;\n",
              "      }\n",
              "\n",
              "      [theme=dark] .colab-df-generate:hover {\n",
              "        background-color: #434B5C;\n",
              "        box-shadow: 0px 1px 3px 1px rgba(0, 0, 0, 0.15);\n",
              "        filter: drop-shadow(0px 1px 2px rgba(0, 0, 0, 0.3));\n",
              "        fill: #FFFFFF;\n",
              "      }\n",
              "    </style>\n",
              "    <button class=\"colab-df-generate\" onclick=\"generateWithVariable('df')\"\n",
              "            title=\"Generate code using this dataframe.\"\n",
              "            style=\"display:none;\">\n",
              "\n",
              "  <svg xmlns=\"http://www.w3.org/2000/svg\" height=\"24px\"viewBox=\"0 0 24 24\"\n",
              "       width=\"24px\">\n",
              "    <path d=\"M7,19H8.4L18.45,9,17,7.55,7,17.6ZM5,21V16.75L18.45,3.32a2,2,0,0,1,2.83,0l1.4,1.43a1.91,1.91,0,0,1,.58,1.4,1.91,1.91,0,0,1-.58,1.4L9.25,21ZM18.45,9,17,7.55Zm-12,3A5.31,5.31,0,0,0,4.9,8.1,5.31,5.31,0,0,0,1,6.5,5.31,5.31,0,0,0,4.9,4.9,5.31,5.31,0,0,0,6.5,1,5.31,5.31,0,0,0,8.1,4.9,5.31,5.31,0,0,0,12,6.5,5.46,5.46,0,0,0,6.5,12Z\"/>\n",
              "  </svg>\n",
              "    </button>\n",
              "    <script>\n",
              "      (() => {\n",
              "      const buttonEl =\n",
              "        document.querySelector('#id_f5ca0208-d934-41ce-b085-4b3541f1eccd button.colab-df-generate');\n",
              "      buttonEl.style.display =\n",
              "        google.colab.kernel.accessAllowed ? 'block' : 'none';\n",
              "\n",
              "      buttonEl.onclick = () => {\n",
              "        google.colab.notebook.generateWithVariable('df');\n",
              "      }\n",
              "      })();\n",
              "    </script>\n",
              "  </div>\n",
              "\n",
              "    </div>\n",
              "  </div>\n"
            ],
            "application/vnd.google.colaboratory.intrinsic+json": {
              "type": "dataframe",
              "variable_name": "df"
            }
          },
          "metadata": {},
          "execution_count": 11
        }
      ]
    },
    {
      "cell_type": "code",
      "source": [
        "df = df.drop(columns=['식사요법이유_기타'])"
      ],
      "metadata": {
        "id": "RzQl0K0_WX-_"
      },
      "execution_count": null,
      "outputs": []
    },
    {
      "cell_type": "code",
      "source": [
        "# 예시: 데이터프레임 df에서 타겟 컬럼 추출 (각 타겟 컬럼은 0과 1로 이루어짐)\n",
        "target_columns = ['고혈압', '당뇨병', '이상지질혈증', '신장질환']\n",
        "\n",
        "# X는 특징 데이터 (타겟 컬럼 제외)\n",
        "x = df.drop(columns=target_columns)\n",
        "\n",
        "# y는 타겟 변수들 (각각 0과 1로 이루어짐)\n",
        "y = df[target_columns].values\n",
        "\n",
        "# MultilabelStratifiedKFold 객체 생성 (n_splits=1로 8:2 비율로 분할)\n",
        "mskf = MultilabelStratifiedKFold(n_splits=5, random_state=42, shuffle=True)\n",
        "\n",
        "# 층화 샘플링을 통한 train, test 데이터 나누기\n",
        "for train_idx, test_idx in mskf.split(x, y):\n",
        "    df, test = x.iloc[train_idx], x.iloc[test_idx]\n",
        "    y_train, y_test = y[train_idx], y[test_idx]\n",
        "    break\n",
        "\n",
        "# 결과 확인\n",
        "print(\"train\", df.shape)\n",
        "print(\"test\", test.shape)"
      ],
      "metadata": {
        "colab": {
          "base_uri": "https://localhost:8080/"
        },
        "id": "F3JjxWINMLIA",
        "outputId": "add4e0d6-866c-4f09-c758-8d5fce4f44b2"
      },
      "execution_count": null,
      "outputs": [
        {
          "output_type": "stream",
          "name": "stdout",
          "text": [
            "train (44791, 55)\n",
            "test (11198, 55)\n"
          ]
        }
      ]
    },
    {
      "cell_type": "code",
      "source": [
        "test_idx[:20]"
      ],
      "metadata": {
        "colab": {
          "base_uri": "https://localhost:8080/"
        },
        "id": "bPJrkam8aIQ0",
        "outputId": "6fbba7a0-2914-4768-cf56-56f5c6364c3b"
      },
      "execution_count": null,
      "outputs": [
        {
          "output_type": "execute_result",
          "data": {
            "text/plain": [
              "array([ 19,  22,  24,  28,  53,  60,  63,  64,  65,  67,  72,  73,  76,\n",
              "        78,  79,  83,  98, 109, 127, 131])"
            ]
          },
          "metadata": {},
          "execution_count": 14
        }
      ]
    },
    {
      "cell_type": "code",
      "source": [
        "test"
      ],
      "metadata": {
        "colab": {
          "base_uri": "https://localhost:8080/",
          "height": 458
        },
        "id": "klQ1XGgAaJ9A",
        "outputId": "9eb4845a-2dd7-4961-cb7b-f1a43def2dac"
      },
      "execution_count": null,
      "outputs": [
        {
          "output_type": "execute_result",
          "data": {
            "text/plain": [
              "         시도   동읍  아파트구분   성별    나이  소득4분위  가구소득4분위  소득5분위  가구소득5분위  교육수준_재분류  \\\n",
              "19      1.0  1.0    2.0  2.0  36.0    4.0      4.0    5.0      5.0       4.0   \n",
              "22      1.0  1.0    2.0  2.0  40.0    4.0      4.0    5.0      5.0       4.0   \n",
              "24      1.0  1.0    2.0  2.0  46.0    4.0      4.0    5.0      5.0       4.0   \n",
              "28      1.0  1.0    2.0  2.0  40.0    2.0      3.0    2.0      3.0       4.0   \n",
              "53      1.0  1.0    2.0  2.0  63.0    1.0      1.0    1.0      1.0       3.0   \n",
              "...     ...  ...    ...  ...   ...    ...      ...    ...      ...       ...   \n",
              "55955  16.0  1.0    1.0  2.0  20.0    4.0      4.0    5.0      4.0       3.0   \n",
              "55958  16.0  1.0    1.0  2.0  34.0    2.0      3.0    3.0      3.0       3.0   \n",
              "55964  16.0  1.0    1.0  1.0  64.0    4.0      4.0    4.0      5.0       3.0   \n",
              "55967  16.0  1.0    1.0  1.0  52.0    2.0      3.0    3.0      3.0       4.0   \n",
              "55985  16.0  1.0    2.0  1.0  76.0    3.0      2.0    4.0      2.0       1.0   \n",
              "\n",
              "       ...       나트륨섭취량  가구내식생활관리자여부  식생활형편  천식의사진단여부  천식진단시기  천식약복용  \\\n",
              "19     ...  2653.384827          1.0    1.0       0.0   888.0    8.0   \n",
              "22     ...  3086.591741          1.0    1.0       0.0   888.0    8.0   \n",
              "24     ...  3352.292780          1.0    1.0       0.0   888.0    8.0   \n",
              "28     ...  3762.208596          1.0    2.0       0.0   888.0    8.0   \n",
              "53     ...  1318.591841          1.0    1.0       0.0   888.0    8.0   \n",
              "...    ...          ...          ...    ...       ...     ...    ...   \n",
              "55955  ...   779.534091          1.0    2.0       0.0   888.0    8.0   \n",
              "55958  ...  5191.259632          1.0    2.0       0.0   888.0    8.0   \n",
              "55964  ...  2415.187373          1.0    1.0       0.0   888.0    8.0   \n",
              "55967  ...  3491.780774          1.0    2.0       0.0   888.0    8.0   \n",
              "55985  ...  4615.603131          2.0    2.0       0.0   888.0    8.0   \n",
              "\n",
              "       아토피의사진단여부  아토피진단시기  비염의사진단여부  비염진단시기  \n",
              "19           0.0    888.0       1.0    15.0  \n",
              "22           0.0    888.0       0.0   888.0  \n",
              "24           0.0    888.0       1.0    25.0  \n",
              "28           0.0    888.0       0.0   888.0  \n",
              "53           0.0    888.0       0.0   888.0  \n",
              "...          ...      ...       ...     ...  \n",
              "55955        0.0    888.0       0.0   888.0  \n",
              "55958        0.0    888.0       0.0   888.0  \n",
              "55964        0.0    888.0       0.0   888.0  \n",
              "55967        0.0    888.0       0.0   888.0  \n",
              "55985        0.0    888.0       0.0   888.0  \n",
              "\n",
              "[11198 rows x 55 columns]"
            ],
            "text/html": [
              "\n",
              "  <div id=\"df-db8e3a23-2903-4a73-b845-3fed63a97605\" class=\"colab-df-container\">\n",
              "    <div>\n",
              "<style scoped>\n",
              "    .dataframe tbody tr th:only-of-type {\n",
              "        vertical-align: middle;\n",
              "    }\n",
              "\n",
              "    .dataframe tbody tr th {\n",
              "        vertical-align: top;\n",
              "    }\n",
              "\n",
              "    .dataframe thead th {\n",
              "        text-align: right;\n",
              "    }\n",
              "</style>\n",
              "<table border=\"1\" class=\"dataframe\">\n",
              "  <thead>\n",
              "    <tr style=\"text-align: right;\">\n",
              "      <th></th>\n",
              "      <th>시도</th>\n",
              "      <th>동읍</th>\n",
              "      <th>아파트구분</th>\n",
              "      <th>성별</th>\n",
              "      <th>나이</th>\n",
              "      <th>소득4분위</th>\n",
              "      <th>가구소득4분위</th>\n",
              "      <th>소득5분위</th>\n",
              "      <th>가구소득5분위</th>\n",
              "      <th>교육수준_재분류</th>\n",
              "      <th>...</th>\n",
              "      <th>나트륨섭취량</th>\n",
              "      <th>가구내식생활관리자여부</th>\n",
              "      <th>식생활형편</th>\n",
              "      <th>천식의사진단여부</th>\n",
              "      <th>천식진단시기</th>\n",
              "      <th>천식약복용</th>\n",
              "      <th>아토피의사진단여부</th>\n",
              "      <th>아토피진단시기</th>\n",
              "      <th>비염의사진단여부</th>\n",
              "      <th>비염진단시기</th>\n",
              "    </tr>\n",
              "  </thead>\n",
              "  <tbody>\n",
              "    <tr>\n",
              "      <th>19</th>\n",
              "      <td>1.0</td>\n",
              "      <td>1.0</td>\n",
              "      <td>2.0</td>\n",
              "      <td>2.0</td>\n",
              "      <td>36.0</td>\n",
              "      <td>4.0</td>\n",
              "      <td>4.0</td>\n",
              "      <td>5.0</td>\n",
              "      <td>5.0</td>\n",
              "      <td>4.0</td>\n",
              "      <td>...</td>\n",
              "      <td>2653.384827</td>\n",
              "      <td>1.0</td>\n",
              "      <td>1.0</td>\n",
              "      <td>0.0</td>\n",
              "      <td>888.0</td>\n",
              "      <td>8.0</td>\n",
              "      <td>0.0</td>\n",
              "      <td>888.0</td>\n",
              "      <td>1.0</td>\n",
              "      <td>15.0</td>\n",
              "    </tr>\n",
              "    <tr>\n",
              "      <th>22</th>\n",
              "      <td>1.0</td>\n",
              "      <td>1.0</td>\n",
              "      <td>2.0</td>\n",
              "      <td>2.0</td>\n",
              "      <td>40.0</td>\n",
              "      <td>4.0</td>\n",
              "      <td>4.0</td>\n",
              "      <td>5.0</td>\n",
              "      <td>5.0</td>\n",
              "      <td>4.0</td>\n",
              "      <td>...</td>\n",
              "      <td>3086.591741</td>\n",
              "      <td>1.0</td>\n",
              "      <td>1.0</td>\n",
              "      <td>0.0</td>\n",
              "      <td>888.0</td>\n",
              "      <td>8.0</td>\n",
              "      <td>0.0</td>\n",
              "      <td>888.0</td>\n",
              "      <td>0.0</td>\n",
              "      <td>888.0</td>\n",
              "    </tr>\n",
              "    <tr>\n",
              "      <th>24</th>\n",
              "      <td>1.0</td>\n",
              "      <td>1.0</td>\n",
              "      <td>2.0</td>\n",
              "      <td>2.0</td>\n",
              "      <td>46.0</td>\n",
              "      <td>4.0</td>\n",
              "      <td>4.0</td>\n",
              "      <td>5.0</td>\n",
              "      <td>5.0</td>\n",
              "      <td>4.0</td>\n",
              "      <td>...</td>\n",
              "      <td>3352.292780</td>\n",
              "      <td>1.0</td>\n",
              "      <td>1.0</td>\n",
              "      <td>0.0</td>\n",
              "      <td>888.0</td>\n",
              "      <td>8.0</td>\n",
              "      <td>0.0</td>\n",
              "      <td>888.0</td>\n",
              "      <td>1.0</td>\n",
              "      <td>25.0</td>\n",
              "    </tr>\n",
              "    <tr>\n",
              "      <th>28</th>\n",
              "      <td>1.0</td>\n",
              "      <td>1.0</td>\n",
              "      <td>2.0</td>\n",
              "      <td>2.0</td>\n",
              "      <td>40.0</td>\n",
              "      <td>2.0</td>\n",
              "      <td>3.0</td>\n",
              "      <td>2.0</td>\n",
              "      <td>3.0</td>\n",
              "      <td>4.0</td>\n",
              "      <td>...</td>\n",
              "      <td>3762.208596</td>\n",
              "      <td>1.0</td>\n",
              "      <td>2.0</td>\n",
              "      <td>0.0</td>\n",
              "      <td>888.0</td>\n",
              "      <td>8.0</td>\n",
              "      <td>0.0</td>\n",
              "      <td>888.0</td>\n",
              "      <td>0.0</td>\n",
              "      <td>888.0</td>\n",
              "    </tr>\n",
              "    <tr>\n",
              "      <th>53</th>\n",
              "      <td>1.0</td>\n",
              "      <td>1.0</td>\n",
              "      <td>2.0</td>\n",
              "      <td>2.0</td>\n",
              "      <td>63.0</td>\n",
              "      <td>1.0</td>\n",
              "      <td>1.0</td>\n",
              "      <td>1.0</td>\n",
              "      <td>1.0</td>\n",
              "      <td>3.0</td>\n",
              "      <td>...</td>\n",
              "      <td>1318.591841</td>\n",
              "      <td>1.0</td>\n",
              "      <td>1.0</td>\n",
              "      <td>0.0</td>\n",
              "      <td>888.0</td>\n",
              "      <td>8.0</td>\n",
              "      <td>0.0</td>\n",
              "      <td>888.0</td>\n",
              "      <td>0.0</td>\n",
              "      <td>888.0</td>\n",
              "    </tr>\n",
              "    <tr>\n",
              "      <th>...</th>\n",
              "      <td>...</td>\n",
              "      <td>...</td>\n",
              "      <td>...</td>\n",
              "      <td>...</td>\n",
              "      <td>...</td>\n",
              "      <td>...</td>\n",
              "      <td>...</td>\n",
              "      <td>...</td>\n",
              "      <td>...</td>\n",
              "      <td>...</td>\n",
              "      <td>...</td>\n",
              "      <td>...</td>\n",
              "      <td>...</td>\n",
              "      <td>...</td>\n",
              "      <td>...</td>\n",
              "      <td>...</td>\n",
              "      <td>...</td>\n",
              "      <td>...</td>\n",
              "      <td>...</td>\n",
              "      <td>...</td>\n",
              "      <td>...</td>\n",
              "    </tr>\n",
              "    <tr>\n",
              "      <th>55955</th>\n",
              "      <td>16.0</td>\n",
              "      <td>1.0</td>\n",
              "      <td>1.0</td>\n",
              "      <td>2.0</td>\n",
              "      <td>20.0</td>\n",
              "      <td>4.0</td>\n",
              "      <td>4.0</td>\n",
              "      <td>5.0</td>\n",
              "      <td>4.0</td>\n",
              "      <td>3.0</td>\n",
              "      <td>...</td>\n",
              "      <td>779.534091</td>\n",
              "      <td>1.0</td>\n",
              "      <td>2.0</td>\n",
              "      <td>0.0</td>\n",
              "      <td>888.0</td>\n",
              "      <td>8.0</td>\n",
              "      <td>0.0</td>\n",
              "      <td>888.0</td>\n",
              "      <td>0.0</td>\n",
              "      <td>888.0</td>\n",
              "    </tr>\n",
              "    <tr>\n",
              "      <th>55958</th>\n",
              "      <td>16.0</td>\n",
              "      <td>1.0</td>\n",
              "      <td>1.0</td>\n",
              "      <td>2.0</td>\n",
              "      <td>34.0</td>\n",
              "      <td>2.0</td>\n",
              "      <td>3.0</td>\n",
              "      <td>3.0</td>\n",
              "      <td>3.0</td>\n",
              "      <td>3.0</td>\n",
              "      <td>...</td>\n",
              "      <td>5191.259632</td>\n",
              "      <td>1.0</td>\n",
              "      <td>2.0</td>\n",
              "      <td>0.0</td>\n",
              "      <td>888.0</td>\n",
              "      <td>8.0</td>\n",
              "      <td>0.0</td>\n",
              "      <td>888.0</td>\n",
              "      <td>0.0</td>\n",
              "      <td>888.0</td>\n",
              "    </tr>\n",
              "    <tr>\n",
              "      <th>55964</th>\n",
              "      <td>16.0</td>\n",
              "      <td>1.0</td>\n",
              "      <td>1.0</td>\n",
              "      <td>1.0</td>\n",
              "      <td>64.0</td>\n",
              "      <td>4.0</td>\n",
              "      <td>4.0</td>\n",
              "      <td>4.0</td>\n",
              "      <td>5.0</td>\n",
              "      <td>3.0</td>\n",
              "      <td>...</td>\n",
              "      <td>2415.187373</td>\n",
              "      <td>1.0</td>\n",
              "      <td>1.0</td>\n",
              "      <td>0.0</td>\n",
              "      <td>888.0</td>\n",
              "      <td>8.0</td>\n",
              "      <td>0.0</td>\n",
              "      <td>888.0</td>\n",
              "      <td>0.0</td>\n",
              "      <td>888.0</td>\n",
              "    </tr>\n",
              "    <tr>\n",
              "      <th>55967</th>\n",
              "      <td>16.0</td>\n",
              "      <td>1.0</td>\n",
              "      <td>1.0</td>\n",
              "      <td>1.0</td>\n",
              "      <td>52.0</td>\n",
              "      <td>2.0</td>\n",
              "      <td>3.0</td>\n",
              "      <td>3.0</td>\n",
              "      <td>3.0</td>\n",
              "      <td>4.0</td>\n",
              "      <td>...</td>\n",
              "      <td>3491.780774</td>\n",
              "      <td>1.0</td>\n",
              "      <td>2.0</td>\n",
              "      <td>0.0</td>\n",
              "      <td>888.0</td>\n",
              "      <td>8.0</td>\n",
              "      <td>0.0</td>\n",
              "      <td>888.0</td>\n",
              "      <td>0.0</td>\n",
              "      <td>888.0</td>\n",
              "    </tr>\n",
              "    <tr>\n",
              "      <th>55985</th>\n",
              "      <td>16.0</td>\n",
              "      <td>1.0</td>\n",
              "      <td>2.0</td>\n",
              "      <td>1.0</td>\n",
              "      <td>76.0</td>\n",
              "      <td>3.0</td>\n",
              "      <td>2.0</td>\n",
              "      <td>4.0</td>\n",
              "      <td>2.0</td>\n",
              "      <td>1.0</td>\n",
              "      <td>...</td>\n",
              "      <td>4615.603131</td>\n",
              "      <td>2.0</td>\n",
              "      <td>2.0</td>\n",
              "      <td>0.0</td>\n",
              "      <td>888.0</td>\n",
              "      <td>8.0</td>\n",
              "      <td>0.0</td>\n",
              "      <td>888.0</td>\n",
              "      <td>0.0</td>\n",
              "      <td>888.0</td>\n",
              "    </tr>\n",
              "  </tbody>\n",
              "</table>\n",
              "<p>11198 rows × 55 columns</p>\n",
              "</div>\n",
              "    <div class=\"colab-df-buttons\">\n",
              "\n",
              "  <div class=\"colab-df-container\">\n",
              "    <button class=\"colab-df-convert\" onclick=\"convertToInteractive('df-db8e3a23-2903-4a73-b845-3fed63a97605')\"\n",
              "            title=\"Convert this dataframe to an interactive table.\"\n",
              "            style=\"display:none;\">\n",
              "\n",
              "  <svg xmlns=\"http://www.w3.org/2000/svg\" height=\"24px\" viewBox=\"0 -960 960 960\">\n",
              "    <path d=\"M120-120v-720h720v720H120Zm60-500h600v-160H180v160Zm220 220h160v-160H400v160Zm0 220h160v-160H400v160ZM180-400h160v-160H180v160Zm440 0h160v-160H620v160ZM180-180h160v-160H180v160Zm440 0h160v-160H620v160Z\"/>\n",
              "  </svg>\n",
              "    </button>\n",
              "\n",
              "  <style>\n",
              "    .colab-df-container {\n",
              "      display:flex;\n",
              "      gap: 12px;\n",
              "    }\n",
              "\n",
              "    .colab-df-convert {\n",
              "      background-color: #E8F0FE;\n",
              "      border: none;\n",
              "      border-radius: 50%;\n",
              "      cursor: pointer;\n",
              "      display: none;\n",
              "      fill: #1967D2;\n",
              "      height: 32px;\n",
              "      padding: 0 0 0 0;\n",
              "      width: 32px;\n",
              "    }\n",
              "\n",
              "    .colab-df-convert:hover {\n",
              "      background-color: #E2EBFA;\n",
              "      box-shadow: 0px 1px 2px rgba(60, 64, 67, 0.3), 0px 1px 3px 1px rgba(60, 64, 67, 0.15);\n",
              "      fill: #174EA6;\n",
              "    }\n",
              "\n",
              "    .colab-df-buttons div {\n",
              "      margin-bottom: 4px;\n",
              "    }\n",
              "\n",
              "    [theme=dark] .colab-df-convert {\n",
              "      background-color: #3B4455;\n",
              "      fill: #D2E3FC;\n",
              "    }\n",
              "\n",
              "    [theme=dark] .colab-df-convert:hover {\n",
              "      background-color: #434B5C;\n",
              "      box-shadow: 0px 1px 3px 1px rgba(0, 0, 0, 0.15);\n",
              "      filter: drop-shadow(0px 1px 2px rgba(0, 0, 0, 0.3));\n",
              "      fill: #FFFFFF;\n",
              "    }\n",
              "  </style>\n",
              "\n",
              "    <script>\n",
              "      const buttonEl =\n",
              "        document.querySelector('#df-db8e3a23-2903-4a73-b845-3fed63a97605 button.colab-df-convert');\n",
              "      buttonEl.style.display =\n",
              "        google.colab.kernel.accessAllowed ? 'block' : 'none';\n",
              "\n",
              "      async function convertToInteractive(key) {\n",
              "        const element = document.querySelector('#df-db8e3a23-2903-4a73-b845-3fed63a97605');\n",
              "        const dataTable =\n",
              "          await google.colab.kernel.invokeFunction('convertToInteractive',\n",
              "                                                    [key], {});\n",
              "        if (!dataTable) return;\n",
              "\n",
              "        const docLinkHtml = 'Like what you see? Visit the ' +\n",
              "          '<a target=\"_blank\" href=https://colab.research.google.com/notebooks/data_table.ipynb>data table notebook</a>'\n",
              "          + ' to learn more about interactive tables.';\n",
              "        element.innerHTML = '';\n",
              "        dataTable['output_type'] = 'display_data';\n",
              "        await google.colab.output.renderOutput(dataTable, element);\n",
              "        const docLink = document.createElement('div');\n",
              "        docLink.innerHTML = docLinkHtml;\n",
              "        element.appendChild(docLink);\n",
              "      }\n",
              "    </script>\n",
              "  </div>\n",
              "\n",
              "\n",
              "<div id=\"df-00f8992b-8ca6-4e7f-be56-cb0af6ee2215\">\n",
              "  <button class=\"colab-df-quickchart\" onclick=\"quickchart('df-00f8992b-8ca6-4e7f-be56-cb0af6ee2215')\"\n",
              "            title=\"Suggest charts\"\n",
              "            style=\"display:none;\">\n",
              "\n",
              "<svg xmlns=\"http://www.w3.org/2000/svg\" height=\"24px\"viewBox=\"0 0 24 24\"\n",
              "     width=\"24px\">\n",
              "    <g>\n",
              "        <path d=\"M19 3H5c-1.1 0-2 .9-2 2v14c0 1.1.9 2 2 2h14c1.1 0 2-.9 2-2V5c0-1.1-.9-2-2-2zM9 17H7v-7h2v7zm4 0h-2V7h2v10zm4 0h-2v-4h2v4z\"/>\n",
              "    </g>\n",
              "</svg>\n",
              "  </button>\n",
              "\n",
              "<style>\n",
              "  .colab-df-quickchart {\n",
              "      --bg-color: #E8F0FE;\n",
              "      --fill-color: #1967D2;\n",
              "      --hover-bg-color: #E2EBFA;\n",
              "      --hover-fill-color: #174EA6;\n",
              "      --disabled-fill-color: #AAA;\n",
              "      --disabled-bg-color: #DDD;\n",
              "  }\n",
              "\n",
              "  [theme=dark] .colab-df-quickchart {\n",
              "      --bg-color: #3B4455;\n",
              "      --fill-color: #D2E3FC;\n",
              "      --hover-bg-color: #434B5C;\n",
              "      --hover-fill-color: #FFFFFF;\n",
              "      --disabled-bg-color: #3B4455;\n",
              "      --disabled-fill-color: #666;\n",
              "  }\n",
              "\n",
              "  .colab-df-quickchart {\n",
              "    background-color: var(--bg-color);\n",
              "    border: none;\n",
              "    border-radius: 50%;\n",
              "    cursor: pointer;\n",
              "    display: none;\n",
              "    fill: var(--fill-color);\n",
              "    height: 32px;\n",
              "    padding: 0;\n",
              "    width: 32px;\n",
              "  }\n",
              "\n",
              "  .colab-df-quickchart:hover {\n",
              "    background-color: var(--hover-bg-color);\n",
              "    box-shadow: 0 1px 2px rgba(60, 64, 67, 0.3), 0 1px 3px 1px rgba(60, 64, 67, 0.15);\n",
              "    fill: var(--button-hover-fill-color);\n",
              "  }\n",
              "\n",
              "  .colab-df-quickchart-complete:disabled,\n",
              "  .colab-df-quickchart-complete:disabled:hover {\n",
              "    background-color: var(--disabled-bg-color);\n",
              "    fill: var(--disabled-fill-color);\n",
              "    box-shadow: none;\n",
              "  }\n",
              "\n",
              "  .colab-df-spinner {\n",
              "    border: 2px solid var(--fill-color);\n",
              "    border-color: transparent;\n",
              "    border-bottom-color: var(--fill-color);\n",
              "    animation:\n",
              "      spin 1s steps(1) infinite;\n",
              "  }\n",
              "\n",
              "  @keyframes spin {\n",
              "    0% {\n",
              "      border-color: transparent;\n",
              "      border-bottom-color: var(--fill-color);\n",
              "      border-left-color: var(--fill-color);\n",
              "    }\n",
              "    20% {\n",
              "      border-color: transparent;\n",
              "      border-left-color: var(--fill-color);\n",
              "      border-top-color: var(--fill-color);\n",
              "    }\n",
              "    30% {\n",
              "      border-color: transparent;\n",
              "      border-left-color: var(--fill-color);\n",
              "      border-top-color: var(--fill-color);\n",
              "      border-right-color: var(--fill-color);\n",
              "    }\n",
              "    40% {\n",
              "      border-color: transparent;\n",
              "      border-right-color: var(--fill-color);\n",
              "      border-top-color: var(--fill-color);\n",
              "    }\n",
              "    60% {\n",
              "      border-color: transparent;\n",
              "      border-right-color: var(--fill-color);\n",
              "    }\n",
              "    80% {\n",
              "      border-color: transparent;\n",
              "      border-right-color: var(--fill-color);\n",
              "      border-bottom-color: var(--fill-color);\n",
              "    }\n",
              "    90% {\n",
              "      border-color: transparent;\n",
              "      border-bottom-color: var(--fill-color);\n",
              "    }\n",
              "  }\n",
              "</style>\n",
              "\n",
              "  <script>\n",
              "    async function quickchart(key) {\n",
              "      const quickchartButtonEl =\n",
              "        document.querySelector('#' + key + ' button');\n",
              "      quickchartButtonEl.disabled = true;  // To prevent multiple clicks.\n",
              "      quickchartButtonEl.classList.add('colab-df-spinner');\n",
              "      try {\n",
              "        const charts = await google.colab.kernel.invokeFunction(\n",
              "            'suggestCharts', [key], {});\n",
              "      } catch (error) {\n",
              "        console.error('Error during call to suggestCharts:', error);\n",
              "      }\n",
              "      quickchartButtonEl.classList.remove('colab-df-spinner');\n",
              "      quickchartButtonEl.classList.add('colab-df-quickchart-complete');\n",
              "    }\n",
              "    (() => {\n",
              "      let quickchartButtonEl =\n",
              "        document.querySelector('#df-00f8992b-8ca6-4e7f-be56-cb0af6ee2215 button');\n",
              "      quickchartButtonEl.style.display =\n",
              "        google.colab.kernel.accessAllowed ? 'block' : 'none';\n",
              "    })();\n",
              "  </script>\n",
              "</div>\n",
              "\n",
              "  <div id=\"id_b0b30929-953d-43c6-baab-403c09cd6f09\">\n",
              "    <style>\n",
              "      .colab-df-generate {\n",
              "        background-color: #E8F0FE;\n",
              "        border: none;\n",
              "        border-radius: 50%;\n",
              "        cursor: pointer;\n",
              "        display: none;\n",
              "        fill: #1967D2;\n",
              "        height: 32px;\n",
              "        padding: 0 0 0 0;\n",
              "        width: 32px;\n",
              "      }\n",
              "\n",
              "      .colab-df-generate:hover {\n",
              "        background-color: #E2EBFA;\n",
              "        box-shadow: 0px 1px 2px rgba(60, 64, 67, 0.3), 0px 1px 3px 1px rgba(60, 64, 67, 0.15);\n",
              "        fill: #174EA6;\n",
              "      }\n",
              "\n",
              "      [theme=dark] .colab-df-generate {\n",
              "        background-color: #3B4455;\n",
              "        fill: #D2E3FC;\n",
              "      }\n",
              "\n",
              "      [theme=dark] .colab-df-generate:hover {\n",
              "        background-color: #434B5C;\n",
              "        box-shadow: 0px 1px 3px 1px rgba(0, 0, 0, 0.15);\n",
              "        filter: drop-shadow(0px 1px 2px rgba(0, 0, 0, 0.3));\n",
              "        fill: #FFFFFF;\n",
              "      }\n",
              "    </style>\n",
              "    <button class=\"colab-df-generate\" onclick=\"generateWithVariable('test')\"\n",
              "            title=\"Generate code using this dataframe.\"\n",
              "            style=\"display:none;\">\n",
              "\n",
              "  <svg xmlns=\"http://www.w3.org/2000/svg\" height=\"24px\"viewBox=\"0 0 24 24\"\n",
              "       width=\"24px\">\n",
              "    <path d=\"M7,19H8.4L18.45,9,17,7.55,7,17.6ZM5,21V16.75L18.45,3.32a2,2,0,0,1,2.83,0l1.4,1.43a1.91,1.91,0,0,1,.58,1.4,1.91,1.91,0,0,1-.58,1.4L9.25,21ZM18.45,9,17,7.55Zm-12,3A5.31,5.31,0,0,0,4.9,8.1,5.31,5.31,0,0,0,1,6.5,5.31,5.31,0,0,0,4.9,4.9,5.31,5.31,0,0,0,6.5,1,5.31,5.31,0,0,0,8.1,4.9,5.31,5.31,0,0,0,12,6.5,5.46,5.46,0,0,0,6.5,12Z\"/>\n",
              "  </svg>\n",
              "    </button>\n",
              "    <script>\n",
              "      (() => {\n",
              "      const buttonEl =\n",
              "        document.querySelector('#id_b0b30929-953d-43c6-baab-403c09cd6f09 button.colab-df-generate');\n",
              "      buttonEl.style.display =\n",
              "        google.colab.kernel.accessAllowed ? 'block' : 'none';\n",
              "\n",
              "      buttonEl.onclick = () => {\n",
              "        google.colab.notebook.generateWithVariable('test');\n",
              "      }\n",
              "      })();\n",
              "    </script>\n",
              "  </div>\n",
              "\n",
              "    </div>\n",
              "  </div>\n"
            ],
            "application/vnd.google.colaboratory.intrinsic+json": {
              "type": "dataframe",
              "variable_name": "test"
            }
          },
          "metadata": {},
          "execution_count": 15
        }
      ]
    },
    {
      "cell_type": "markdown",
      "source": [
        "# 추가컬럼들"
      ],
      "metadata": {
        "id": "j9ES8lvNiWZ2"
      }
    },
    {
      "cell_type": "markdown",
      "source": [
        "## 나이범주"
      ],
      "metadata": {
        "id": "bJf9y7K4iaj4"
      }
    },
    {
      "cell_type": "code",
      "source": [
        "# 나이를 10년 단위로 범주화\n",
        "bins = list(range(10, 90, 10)) + [float('inf')]  # 10 단위로 나누고, 100+는 별도 범주\n",
        "labels = [f\"{i}대\" for i in range(10, 90, 10)]\n",
        "df[\"나이범주\"] = pd.cut(df[\"나이\"], bins=bins, labels=labels, right=False)"
      ],
      "metadata": {
        "id": "vLkt7KsRiYLs",
        "colab": {
          "base_uri": "https://localhost:8080/"
        },
        "outputId": "731fa954-d09b-4ece-f60b-b8db028acf66"
      },
      "execution_count": null,
      "outputs": [
        {
          "output_type": "stream",
          "name": "stderr",
          "text": [
            "<ipython-input-16-4de1fe182d2e>:4: SettingWithCopyWarning: \n",
            "A value is trying to be set on a copy of a slice from a DataFrame.\n",
            "Try using .loc[row_indexer,col_indexer] = value instead\n",
            "\n",
            "See the caveats in the documentation: https://pandas.pydata.org/pandas-docs/stable/user_guide/indexing.html#returning-a-view-versus-a-copy\n",
            "  df[\"나이범주\"] = pd.cut(df[\"나이\"], bins=bins, labels=labels, right=False)\n"
          ]
        }
      ]
    },
    {
      "cell_type": "code",
      "source": [
        "test[\"나이범주\"] = pd.cut(test[\"나이\"], bins=bins, labels=labels, right=False)"
      ],
      "metadata": {
        "colab": {
          "base_uri": "https://localhost:8080/"
        },
        "id": "CIQJ_mUnisl7",
        "outputId": "3e95630f-4618-46ac-d208-0ba3377f82fb"
      },
      "execution_count": null,
      "outputs": [
        {
          "output_type": "stream",
          "name": "stderr",
          "text": [
            "<ipython-input-17-8070b3442bb3>:1: SettingWithCopyWarning: \n",
            "A value is trying to be set on a copy of a slice from a DataFrame.\n",
            "Try using .loc[row_indexer,col_indexer] = value instead\n",
            "\n",
            "See the caveats in the documentation: https://pandas.pydata.org/pandas-docs/stable/user_guide/indexing.html#returning-a-view-versus-a-copy\n",
            "  test[\"나이범주\"] = pd.cut(test[\"나이\"], bins=bins, labels=labels, right=False)\n"
          ]
        }
      ]
    },
    {
      "cell_type": "markdown",
      "source": [
        "## 11~14 (소득분위수)\n",
        "- 4분위수의 경우\n",
        "  - 1:하, 2:중하, 3:중상, 4:상\n",
        "- 5분위수의 경우\n",
        "  - 1:하, 2:중하, 3:중, 4:중상, 5:상"
      ],
      "metadata": {
        "id": "8f0RnxwZlK87"
      }
    },
    {
      "cell_type": "markdown",
      "source": [
        "- 소득4분위수"
      ],
      "metadata": {
        "id": "fYe7XvqBmuK5"
      }
    },
    {
      "cell_type": "code",
      "source": [
        "df[\"소득4분위\"] = df[\"소득4분위\"].fillna(9)\n",
        "test[\"소득4분위\"] = test[\"소득4분위\"].fillna(9)"
      ],
      "metadata": {
        "id": "6Y21dI3sl4II",
        "colab": {
          "base_uri": "https://localhost:8080/"
        },
        "outputId": "3e714a2e-5776-4964-b2a7-f890aa506cf5"
      },
      "execution_count": null,
      "outputs": [
        {
          "output_type": "stream",
          "name": "stderr",
          "text": [
            "<ipython-input-18-426e691680ac>:1: SettingWithCopyWarning: \n",
            "A value is trying to be set on a copy of a slice from a DataFrame.\n",
            "Try using .loc[row_indexer,col_indexer] = value instead\n",
            "\n",
            "See the caveats in the documentation: https://pandas.pydata.org/pandas-docs/stable/user_guide/indexing.html#returning-a-view-versus-a-copy\n",
            "  df[\"소득4분위\"] = df[\"소득4분위\"].fillna(9)\n",
            "<ipython-input-18-426e691680ac>:2: SettingWithCopyWarning: \n",
            "A value is trying to be set on a copy of a slice from a DataFrame.\n",
            "Try using .loc[row_indexer,col_indexer] = value instead\n",
            "\n",
            "See the caveats in the documentation: https://pandas.pydata.org/pandas-docs/stable/user_guide/indexing.html#returning-a-view-versus-a-copy\n",
            "  test[\"소득4분위\"] = test[\"소득4분위\"].fillna(9)\n"
          ]
        }
      ]
    },
    {
      "cell_type": "markdown",
      "source": [
        "- 가구소득4분위수"
      ],
      "metadata": {
        "id": "WZRKcowbmxuE"
      }
    },
    {
      "cell_type": "code",
      "source": [
        "df[\"가구소득4분위\"] = df[\"가구소득4분위\"].fillna(9)\n",
        "test[\"가구소득4분위\"] = test[\"가구소득4분위\"].fillna(9)"
      ],
      "metadata": {
        "id": "u3eKNTd0l09s",
        "colab": {
          "base_uri": "https://localhost:8080/"
        },
        "outputId": "593464f8-e558-4116-d7cd-e007658cfbe2"
      },
      "execution_count": null,
      "outputs": [
        {
          "output_type": "stream",
          "name": "stderr",
          "text": [
            "<ipython-input-19-d02e16352639>:1: SettingWithCopyWarning: \n",
            "A value is trying to be set on a copy of a slice from a DataFrame.\n",
            "Try using .loc[row_indexer,col_indexer] = value instead\n",
            "\n",
            "See the caveats in the documentation: https://pandas.pydata.org/pandas-docs/stable/user_guide/indexing.html#returning-a-view-versus-a-copy\n",
            "  df[\"가구소득4분위\"] = df[\"가구소득4분위\"].fillna(9)\n",
            "<ipython-input-19-d02e16352639>:2: SettingWithCopyWarning: \n",
            "A value is trying to be set on a copy of a slice from a DataFrame.\n",
            "Try using .loc[row_indexer,col_indexer] = value instead\n",
            "\n",
            "See the caveats in the documentation: https://pandas.pydata.org/pandas-docs/stable/user_guide/indexing.html#returning-a-view-versus-a-copy\n",
            "  test[\"가구소득4분위\"] = test[\"가구소득4분위\"].fillna(9)\n"
          ]
        }
      ]
    },
    {
      "cell_type": "markdown",
      "source": [
        "- 소득5분위수"
      ],
      "metadata": {
        "id": "qWVPaNKSnAtR"
      }
    },
    {
      "cell_type": "code",
      "source": [
        "df[\"소득5분위\"] = df[\"소득5분위\"].fillna(9)\n",
        "test[\"소득5분위\"] = test[\"소득5분위\"].fillna(9)"
      ],
      "metadata": {
        "id": "PNq5aYTWlqhl",
        "colab": {
          "base_uri": "https://localhost:8080/"
        },
        "outputId": "957f7021-3ef7-45db-af04-a47049ebdcf0"
      },
      "execution_count": null,
      "outputs": [
        {
          "output_type": "stream",
          "name": "stderr",
          "text": [
            "<ipython-input-20-7a6b7e486832>:1: SettingWithCopyWarning: \n",
            "A value is trying to be set on a copy of a slice from a DataFrame.\n",
            "Try using .loc[row_indexer,col_indexer] = value instead\n",
            "\n",
            "See the caveats in the documentation: https://pandas.pydata.org/pandas-docs/stable/user_guide/indexing.html#returning-a-view-versus-a-copy\n",
            "  df[\"소득5분위\"] = df[\"소득5분위\"].fillna(9)\n",
            "<ipython-input-20-7a6b7e486832>:2: SettingWithCopyWarning: \n",
            "A value is trying to be set on a copy of a slice from a DataFrame.\n",
            "Try using .loc[row_indexer,col_indexer] = value instead\n",
            "\n",
            "See the caveats in the documentation: https://pandas.pydata.org/pandas-docs/stable/user_guide/indexing.html#returning-a-view-versus-a-copy\n",
            "  test[\"소득5분위\"] = test[\"소득5분위\"].fillna(9)\n"
          ]
        }
      ]
    },
    {
      "cell_type": "markdown",
      "source": [
        "- 가구소득5분위수"
      ],
      "metadata": {
        "id": "osnbs67wnayX"
      }
    },
    {
      "cell_type": "code",
      "source": [
        "df[\"가구소득5분위\"] = df[\"가구소득5분위\"].fillna(9)\n",
        "test[\"가구소득5분위\"] = test[\"가구소득5분위\"].fillna(9)"
      ],
      "metadata": {
        "id": "Thd1s2wllxBw",
        "colab": {
          "base_uri": "https://localhost:8080/"
        },
        "outputId": "55a6ac50-cabd-41d0-b008-3fd174bdeb57"
      },
      "execution_count": null,
      "outputs": [
        {
          "output_type": "stream",
          "name": "stderr",
          "text": [
            "<ipython-input-21-86f8e5da6fb5>:1: SettingWithCopyWarning: \n",
            "A value is trying to be set on a copy of a slice from a DataFrame.\n",
            "Try using .loc[row_indexer,col_indexer] = value instead\n",
            "\n",
            "See the caveats in the documentation: https://pandas.pydata.org/pandas-docs/stable/user_guide/indexing.html#returning-a-view-versus-a-copy\n",
            "  df[\"가구소득5분위\"] = df[\"가구소득5분위\"].fillna(9)\n",
            "<ipython-input-21-86f8e5da6fb5>:2: SettingWithCopyWarning: \n",
            "A value is trying to be set on a copy of a slice from a DataFrame.\n",
            "Try using .loc[row_indexer,col_indexer] = value instead\n",
            "\n",
            "See the caveats in the documentation: https://pandas.pydata.org/pandas-docs/stable/user_guide/indexing.html#returning-a-view-versus-a-copy\n",
            "  test[\"가구소득5분위\"] = test[\"가구소득5분위\"].fillna(9)\n"
          ]
        }
      ]
    },
    {
      "cell_type": "markdown",
      "source": [
        "## 15 (교육수준_재분류)"
      ],
      "metadata": {
        "id": "9YXsoZSqn02b"
      }
    },
    {
      "cell_type": "code",
      "source": [
        "# 나이범주별 최빈값 계산\n",
        "mode_by_age_group = df.groupby(\"나이범주\")[\"교육수준_재분류\"].apply(lambda x: x.mode().iloc[0] if not x.mode().empty else None)\n",
        "\n",
        "# 결측값 채우기\n",
        "df[\"교육수준_재분류\"] = df.apply(\n",
        "    lambda row: mode_by_age_group[row[\"나이범주\"]] if pd.isnull(row[\"교육수준_재분류\"]) else row[\"교육수준_재분류\"], axis=1\n",
        ")"
      ],
      "metadata": {
        "colab": {
          "base_uri": "https://localhost:8080/"
        },
        "id": "idTrhc2RnCQJ",
        "outputId": "1e2363b7-cd2c-40cb-c7ad-841e81c0b41d"
      },
      "execution_count": null,
      "outputs": [
        {
          "output_type": "stream",
          "name": "stderr",
          "text": [
            "<ipython-input-22-81e812c48b28>:2: FutureWarning: The default of observed=False is deprecated and will be changed to True in a future version of pandas. Pass observed=False to retain current behavior or observed=True to adopt the future default and silence this warning.\n",
            "  mode_by_age_group = df.groupby(\"나이범주\")[\"교육수준_재분류\"].apply(lambda x: x.mode().iloc[0] if not x.mode().empty else None)\n",
            "<ipython-input-22-81e812c48b28>:5: SettingWithCopyWarning: \n",
            "A value is trying to be set on a copy of a slice from a DataFrame.\n",
            "Try using .loc[row_indexer,col_indexer] = value instead\n",
            "\n",
            "See the caveats in the documentation: https://pandas.pydata.org/pandas-docs/stable/user_guide/indexing.html#returning-a-view-versus-a-copy\n",
            "  df[\"교육수준_재분류\"] = df.apply(\n"
          ]
        }
      ]
    },
    {
      "cell_type": "code",
      "source": [
        "test[\"교육수준_재분류\"] = test.apply(\n",
        "    lambda row: mode_by_age_group[row[\"나이범주\"]] if pd.isnull(row[\"교육수준_재분류\"]) else row[\"교육수준_재분류\"], axis=1\n",
        ")"
      ],
      "metadata": {
        "colab": {
          "base_uri": "https://localhost:8080/"
        },
        "id": "QxBfDv5a2in-",
        "outputId": "15a69f65-6ed3-455c-924e-41e6e20df1a1"
      },
      "execution_count": null,
      "outputs": [
        {
          "output_type": "stream",
          "name": "stderr",
          "text": [
            "<ipython-input-23-04a4f1365b07>:1: SettingWithCopyWarning: \n",
            "A value is trying to be set on a copy of a slice from a DataFrame.\n",
            "Try using .loc[row_indexer,col_indexer] = value instead\n",
            "\n",
            "See the caveats in the documentation: https://pandas.pydata.org/pandas-docs/stable/user_guide/indexing.html#returning-a-view-versus-a-copy\n",
            "  test[\"교육수준_재분류\"] = test.apply(\n"
          ]
        }
      ]
    },
    {
      "cell_type": "code",
      "source": [
        "df[\"교육수준_재분류\"].isnull().sum(), test[\"교육수준_재분류\"].isnull().sum()"
      ],
      "metadata": {
        "colab": {
          "base_uri": "https://localhost:8080/"
        },
        "id": "a-kp5H_fnrtF",
        "outputId": "30ee20ec-f564-4f40-b2a1-733a4d82e469"
      },
      "execution_count": null,
      "outputs": [
        {
          "output_type": "execute_result",
          "data": {
            "text/plain": [
              "(0, 0)"
            ]
          },
          "metadata": {},
          "execution_count": 24
        }
      ]
    },
    {
      "cell_type": "markdown",
      "source": [
        "## 19 (기초생활수급 여부)\n",
        "- 10: 수급경험 있음(과거 또는 현재), 20: 수급경험 없음, 99: 모름/무응답\n",
        "- 모름/무응답 중 소득4분위수가 하로 나오는 사람들 기초생활수급여부에 예로 바꿈. 나머지는 그대로 무응답처리"
      ],
      "metadata": {
        "id": "UYwOPmRns8-0"
      }
    },
    {
      "cell_type": "code",
      "source": [
        "df[\"기초생활수급여부\"].value_counts()"
      ],
      "metadata": {
        "colab": {
          "base_uri": "https://localhost:8080/",
          "height": 210
        },
        "id": "lnSfUQNxrQap",
        "outputId": "7ead8975-19ae-4d94-a7d7-a204f5893657"
      },
      "execution_count": null,
      "outputs": [
        {
          "output_type": "execute_result",
          "data": {
            "text/plain": [
              "기초생활수급여부\n",
              "20.0    41747\n",
              "10.0     3014\n",
              "99.0       30\n",
              "Name: count, dtype: int64"
            ],
            "text/html": [
              "<div>\n",
              "<style scoped>\n",
              "    .dataframe tbody tr th:only-of-type {\n",
              "        vertical-align: middle;\n",
              "    }\n",
              "\n",
              "    .dataframe tbody tr th {\n",
              "        vertical-align: top;\n",
              "    }\n",
              "\n",
              "    .dataframe thead th {\n",
              "        text-align: right;\n",
              "    }\n",
              "</style>\n",
              "<table border=\"1\" class=\"dataframe\">\n",
              "  <thead>\n",
              "    <tr style=\"text-align: right;\">\n",
              "      <th></th>\n",
              "      <th>count</th>\n",
              "    </tr>\n",
              "    <tr>\n",
              "      <th>기초생활수급여부</th>\n",
              "      <th></th>\n",
              "    </tr>\n",
              "  </thead>\n",
              "  <tbody>\n",
              "    <tr>\n",
              "      <th>20.0</th>\n",
              "      <td>41747</td>\n",
              "    </tr>\n",
              "    <tr>\n",
              "      <th>10.0</th>\n",
              "      <td>3014</td>\n",
              "    </tr>\n",
              "    <tr>\n",
              "      <th>99.0</th>\n",
              "      <td>30</td>\n",
              "    </tr>\n",
              "  </tbody>\n",
              "</table>\n",
              "</div><br><label><b>dtype:</b> int64</label>"
            ]
          },
          "metadata": {},
          "execution_count": 25
        }
      ]
    },
    {
      "cell_type": "code",
      "source": [
        "df[\"기초생활수급여부\"].isnull().sum()"
      ],
      "metadata": {
        "colab": {
          "base_uri": "https://localhost:8080/"
        },
        "id": "v8U8x3vZrQXy",
        "outputId": "87af6a05-3e0b-4999-a6fe-ea9d6f04c685"
      },
      "execution_count": null,
      "outputs": [
        {
          "output_type": "execute_result",
          "data": {
            "text/plain": [
              "0"
            ]
          },
          "metadata": {},
          "execution_count": 26
        }
      ]
    },
    {
      "cell_type": "code",
      "source": [
        "# \"기초생활수급여부\" 열이 99인 행에서 \"소득4분위수\" 값 확인\n",
        "welfare_99_income_quartile = df.loc[df['기초생활수급여부'] == 99, '소득4분위']\n",
        "\n",
        "# 결과 출력\n",
        "welfare_99_income_quartile.value_counts()"
      ],
      "metadata": {
        "colab": {
          "base_uri": "https://localhost:8080/",
          "height": 272
        },
        "id": "pfYHGCHlt6hA",
        "outputId": "8cc6a710-155f-4ea3-a18c-245c05ab06ec"
      },
      "execution_count": null,
      "outputs": [
        {
          "output_type": "execute_result",
          "data": {
            "text/plain": [
              "소득4분위\n",
              "1.0    17\n",
              "9.0     6\n",
              "2.0     4\n",
              "3.0     2\n",
              "4.0     1\n",
              "Name: count, dtype: int64"
            ],
            "text/html": [
              "<div>\n",
              "<style scoped>\n",
              "    .dataframe tbody tr th:only-of-type {\n",
              "        vertical-align: middle;\n",
              "    }\n",
              "\n",
              "    .dataframe tbody tr th {\n",
              "        vertical-align: top;\n",
              "    }\n",
              "\n",
              "    .dataframe thead th {\n",
              "        text-align: right;\n",
              "    }\n",
              "</style>\n",
              "<table border=\"1\" class=\"dataframe\">\n",
              "  <thead>\n",
              "    <tr style=\"text-align: right;\">\n",
              "      <th></th>\n",
              "      <th>count</th>\n",
              "    </tr>\n",
              "    <tr>\n",
              "      <th>소득4분위</th>\n",
              "      <th></th>\n",
              "    </tr>\n",
              "  </thead>\n",
              "  <tbody>\n",
              "    <tr>\n",
              "      <th>1.0</th>\n",
              "      <td>17</td>\n",
              "    </tr>\n",
              "    <tr>\n",
              "      <th>9.0</th>\n",
              "      <td>6</td>\n",
              "    </tr>\n",
              "    <tr>\n",
              "      <th>2.0</th>\n",
              "      <td>4</td>\n",
              "    </tr>\n",
              "    <tr>\n",
              "      <th>3.0</th>\n",
              "      <td>2</td>\n",
              "    </tr>\n",
              "    <tr>\n",
              "      <th>4.0</th>\n",
              "      <td>1</td>\n",
              "    </tr>\n",
              "  </tbody>\n",
              "</table>\n",
              "</div><br><label><b>dtype:</b> int64</label>"
            ]
          },
          "metadata": {},
          "execution_count": 27
        }
      ]
    },
    {
      "cell_type": "code",
      "source": [
        "condition = (df['기초생활수급여부'] == 99) & (df['소득4분위'] == 1)\n",
        "df.loc[condition, '기초생활수급여부'] = 10\n"
      ],
      "metadata": {
        "id": "KjiE2CrAt6dW"
      },
      "execution_count": null,
      "outputs": []
    },
    {
      "cell_type": "code",
      "source": [
        "condition = (test['기초생활수급여부'] == 99) & (test['소득4분위'] == 1)\n",
        "test.loc[condition, '기초생활수급여부'] = 10"
      ],
      "metadata": {
        "id": "sTD71rLrt6aQ"
      },
      "execution_count": null,
      "outputs": []
    },
    {
      "cell_type": "markdown",
      "source": [
        "## 24 (월평균가구총소득)\n",
        "- 결측치 모름/무응답 처리\n",
        "- 가구총소득에서 모름/무응답으로 답한 사람들이 결측치로 나타나는듯"
      ],
      "metadata": {
        "id": "CqlgYSkzwHdm"
      }
    },
    {
      "cell_type": "code",
      "source": [
        "# \"월평균가구총소득\" 열의 결측치를 999999로 처리\n",
        "df['월평균가구총소득'] = df['월평균가구총소득'].fillna(999999)\n",
        "df['월평균가구총소득'].isnull().sum()"
      ],
      "metadata": {
        "colab": {
          "base_uri": "https://localhost:8080/"
        },
        "id": "jnGMwwYyxr_r",
        "outputId": "39944b47-e956-48f1-bc87-7d2e3afad0fa"
      },
      "execution_count": null,
      "outputs": [
        {
          "output_type": "stream",
          "name": "stderr",
          "text": [
            "<ipython-input-30-109b4db1a9f4>:2: SettingWithCopyWarning: \n",
            "A value is trying to be set on a copy of a slice from a DataFrame.\n",
            "Try using .loc[row_indexer,col_indexer] = value instead\n",
            "\n",
            "See the caveats in the documentation: https://pandas.pydata.org/pandas-docs/stable/user_guide/indexing.html#returning-a-view-versus-a-copy\n",
            "  df['월평균가구총소득'] = df['월평균가구총소득'].fillna(999999)\n"
          ]
        },
        {
          "output_type": "execute_result",
          "data": {
            "text/plain": [
              "0"
            ]
          },
          "metadata": {},
          "execution_count": 30
        }
      ]
    },
    {
      "cell_type": "code",
      "source": [
        "test['월평균가구총소득'] = test['월평균가구총소득'].fillna(999999)\n",
        "test['월평균가구총소득'].isnull().sum()"
      ],
      "metadata": {
        "colab": {
          "base_uri": "https://localhost:8080/"
        },
        "id": "hwLJJr0F3UHc",
        "outputId": "190b1f8b-bf35-4dd6-ad25-5d2ac000d6ab"
      },
      "execution_count": null,
      "outputs": [
        {
          "output_type": "stream",
          "name": "stderr",
          "text": [
            "<ipython-input-31-3374a1f16ee1>:1: SettingWithCopyWarning: \n",
            "A value is trying to be set on a copy of a slice from a DataFrame.\n",
            "Try using .loc[row_indexer,col_indexer] = value instead\n",
            "\n",
            "See the caveats in the documentation: https://pandas.pydata.org/pandas-docs/stable/user_guide/indexing.html#returning-a-view-versus-a-copy\n",
            "  test['월평균가구총소득'] = test['월평균가구총소득'].fillna(999999)\n"
          ]
        },
        {
          "output_type": "execute_result",
          "data": {
            "text/plain": [
              "0"
            ]
          },
          "metadata": {},
          "execution_count": 31
        }
      ]
    },
    {
      "cell_type": "markdown",
      "source": [
        "## 243~245\n",
        "- 거의 안한다(주0회): 1, 주 1-2회: 2, 주 3-4회: 3, 주 5-7회: 4 로 순서형 유지하면서 매핑 다시 시켜야함.\n",
        "- 모름/무응답 항목이 결측치로 빠져서 항목을 새로 만들어서 모름/무응답 처리해야함. (모름/무응답:9)"
      ],
      "metadata": {
        "id": "aZBsXE1aX9LQ"
      }
    },
    {
      "cell_type": "code",
      "source": [
        "reorder_mapping = {\n",
        "    1: 4,  # 주 5-7회 -> 4\n",
        "    2: 3,  # 주 3-4회 -> 3\n",
        "    3: 2,  # 주 1-2회 -> 2\n",
        "    4: 1   # 거의 안한다(주0회) -> 1\n",
        "}\n",
        "\n",
        "# 결측치 처리\n",
        "df[\"최근1년주평균아침식사빈도\"] = df[\"최근1년주평균아침식사빈도\"].map(reorder_mapping)\n",
        "df[\"최근1년주평균아침식사빈도\"] = df[\"최근1년주평균아침식사빈도\"].fillna(9)"
      ],
      "metadata": {
        "id": "jseau7ZQX1qg",
        "colab": {
          "base_uri": "https://localhost:8080/"
        },
        "outputId": "cc0f093b-5b48-44c8-8a60-f83c3bfe01cf"
      },
      "execution_count": null,
      "outputs": [
        {
          "output_type": "stream",
          "name": "stderr",
          "text": [
            "<ipython-input-32-82f220087f58>:9: SettingWithCopyWarning: \n",
            "A value is trying to be set on a copy of a slice from a DataFrame.\n",
            "Try using .loc[row_indexer,col_indexer] = value instead\n",
            "\n",
            "See the caveats in the documentation: https://pandas.pydata.org/pandas-docs/stable/user_guide/indexing.html#returning-a-view-versus-a-copy\n",
            "  df[\"최근1년주평균아침식사빈도\"] = df[\"최근1년주평균아침식사빈도\"].map(reorder_mapping)\n",
            "<ipython-input-32-82f220087f58>:10: SettingWithCopyWarning: \n",
            "A value is trying to be set on a copy of a slice from a DataFrame.\n",
            "Try using .loc[row_indexer,col_indexer] = value instead\n",
            "\n",
            "See the caveats in the documentation: https://pandas.pydata.org/pandas-docs/stable/user_guide/indexing.html#returning-a-view-versus-a-copy\n",
            "  df[\"최근1년주평균아침식사빈도\"] = df[\"최근1년주평균아침식사빈도\"].fillna(9)\n"
          ]
        }
      ]
    },
    {
      "cell_type": "code",
      "source": [
        "# 결측치 처리\n",
        "test[\"최근1년주평균아침식사빈도\"] = test[\"최근1년주평균아침식사빈도\"].map(reorder_mapping)\n",
        "test[\"최근1년주평균아침식사빈도\"] = test[\"최근1년주평균아침식사빈도\"].fillna(9)"
      ],
      "metadata": {
        "colab": {
          "base_uri": "https://localhost:8080/"
        },
        "id": "jGmVtqc-3cMH",
        "outputId": "ea6f71fb-9d11-43fc-b352-dc77ca97e792"
      },
      "execution_count": null,
      "outputs": [
        {
          "output_type": "stream",
          "name": "stderr",
          "text": [
            "<ipython-input-33-91b733151942>:2: SettingWithCopyWarning: \n",
            "A value is trying to be set on a copy of a slice from a DataFrame.\n",
            "Try using .loc[row_indexer,col_indexer] = value instead\n",
            "\n",
            "See the caveats in the documentation: https://pandas.pydata.org/pandas-docs/stable/user_guide/indexing.html#returning-a-view-versus-a-copy\n",
            "  test[\"최근1년주평균아침식사빈도\"] = test[\"최근1년주평균아침식사빈도\"].map(reorder_mapping)\n",
            "<ipython-input-33-91b733151942>:3: SettingWithCopyWarning: \n",
            "A value is trying to be set on a copy of a slice from a DataFrame.\n",
            "Try using .loc[row_indexer,col_indexer] = value instead\n",
            "\n",
            "See the caveats in the documentation: https://pandas.pydata.org/pandas-docs/stable/user_guide/indexing.html#returning-a-view-versus-a-copy\n",
            "  test[\"최근1년주평균아침식사빈도\"] = test[\"최근1년주평균아침식사빈도\"].fillna(9)\n"
          ]
        }
      ]
    },
    {
      "cell_type": "code",
      "source": [
        "df[\"최근1년주평균아침식사빈도\"].isnull().sum(), test[\"최근1년주평균아침식사빈도\"].isnull().sum()"
      ],
      "metadata": {
        "colab": {
          "base_uri": "https://localhost:8080/"
        },
        "id": "zJOzRi6MjS47",
        "outputId": "7319d4e1-6d70-4f5c-9c01-70e9e198a703"
      },
      "execution_count": null,
      "outputs": [
        {
          "output_type": "execute_result",
          "data": {
            "text/plain": [
              "(0, 0)"
            ]
          },
          "metadata": {},
          "execution_count": 34
        }
      ]
    },
    {
      "cell_type": "code",
      "source": [
        "reorder_mapping = {\n",
        "    1: 4,  # 주 5-7회 -> 4\n",
        "    2: 3,  # 주 3-4회 -> 3\n",
        "    3: 2,  # 주 1-2회 -> 2\n",
        "    4: 1   # 거의 안한다(주0회) -> 1\n",
        "}\n",
        "\n",
        "# 결측치 처리\n",
        "df[\"최근1년주평균점심식사빈도\"] = df[\"최근1년주평균점심식사빈도\"].map(reorder_mapping)\n",
        "df[\"최근1년주평균점심식사빈도\"] = df[\"최근1년주평균점심식사빈도\"].fillna(9)"
      ],
      "metadata": {
        "id": "SXqn8X2vX1jX",
        "colab": {
          "base_uri": "https://localhost:8080/"
        },
        "outputId": "377823c7-fbbc-44d3-cebc-24de38669367"
      },
      "execution_count": null,
      "outputs": [
        {
          "output_type": "stream",
          "name": "stderr",
          "text": [
            "<ipython-input-35-994803196ed1>:9: SettingWithCopyWarning: \n",
            "A value is trying to be set on a copy of a slice from a DataFrame.\n",
            "Try using .loc[row_indexer,col_indexer] = value instead\n",
            "\n",
            "See the caveats in the documentation: https://pandas.pydata.org/pandas-docs/stable/user_guide/indexing.html#returning-a-view-versus-a-copy\n",
            "  df[\"최근1년주평균점심식사빈도\"] = df[\"최근1년주평균점심식사빈도\"].map(reorder_mapping)\n",
            "<ipython-input-35-994803196ed1>:10: SettingWithCopyWarning: \n",
            "A value is trying to be set on a copy of a slice from a DataFrame.\n",
            "Try using .loc[row_indexer,col_indexer] = value instead\n",
            "\n",
            "See the caveats in the documentation: https://pandas.pydata.org/pandas-docs/stable/user_guide/indexing.html#returning-a-view-versus-a-copy\n",
            "  df[\"최근1년주평균점심식사빈도\"] = df[\"최근1년주평균점심식사빈도\"].fillna(9)\n"
          ]
        }
      ]
    },
    {
      "cell_type": "code",
      "source": [
        "# 결측치 처리\n",
        "test[\"최근1년주평균점심식사빈도\"] = test[\"최근1년주평균점심식사빈도\"].map(reorder_mapping)\n",
        "test[\"최근1년주평균점심식사빈도\"] = test[\"최근1년주평균점심식사빈도\"].fillna(9)"
      ],
      "metadata": {
        "colab": {
          "base_uri": "https://localhost:8080/"
        },
        "id": "qSM55wmljMSe",
        "outputId": "fcf68248-b1fc-42b1-d50b-cc46d18cf338"
      },
      "execution_count": null,
      "outputs": [
        {
          "output_type": "stream",
          "name": "stderr",
          "text": [
            "<ipython-input-36-ef87eba35bf9>:2: SettingWithCopyWarning: \n",
            "A value is trying to be set on a copy of a slice from a DataFrame.\n",
            "Try using .loc[row_indexer,col_indexer] = value instead\n",
            "\n",
            "See the caveats in the documentation: https://pandas.pydata.org/pandas-docs/stable/user_guide/indexing.html#returning-a-view-versus-a-copy\n",
            "  test[\"최근1년주평균점심식사빈도\"] = test[\"최근1년주평균점심식사빈도\"].map(reorder_mapping)\n",
            "<ipython-input-36-ef87eba35bf9>:3: SettingWithCopyWarning: \n",
            "A value is trying to be set on a copy of a slice from a DataFrame.\n",
            "Try using .loc[row_indexer,col_indexer] = value instead\n",
            "\n",
            "See the caveats in the documentation: https://pandas.pydata.org/pandas-docs/stable/user_guide/indexing.html#returning-a-view-versus-a-copy\n",
            "  test[\"최근1년주평균점심식사빈도\"] = test[\"최근1년주평균점심식사빈도\"].fillna(9)\n"
          ]
        }
      ]
    },
    {
      "cell_type": "code",
      "source": [
        "df[\"최근1년주평균점심식사빈도\"].isnull().sum(), test[\"최근1년주평균점심식사빈도\"].isnull().sum()"
      ],
      "metadata": {
        "colab": {
          "base_uri": "https://localhost:8080/"
        },
        "id": "eY6lOaoqjMQI",
        "outputId": "65ce6f08-3a9b-4096-9ade-628d89b39132"
      },
      "execution_count": null,
      "outputs": [
        {
          "output_type": "execute_result",
          "data": {
            "text/plain": [
              "(0, 0)"
            ]
          },
          "metadata": {},
          "execution_count": 37
        }
      ]
    },
    {
      "cell_type": "code",
      "source": [
        "reorder_mapping = {\n",
        "    1: 4,  # 주 5-7회 -> 4\n",
        "    2: 3,  # 주 3-4회 -> 3\n",
        "    3: 2,  # 주 1-2회 -> 2\n",
        "    4: 1   # 거의 안한다(주0회) -> 1\n",
        "}\n",
        "\n",
        "# 결측치 처리\n",
        "df[\"최근1년주평균저녁식사빈도\"] = df[\"최근1년주평균저녁식사빈도\"].map(reorder_mapping)\n",
        "df[\"최근1년주평균저녁식사빈도\"] = df[\"최근1년주평균저녁식사빈도\"].fillna(9)"
      ],
      "metadata": {
        "id": "k7BL4Lw6jMI5",
        "colab": {
          "base_uri": "https://localhost:8080/"
        },
        "outputId": "e425e4d8-e797-402b-80a2-fc7a700178e1"
      },
      "execution_count": null,
      "outputs": [
        {
          "output_type": "stream",
          "name": "stderr",
          "text": [
            "<ipython-input-38-f650856e3dbc>:9: SettingWithCopyWarning: \n",
            "A value is trying to be set on a copy of a slice from a DataFrame.\n",
            "Try using .loc[row_indexer,col_indexer] = value instead\n",
            "\n",
            "See the caveats in the documentation: https://pandas.pydata.org/pandas-docs/stable/user_guide/indexing.html#returning-a-view-versus-a-copy\n",
            "  df[\"최근1년주평균저녁식사빈도\"] = df[\"최근1년주평균저녁식사빈도\"].map(reorder_mapping)\n",
            "<ipython-input-38-f650856e3dbc>:10: SettingWithCopyWarning: \n",
            "A value is trying to be set on a copy of a slice from a DataFrame.\n",
            "Try using .loc[row_indexer,col_indexer] = value instead\n",
            "\n",
            "See the caveats in the documentation: https://pandas.pydata.org/pandas-docs/stable/user_guide/indexing.html#returning-a-view-versus-a-copy\n",
            "  df[\"최근1년주평균저녁식사빈도\"] = df[\"최근1년주평균저녁식사빈도\"].fillna(9)\n"
          ]
        }
      ]
    },
    {
      "cell_type": "code",
      "source": [
        "# 결측치 처리\n",
        "test[\"최근1년주평균저녁식사빈도\"] = test[\"최근1년주평균저녁식사빈도\"].map(reorder_mapping)\n",
        "test[\"최근1년주평균저녁식사빈도\"] = test[\"최근1년주평균저녁식사빈도\"].fillna(9)"
      ],
      "metadata": {
        "colab": {
          "base_uri": "https://localhost:8080/"
        },
        "id": "Wfcw081j3txR",
        "outputId": "adab6270-7c95-43d9-987e-9045254688d0"
      },
      "execution_count": null,
      "outputs": [
        {
          "output_type": "stream",
          "name": "stderr",
          "text": [
            "<ipython-input-39-4410ccbdd94c>:2: SettingWithCopyWarning: \n",
            "A value is trying to be set on a copy of a slice from a DataFrame.\n",
            "Try using .loc[row_indexer,col_indexer] = value instead\n",
            "\n",
            "See the caveats in the documentation: https://pandas.pydata.org/pandas-docs/stable/user_guide/indexing.html#returning-a-view-versus-a-copy\n",
            "  test[\"최근1년주평균저녁식사빈도\"] = test[\"최근1년주평균저녁식사빈도\"].map(reorder_mapping)\n",
            "<ipython-input-39-4410ccbdd94c>:3: SettingWithCopyWarning: \n",
            "A value is trying to be set on a copy of a slice from a DataFrame.\n",
            "Try using .loc[row_indexer,col_indexer] = value instead\n",
            "\n",
            "See the caveats in the documentation: https://pandas.pydata.org/pandas-docs/stable/user_guide/indexing.html#returning-a-view-versus-a-copy\n",
            "  test[\"최근1년주평균저녁식사빈도\"] = test[\"최근1년주평균저녁식사빈도\"].fillna(9)\n"
          ]
        }
      ]
    },
    {
      "cell_type": "markdown",
      "source": [
        "## 246, 248, 250\n",
        "- 다중분류(1: 예. 2: 아니오, 3: 비해당 (아침식사빈도가 주2회이하), 9: 모름/무응답) 로 항목이 이루어져있음.\n",
        "- 비해당 항목이 \"아침식사빈도 주2회 이하랑\" 일치하는지 확인\n",
        "- 결측치는 모름/무응답 처리"
      ],
      "metadata": {
        "id": "c069TF1HkVuC"
      }
    },
    {
      "cell_type": "markdown",
      "source": [
        "- 246"
      ],
      "metadata": {
        "id": "aXClV0Iko-It"
      }
    },
    {
      "cell_type": "code",
      "source": [
        "# 결측치 처리\n",
        "df[\"아침_가족외사람동반여부\"] = df[\"아침_가족외사람동반여부\"].fillna(9)\n",
        "test[\"아침_가족외사람동반여부\"] = test[\"아침_가족외사람동반여부\"].fillna(9)"
      ],
      "metadata": {
        "id": "j5g4FN7EjL6K",
        "colab": {
          "base_uri": "https://localhost:8080/"
        },
        "outputId": "a40c084b-455c-45fd-831d-86055741618f"
      },
      "execution_count": null,
      "outputs": [
        {
          "output_type": "stream",
          "name": "stderr",
          "text": [
            "<ipython-input-40-b774db8d3a16>:2: SettingWithCopyWarning: \n",
            "A value is trying to be set on a copy of a slice from a DataFrame.\n",
            "Try using .loc[row_indexer,col_indexer] = value instead\n",
            "\n",
            "See the caveats in the documentation: https://pandas.pydata.org/pandas-docs/stable/user_guide/indexing.html#returning-a-view-versus-a-copy\n",
            "  df[\"아침_가족외사람동반여부\"] = df[\"아침_가족외사람동반여부\"].fillna(9)\n",
            "<ipython-input-40-b774db8d3a16>:3: SettingWithCopyWarning: \n",
            "A value is trying to be set on a copy of a slice from a DataFrame.\n",
            "Try using .loc[row_indexer,col_indexer] = value instead\n",
            "\n",
            "See the caveats in the documentation: https://pandas.pydata.org/pandas-docs/stable/user_guide/indexing.html#returning-a-view-versus-a-copy\n",
            "  test[\"아침_가족외사람동반여부\"] = test[\"아침_가족외사람동반여부\"].fillna(9)\n"
          ]
        }
      ]
    },
    {
      "cell_type": "markdown",
      "source": [
        "- 248"
      ],
      "metadata": {
        "id": "sS9VR3t1o_xS"
      }
    },
    {
      "cell_type": "code",
      "source": [
        "# 결측치 처리\n",
        "df[\"점심_가족외사람동반여부\"] = df[\"점심_가족외사람동반여부\"].fillna(9)\n",
        "test[\"점심_가족외사람동반여부\"] = test[\"점심_가족외사람동반여부\"].fillna(9)"
      ],
      "metadata": {
        "id": "uVbgsW_yocPL",
        "colab": {
          "base_uri": "https://localhost:8080/"
        },
        "outputId": "247238ec-b26e-4d27-b70f-2752a0425374"
      },
      "execution_count": null,
      "outputs": [
        {
          "output_type": "stream",
          "name": "stderr",
          "text": [
            "<ipython-input-41-4489e5948a6e>:2: SettingWithCopyWarning: \n",
            "A value is trying to be set on a copy of a slice from a DataFrame.\n",
            "Try using .loc[row_indexer,col_indexer] = value instead\n",
            "\n",
            "See the caveats in the documentation: https://pandas.pydata.org/pandas-docs/stable/user_guide/indexing.html#returning-a-view-versus-a-copy\n",
            "  df[\"점심_가족외사람동반여부\"] = df[\"점심_가족외사람동반여부\"].fillna(9)\n",
            "<ipython-input-41-4489e5948a6e>:3: SettingWithCopyWarning: \n",
            "A value is trying to be set on a copy of a slice from a DataFrame.\n",
            "Try using .loc[row_indexer,col_indexer] = value instead\n",
            "\n",
            "See the caveats in the documentation: https://pandas.pydata.org/pandas-docs/stable/user_guide/indexing.html#returning-a-view-versus-a-copy\n",
            "  test[\"점심_가족외사람동반여부\"] = test[\"점심_가족외사람동반여부\"].fillna(9)\n"
          ]
        }
      ]
    },
    {
      "cell_type": "markdown",
      "source": [
        "- 250"
      ],
      "metadata": {
        "id": "tFX8n-M_pDrY"
      }
    },
    {
      "cell_type": "code",
      "source": [
        "# 결측치 처리\n",
        "df[\"저녁_가족외사람동반여부\"] = df[\"저녁_가족외사람동반여부\"].fillna(9)\n",
        "test[\"저녁_가족외사람동반여부\"] = test[\"저녁_가족외사람동반여부\"].fillna(9)"
      ],
      "metadata": {
        "id": "d_pRFFSmocCp",
        "colab": {
          "base_uri": "https://localhost:8080/"
        },
        "outputId": "4fc9104f-bc61-4943-ab49-750045ea2d7c"
      },
      "execution_count": null,
      "outputs": [
        {
          "output_type": "stream",
          "name": "stderr",
          "text": [
            "<ipython-input-42-55d87efec6e2>:2: SettingWithCopyWarning: \n",
            "A value is trying to be set on a copy of a slice from a DataFrame.\n",
            "Try using .loc[row_indexer,col_indexer] = value instead\n",
            "\n",
            "See the caveats in the documentation: https://pandas.pydata.org/pandas-docs/stable/user_guide/indexing.html#returning-a-view-versus-a-copy\n",
            "  df[\"저녁_가족외사람동반여부\"] = df[\"저녁_가족외사람동반여부\"].fillna(9)\n",
            "<ipython-input-42-55d87efec6e2>:3: SettingWithCopyWarning: \n",
            "A value is trying to be set on a copy of a slice from a DataFrame.\n",
            "Try using .loc[row_indexer,col_indexer] = value instead\n",
            "\n",
            "See the caveats in the documentation: https://pandas.pydata.org/pandas-docs/stable/user_guide/indexing.html#returning-a-view-versus-a-copy\n",
            "  test[\"저녁_가족외사람동반여부\"] = test[\"저녁_가족외사람동반여부\"].fillna(9)\n"
          ]
        }
      ]
    },
    {
      "cell_type": "markdown",
      "source": [
        "## 247, 249, 251\n",
        "- 다중분류(1: 예. 2: 아니오, 8: 비해당 (동반여부가 \"아니오\"/\"비해당\" 인 경우), 9: 모름/무응답) 로 항목이 이루어져있음.\n",
        "- 결측치 무응답으로"
      ],
      "metadata": {
        "id": "qm8-p1czpZ_4"
      }
    },
    {
      "cell_type": "markdown",
      "source": [
        "- 247"
      ],
      "metadata": {
        "id": "PWV6SLxip1OL"
      }
    },
    {
      "cell_type": "code",
      "source": [
        "# 결측치 처리\n",
        "df[\"아침_가족외사람동반대상\"] = df[\"아침_가족외사람동반대상\"].fillna(9)\n",
        "test[\"아침_가족외사람동반대상\"] = test[\"아침_가족외사람동반대상\"].fillna(9)"
      ],
      "metadata": {
        "id": "a0nkqN9LpYIm",
        "colab": {
          "base_uri": "https://localhost:8080/"
        },
        "outputId": "9098e6e8-38b6-490f-c839-6979774957df"
      },
      "execution_count": null,
      "outputs": [
        {
          "output_type": "stream",
          "name": "stderr",
          "text": [
            "<ipython-input-43-8b7141258373>:2: SettingWithCopyWarning: \n",
            "A value is trying to be set on a copy of a slice from a DataFrame.\n",
            "Try using .loc[row_indexer,col_indexer] = value instead\n",
            "\n",
            "See the caveats in the documentation: https://pandas.pydata.org/pandas-docs/stable/user_guide/indexing.html#returning-a-view-versus-a-copy\n",
            "  df[\"아침_가족외사람동반대상\"] = df[\"아침_가족외사람동반대상\"].fillna(9)\n",
            "<ipython-input-43-8b7141258373>:3: SettingWithCopyWarning: \n",
            "A value is trying to be set on a copy of a slice from a DataFrame.\n",
            "Try using .loc[row_indexer,col_indexer] = value instead\n",
            "\n",
            "See the caveats in the documentation: https://pandas.pydata.org/pandas-docs/stable/user_guide/indexing.html#returning-a-view-versus-a-copy\n",
            "  test[\"아침_가족외사람동반대상\"] = test[\"아침_가족외사람동반대상\"].fillna(9)\n"
          ]
        }
      ]
    },
    {
      "cell_type": "markdown",
      "source": [
        "- 249"
      ],
      "metadata": {
        "id": "TQi2sigDqoNX"
      }
    },
    {
      "cell_type": "code",
      "source": [
        "df[\"점심_가족외사람동반대상\"] = df[\"점심_가족외사람동반대상\"].fillna(9)\n",
        "test[\"점심_가족외사람동반대상\"] = test[\"점심_가족외사람동반대상\"].fillna(9)"
      ],
      "metadata": {
        "id": "C0NSduOQq2Ra",
        "colab": {
          "base_uri": "https://localhost:8080/"
        },
        "outputId": "0f902387-4841-43be-b2d7-ab33da3942e7"
      },
      "execution_count": null,
      "outputs": [
        {
          "output_type": "stream",
          "name": "stderr",
          "text": [
            "<ipython-input-44-4c46c12ef522>:1: SettingWithCopyWarning: \n",
            "A value is trying to be set on a copy of a slice from a DataFrame.\n",
            "Try using .loc[row_indexer,col_indexer] = value instead\n",
            "\n",
            "See the caveats in the documentation: https://pandas.pydata.org/pandas-docs/stable/user_guide/indexing.html#returning-a-view-versus-a-copy\n",
            "  df[\"점심_가족외사람동반대상\"] = df[\"점심_가족외사람동반대상\"].fillna(9)\n",
            "<ipython-input-44-4c46c12ef522>:2: SettingWithCopyWarning: \n",
            "A value is trying to be set on a copy of a slice from a DataFrame.\n",
            "Try using .loc[row_indexer,col_indexer] = value instead\n",
            "\n",
            "See the caveats in the documentation: https://pandas.pydata.org/pandas-docs/stable/user_guide/indexing.html#returning-a-view-versus-a-copy\n",
            "  test[\"점심_가족외사람동반대상\"] = test[\"점심_가족외사람동반대상\"].fillna(9)\n"
          ]
        }
      ]
    },
    {
      "cell_type": "markdown",
      "source": [
        "- 251"
      ],
      "metadata": {
        "id": "Hq45TvZIrMwj"
      }
    },
    {
      "cell_type": "code",
      "source": [
        "df[\"저녁_가족외사람동반대상\"] = df[\"저녁_가족외사람동반대상\"].fillna(9)\n",
        "test[\"저녁_가족외사람동반대상\"] = test[\"저녁_가족외사람동반대상\"].fillna(9)"
      ],
      "metadata": {
        "id": "bW6tZyBxq2KM",
        "colab": {
          "base_uri": "https://localhost:8080/"
        },
        "outputId": "ae14ed9b-07d0-4226-cbbd-c2442fb52eb2"
      },
      "execution_count": null,
      "outputs": [
        {
          "output_type": "stream",
          "name": "stderr",
          "text": [
            "<ipython-input-45-f503704d191a>:1: SettingWithCopyWarning: \n",
            "A value is trying to be set on a copy of a slice from a DataFrame.\n",
            "Try using .loc[row_indexer,col_indexer] = value instead\n",
            "\n",
            "See the caveats in the documentation: https://pandas.pydata.org/pandas-docs/stable/user_guide/indexing.html#returning-a-view-versus-a-copy\n",
            "  df[\"저녁_가족외사람동반대상\"] = df[\"저녁_가족외사람동반대상\"].fillna(9)\n",
            "<ipython-input-45-f503704d191a>:2: SettingWithCopyWarning: \n",
            "A value is trying to be set on a copy of a slice from a DataFrame.\n",
            "Try using .loc[row_indexer,col_indexer] = value instead\n",
            "\n",
            "See the caveats in the documentation: https://pandas.pydata.org/pandas-docs/stable/user_guide/indexing.html#returning-a-view-versus-a-copy\n",
            "  test[\"저녁_가족외사람동반대상\"] = test[\"저녁_가족외사람동반대상\"].fillna(9)\n"
          ]
        }
      ]
    },
    {
      "cell_type": "markdown",
      "source": [
        "## 252 (평균외식빈도)\n",
        "- 1: 하루 2회 이상, 2: 하루 1회, 3: 주 5-6회, 4: 주 3-4회, 5: 주 1-2회, 6: 월 1-3회, 7: 거의 안 한다 (월1회 미만), 9: 모름/무응답 으로 이루어져있음.\n",
        "- 순서형 유지하면서 외식빈도 가끔 -> 외식빈도 잦음 순으로 다시 매핑 적용시키기\n",
        "- 결측치 무응답 처리"
      ],
      "metadata": {
        "id": "DkYlymoBrV9h"
      }
    },
    {
      "cell_type": "code",
      "source": [
        "mapping = {\n",
        "    1: 7,  # 하루 2회 이상 -> 7\n",
        "    2: 6,  # 하루 1회 -> 6\n",
        "    3: 5,  # 주 5-6회 -> 5\n",
        "    4: 4,  # 주 3-4회 -> 4\n",
        "    5: 3,  # 주 1-2회 -> 3\n",
        "    6: 2,  # 월 1-3회 -> 2\n",
        "    7: 1   # 거의 안 한다 (월 1회 미만) -> 1\n",
        "}\n",
        "\n",
        "# 역순 매핑 적용\n",
        "df[\"평균외식빈도\"] = df[\"평균외식빈도\"].map(mapping)"
      ],
      "metadata": {
        "id": "ULSBkH2oq2Cx",
        "colab": {
          "base_uri": "https://localhost:8080/"
        },
        "outputId": "34c9998d-4f6c-4a29-b5a9-8d0f69044814"
      },
      "execution_count": null,
      "outputs": [
        {
          "output_type": "stream",
          "name": "stderr",
          "text": [
            "<ipython-input-46-7a99c2df2053>:12: SettingWithCopyWarning: \n",
            "A value is trying to be set on a copy of a slice from a DataFrame.\n",
            "Try using .loc[row_indexer,col_indexer] = value instead\n",
            "\n",
            "See the caveats in the documentation: https://pandas.pydata.org/pandas-docs/stable/user_guide/indexing.html#returning-a-view-versus-a-copy\n",
            "  df[\"평균외식빈도\"] = df[\"평균외식빈도\"].map(mapping)\n"
          ]
        }
      ]
    },
    {
      "cell_type": "code",
      "source": [
        "# 역순 매핑 적용\n",
        "test[\"평균외식빈도\"] = test[\"평균외식빈도\"].map(mapping)"
      ],
      "metadata": {
        "colab": {
          "base_uri": "https://localhost:8080/"
        },
        "id": "e04erwxL4K8Y",
        "outputId": "1dca3575-6bc5-46a2-ea13-bf9b9c8e9be8"
      },
      "execution_count": null,
      "outputs": [
        {
          "output_type": "stream",
          "name": "stderr",
          "text": [
            "<ipython-input-47-32af7ca013a8>:2: SettingWithCopyWarning: \n",
            "A value is trying to be set on a copy of a slice from a DataFrame.\n",
            "Try using .loc[row_indexer,col_indexer] = value instead\n",
            "\n",
            "See the caveats in the documentation: https://pandas.pydata.org/pandas-docs/stable/user_guide/indexing.html#returning-a-view-versus-a-copy\n",
            "  test[\"평균외식빈도\"] = test[\"평균외식빈도\"].map(mapping)\n"
          ]
        }
      ]
    },
    {
      "cell_type": "code",
      "source": [
        "# 결측치 처리\n",
        "df[\"평균외식빈도\"] = df[\"평균외식빈도\"].fillna(9)\n",
        "test[\"평균외식빈도\"] = test[\"평균외식빈도\"].fillna(9)"
      ],
      "metadata": {
        "id": "EdKKZLiYuWf_",
        "colab": {
          "base_uri": "https://localhost:8080/"
        },
        "outputId": "24bd7634-ff3d-4d4f-deb2-e4b34cc0084b"
      },
      "execution_count": null,
      "outputs": [
        {
          "output_type": "stream",
          "name": "stderr",
          "text": [
            "<ipython-input-48-fa1495a0848a>:2: SettingWithCopyWarning: \n",
            "A value is trying to be set on a copy of a slice from a DataFrame.\n",
            "Try using .loc[row_indexer,col_indexer] = value instead\n",
            "\n",
            "See the caveats in the documentation: https://pandas.pydata.org/pandas-docs/stable/user_guide/indexing.html#returning-a-view-versus-a-copy\n",
            "  df[\"평균외식빈도\"] = df[\"평균외식빈도\"].fillna(9)\n",
            "<ipython-input-48-fa1495a0848a>:3: SettingWithCopyWarning: \n",
            "A value is trying to be set on a copy of a slice from a DataFrame.\n",
            "Try using .loc[row_indexer,col_indexer] = value instead\n",
            "\n",
            "See the caveats in the documentation: https://pandas.pydata.org/pandas-docs/stable/user_guide/indexing.html#returning-a-view-versus-a-copy\n",
            "  test[\"평균외식빈도\"] = test[\"평균외식빈도\"].fillna(9)\n"
          ]
        }
      ]
    },
    {
      "cell_type": "markdown",
      "source": [
        "## 253 (2주 이상 식이보충제 복용여부)\n",
        "- 다중분류(1: 예, 2:아니오, 9:모름/무응답) 피설문자들의 나이가 대체로 노령임.\n",
        "- 결측치를 그룹별(나이 or 성별) 최빈값으로 채우는 방식으로 진행\n",
        "- 예:1, 아니오:0 로 변환"
      ],
      "metadata": {
        "id": "_SLzV0DRusxC"
      }
    },
    {
      "cell_type": "code",
      "source": [
        "# 나이범주별 2주 이상 식이보충제 복용여부 그룹화 및 개수 확인\n",
        "result = df.groupby([\"나이범주\", \"2주이상식이보충제복용여부\"], observed=False).size().reset_index(name=\"count\")"
      ],
      "metadata": {
        "id": "jGj-stpjxFVB"
      },
      "execution_count": null,
      "outputs": []
    },
    {
      "cell_type": "code",
      "source": [
        "df[\"나이범주\"].isnull().sum()"
      ],
      "metadata": {
        "colab": {
          "base_uri": "https://localhost:8080/"
        },
        "id": "7rKYuhSxxFO6",
        "outputId": "6713c681-c990-4baf-c86f-bd357d949fb2"
      },
      "execution_count": null,
      "outputs": [
        {
          "output_type": "execute_result",
          "data": {
            "text/plain": [
              "0"
            ]
          },
          "metadata": {},
          "execution_count": 50
        }
      ]
    },
    {
      "cell_type": "code",
      "source": [
        "result"
      ],
      "metadata": {
        "colab": {
          "base_uri": "https://localhost:8080/",
          "height": 551
        },
        "id": "k5ex2dMYxFKE",
        "outputId": "faa9751b-ba12-40b7-9918-fb1343e2b248"
      },
      "execution_count": null,
      "outputs": [
        {
          "output_type": "execute_result",
          "data": {
            "text/plain": [
              "   나이범주  2주이상식이보충제복용여부  count\n",
              "0   10대            1.0     91\n",
              "1   10대            2.0    275\n",
              "2   20대            1.0   1775\n",
              "3   20대            2.0   2311\n",
              "4   30대            1.0   3186\n",
              "5   30대            2.0   2420\n",
              "6   40대            1.0   4194\n",
              "7   40대            2.0   2641\n",
              "8   50대            1.0   4636\n",
              "9   50대            2.0   2720\n",
              "10  60대            1.0   4835\n",
              "11  60대            2.0   2828\n",
              "12  70대            1.0   3119\n",
              "13  70대            2.0   2498\n",
              "14  80대            1.0    919\n",
              "15  80대            2.0    917"
            ],
            "text/html": [
              "\n",
              "  <div id=\"df-ccb11835-b9a0-4617-bb59-7a63b9f0817d\" class=\"colab-df-container\">\n",
              "    <div>\n",
              "<style scoped>\n",
              "    .dataframe tbody tr th:only-of-type {\n",
              "        vertical-align: middle;\n",
              "    }\n",
              "\n",
              "    .dataframe tbody tr th {\n",
              "        vertical-align: top;\n",
              "    }\n",
              "\n",
              "    .dataframe thead th {\n",
              "        text-align: right;\n",
              "    }\n",
              "</style>\n",
              "<table border=\"1\" class=\"dataframe\">\n",
              "  <thead>\n",
              "    <tr style=\"text-align: right;\">\n",
              "      <th></th>\n",
              "      <th>나이범주</th>\n",
              "      <th>2주이상식이보충제복용여부</th>\n",
              "      <th>count</th>\n",
              "    </tr>\n",
              "  </thead>\n",
              "  <tbody>\n",
              "    <tr>\n",
              "      <th>0</th>\n",
              "      <td>10대</td>\n",
              "      <td>1.0</td>\n",
              "      <td>91</td>\n",
              "    </tr>\n",
              "    <tr>\n",
              "      <th>1</th>\n",
              "      <td>10대</td>\n",
              "      <td>2.0</td>\n",
              "      <td>275</td>\n",
              "    </tr>\n",
              "    <tr>\n",
              "      <th>2</th>\n",
              "      <td>20대</td>\n",
              "      <td>1.0</td>\n",
              "      <td>1775</td>\n",
              "    </tr>\n",
              "    <tr>\n",
              "      <th>3</th>\n",
              "      <td>20대</td>\n",
              "      <td>2.0</td>\n",
              "      <td>2311</td>\n",
              "    </tr>\n",
              "    <tr>\n",
              "      <th>4</th>\n",
              "      <td>30대</td>\n",
              "      <td>1.0</td>\n",
              "      <td>3186</td>\n",
              "    </tr>\n",
              "    <tr>\n",
              "      <th>5</th>\n",
              "      <td>30대</td>\n",
              "      <td>2.0</td>\n",
              "      <td>2420</td>\n",
              "    </tr>\n",
              "    <tr>\n",
              "      <th>6</th>\n",
              "      <td>40대</td>\n",
              "      <td>1.0</td>\n",
              "      <td>4194</td>\n",
              "    </tr>\n",
              "    <tr>\n",
              "      <th>7</th>\n",
              "      <td>40대</td>\n",
              "      <td>2.0</td>\n",
              "      <td>2641</td>\n",
              "    </tr>\n",
              "    <tr>\n",
              "      <th>8</th>\n",
              "      <td>50대</td>\n",
              "      <td>1.0</td>\n",
              "      <td>4636</td>\n",
              "    </tr>\n",
              "    <tr>\n",
              "      <th>9</th>\n",
              "      <td>50대</td>\n",
              "      <td>2.0</td>\n",
              "      <td>2720</td>\n",
              "    </tr>\n",
              "    <tr>\n",
              "      <th>10</th>\n",
              "      <td>60대</td>\n",
              "      <td>1.0</td>\n",
              "      <td>4835</td>\n",
              "    </tr>\n",
              "    <tr>\n",
              "      <th>11</th>\n",
              "      <td>60대</td>\n",
              "      <td>2.0</td>\n",
              "      <td>2828</td>\n",
              "    </tr>\n",
              "    <tr>\n",
              "      <th>12</th>\n",
              "      <td>70대</td>\n",
              "      <td>1.0</td>\n",
              "      <td>3119</td>\n",
              "    </tr>\n",
              "    <tr>\n",
              "      <th>13</th>\n",
              "      <td>70대</td>\n",
              "      <td>2.0</td>\n",
              "      <td>2498</td>\n",
              "    </tr>\n",
              "    <tr>\n",
              "      <th>14</th>\n",
              "      <td>80대</td>\n",
              "      <td>1.0</td>\n",
              "      <td>919</td>\n",
              "    </tr>\n",
              "    <tr>\n",
              "      <th>15</th>\n",
              "      <td>80대</td>\n",
              "      <td>2.0</td>\n",
              "      <td>917</td>\n",
              "    </tr>\n",
              "  </tbody>\n",
              "</table>\n",
              "</div>\n",
              "    <div class=\"colab-df-buttons\">\n",
              "\n",
              "  <div class=\"colab-df-container\">\n",
              "    <button class=\"colab-df-convert\" onclick=\"convertToInteractive('df-ccb11835-b9a0-4617-bb59-7a63b9f0817d')\"\n",
              "            title=\"Convert this dataframe to an interactive table.\"\n",
              "            style=\"display:none;\">\n",
              "\n",
              "  <svg xmlns=\"http://www.w3.org/2000/svg\" height=\"24px\" viewBox=\"0 -960 960 960\">\n",
              "    <path d=\"M120-120v-720h720v720H120Zm60-500h600v-160H180v160Zm220 220h160v-160H400v160Zm0 220h160v-160H400v160ZM180-400h160v-160H180v160Zm440 0h160v-160H620v160ZM180-180h160v-160H180v160Zm440 0h160v-160H620v160Z\"/>\n",
              "  </svg>\n",
              "    </button>\n",
              "\n",
              "  <style>\n",
              "    .colab-df-container {\n",
              "      display:flex;\n",
              "      gap: 12px;\n",
              "    }\n",
              "\n",
              "    .colab-df-convert {\n",
              "      background-color: #E8F0FE;\n",
              "      border: none;\n",
              "      border-radius: 50%;\n",
              "      cursor: pointer;\n",
              "      display: none;\n",
              "      fill: #1967D2;\n",
              "      height: 32px;\n",
              "      padding: 0 0 0 0;\n",
              "      width: 32px;\n",
              "    }\n",
              "\n",
              "    .colab-df-convert:hover {\n",
              "      background-color: #E2EBFA;\n",
              "      box-shadow: 0px 1px 2px rgba(60, 64, 67, 0.3), 0px 1px 3px 1px rgba(60, 64, 67, 0.15);\n",
              "      fill: #174EA6;\n",
              "    }\n",
              "\n",
              "    .colab-df-buttons div {\n",
              "      margin-bottom: 4px;\n",
              "    }\n",
              "\n",
              "    [theme=dark] .colab-df-convert {\n",
              "      background-color: #3B4455;\n",
              "      fill: #D2E3FC;\n",
              "    }\n",
              "\n",
              "    [theme=dark] .colab-df-convert:hover {\n",
              "      background-color: #434B5C;\n",
              "      box-shadow: 0px 1px 3px 1px rgba(0, 0, 0, 0.15);\n",
              "      filter: drop-shadow(0px 1px 2px rgba(0, 0, 0, 0.3));\n",
              "      fill: #FFFFFF;\n",
              "    }\n",
              "  </style>\n",
              "\n",
              "    <script>\n",
              "      const buttonEl =\n",
              "        document.querySelector('#df-ccb11835-b9a0-4617-bb59-7a63b9f0817d button.colab-df-convert');\n",
              "      buttonEl.style.display =\n",
              "        google.colab.kernel.accessAllowed ? 'block' : 'none';\n",
              "\n",
              "      async function convertToInteractive(key) {\n",
              "        const element = document.querySelector('#df-ccb11835-b9a0-4617-bb59-7a63b9f0817d');\n",
              "        const dataTable =\n",
              "          await google.colab.kernel.invokeFunction('convertToInteractive',\n",
              "                                                    [key], {});\n",
              "        if (!dataTable) return;\n",
              "\n",
              "        const docLinkHtml = 'Like what you see? Visit the ' +\n",
              "          '<a target=\"_blank\" href=https://colab.research.google.com/notebooks/data_table.ipynb>data table notebook</a>'\n",
              "          + ' to learn more about interactive tables.';\n",
              "        element.innerHTML = '';\n",
              "        dataTable['output_type'] = 'display_data';\n",
              "        await google.colab.output.renderOutput(dataTable, element);\n",
              "        const docLink = document.createElement('div');\n",
              "        docLink.innerHTML = docLinkHtml;\n",
              "        element.appendChild(docLink);\n",
              "      }\n",
              "    </script>\n",
              "  </div>\n",
              "\n",
              "\n",
              "<div id=\"df-65157591-e62f-42c8-a05f-098f6b20d8ee\">\n",
              "  <button class=\"colab-df-quickchart\" onclick=\"quickchart('df-65157591-e62f-42c8-a05f-098f6b20d8ee')\"\n",
              "            title=\"Suggest charts\"\n",
              "            style=\"display:none;\">\n",
              "\n",
              "<svg xmlns=\"http://www.w3.org/2000/svg\" height=\"24px\"viewBox=\"0 0 24 24\"\n",
              "     width=\"24px\">\n",
              "    <g>\n",
              "        <path d=\"M19 3H5c-1.1 0-2 .9-2 2v14c0 1.1.9 2 2 2h14c1.1 0 2-.9 2-2V5c0-1.1-.9-2-2-2zM9 17H7v-7h2v7zm4 0h-2V7h2v10zm4 0h-2v-4h2v4z\"/>\n",
              "    </g>\n",
              "</svg>\n",
              "  </button>\n",
              "\n",
              "<style>\n",
              "  .colab-df-quickchart {\n",
              "      --bg-color: #E8F0FE;\n",
              "      --fill-color: #1967D2;\n",
              "      --hover-bg-color: #E2EBFA;\n",
              "      --hover-fill-color: #174EA6;\n",
              "      --disabled-fill-color: #AAA;\n",
              "      --disabled-bg-color: #DDD;\n",
              "  }\n",
              "\n",
              "  [theme=dark] .colab-df-quickchart {\n",
              "      --bg-color: #3B4455;\n",
              "      --fill-color: #D2E3FC;\n",
              "      --hover-bg-color: #434B5C;\n",
              "      --hover-fill-color: #FFFFFF;\n",
              "      --disabled-bg-color: #3B4455;\n",
              "      --disabled-fill-color: #666;\n",
              "  }\n",
              "\n",
              "  .colab-df-quickchart {\n",
              "    background-color: var(--bg-color);\n",
              "    border: none;\n",
              "    border-radius: 50%;\n",
              "    cursor: pointer;\n",
              "    display: none;\n",
              "    fill: var(--fill-color);\n",
              "    height: 32px;\n",
              "    padding: 0;\n",
              "    width: 32px;\n",
              "  }\n",
              "\n",
              "  .colab-df-quickchart:hover {\n",
              "    background-color: var(--hover-bg-color);\n",
              "    box-shadow: 0 1px 2px rgba(60, 64, 67, 0.3), 0 1px 3px 1px rgba(60, 64, 67, 0.15);\n",
              "    fill: var(--button-hover-fill-color);\n",
              "  }\n",
              "\n",
              "  .colab-df-quickchart-complete:disabled,\n",
              "  .colab-df-quickchart-complete:disabled:hover {\n",
              "    background-color: var(--disabled-bg-color);\n",
              "    fill: var(--disabled-fill-color);\n",
              "    box-shadow: none;\n",
              "  }\n",
              "\n",
              "  .colab-df-spinner {\n",
              "    border: 2px solid var(--fill-color);\n",
              "    border-color: transparent;\n",
              "    border-bottom-color: var(--fill-color);\n",
              "    animation:\n",
              "      spin 1s steps(1) infinite;\n",
              "  }\n",
              "\n",
              "  @keyframes spin {\n",
              "    0% {\n",
              "      border-color: transparent;\n",
              "      border-bottom-color: var(--fill-color);\n",
              "      border-left-color: var(--fill-color);\n",
              "    }\n",
              "    20% {\n",
              "      border-color: transparent;\n",
              "      border-left-color: var(--fill-color);\n",
              "      border-top-color: var(--fill-color);\n",
              "    }\n",
              "    30% {\n",
              "      border-color: transparent;\n",
              "      border-left-color: var(--fill-color);\n",
              "      border-top-color: var(--fill-color);\n",
              "      border-right-color: var(--fill-color);\n",
              "    }\n",
              "    40% {\n",
              "      border-color: transparent;\n",
              "      border-right-color: var(--fill-color);\n",
              "      border-top-color: var(--fill-color);\n",
              "    }\n",
              "    60% {\n",
              "      border-color: transparent;\n",
              "      border-right-color: var(--fill-color);\n",
              "    }\n",
              "    80% {\n",
              "      border-color: transparent;\n",
              "      border-right-color: var(--fill-color);\n",
              "      border-bottom-color: var(--fill-color);\n",
              "    }\n",
              "    90% {\n",
              "      border-color: transparent;\n",
              "      border-bottom-color: var(--fill-color);\n",
              "    }\n",
              "  }\n",
              "</style>\n",
              "\n",
              "  <script>\n",
              "    async function quickchart(key) {\n",
              "      const quickchartButtonEl =\n",
              "        document.querySelector('#' + key + ' button');\n",
              "      quickchartButtonEl.disabled = true;  // To prevent multiple clicks.\n",
              "      quickchartButtonEl.classList.add('colab-df-spinner');\n",
              "      try {\n",
              "        const charts = await google.colab.kernel.invokeFunction(\n",
              "            'suggestCharts', [key], {});\n",
              "      } catch (error) {\n",
              "        console.error('Error during call to suggestCharts:', error);\n",
              "      }\n",
              "      quickchartButtonEl.classList.remove('colab-df-spinner');\n",
              "      quickchartButtonEl.classList.add('colab-df-quickchart-complete');\n",
              "    }\n",
              "    (() => {\n",
              "      let quickchartButtonEl =\n",
              "        document.querySelector('#df-65157591-e62f-42c8-a05f-098f6b20d8ee button');\n",
              "      quickchartButtonEl.style.display =\n",
              "        google.colab.kernel.accessAllowed ? 'block' : 'none';\n",
              "    })();\n",
              "  </script>\n",
              "</div>\n",
              "\n",
              "  <div id=\"id_ee69cf76-e460-4eee-93fd-ffe863775572\">\n",
              "    <style>\n",
              "      .colab-df-generate {\n",
              "        background-color: #E8F0FE;\n",
              "        border: none;\n",
              "        border-radius: 50%;\n",
              "        cursor: pointer;\n",
              "        display: none;\n",
              "        fill: #1967D2;\n",
              "        height: 32px;\n",
              "        padding: 0 0 0 0;\n",
              "        width: 32px;\n",
              "      }\n",
              "\n",
              "      .colab-df-generate:hover {\n",
              "        background-color: #E2EBFA;\n",
              "        box-shadow: 0px 1px 2px rgba(60, 64, 67, 0.3), 0px 1px 3px 1px rgba(60, 64, 67, 0.15);\n",
              "        fill: #174EA6;\n",
              "      }\n",
              "\n",
              "      [theme=dark] .colab-df-generate {\n",
              "        background-color: #3B4455;\n",
              "        fill: #D2E3FC;\n",
              "      }\n",
              "\n",
              "      [theme=dark] .colab-df-generate:hover {\n",
              "        background-color: #434B5C;\n",
              "        box-shadow: 0px 1px 3px 1px rgba(0, 0, 0, 0.15);\n",
              "        filter: drop-shadow(0px 1px 2px rgba(0, 0, 0, 0.3));\n",
              "        fill: #FFFFFF;\n",
              "      }\n",
              "    </style>\n",
              "    <button class=\"colab-df-generate\" onclick=\"generateWithVariable('result')\"\n",
              "            title=\"Generate code using this dataframe.\"\n",
              "            style=\"display:none;\">\n",
              "\n",
              "  <svg xmlns=\"http://www.w3.org/2000/svg\" height=\"24px\"viewBox=\"0 0 24 24\"\n",
              "       width=\"24px\">\n",
              "    <path d=\"M7,19H8.4L18.45,9,17,7.55,7,17.6ZM5,21V16.75L18.45,3.32a2,2,0,0,1,2.83,0l1.4,1.43a1.91,1.91,0,0,1,.58,1.4,1.91,1.91,0,0,1-.58,1.4L9.25,21ZM18.45,9,17,7.55Zm-12,3A5.31,5.31,0,0,0,4.9,8.1,5.31,5.31,0,0,0,1,6.5,5.31,5.31,0,0,0,4.9,4.9,5.31,5.31,0,0,0,6.5,1,5.31,5.31,0,0,0,8.1,4.9,5.31,5.31,0,0,0,12,6.5,5.46,5.46,0,0,0,6.5,12Z\"/>\n",
              "  </svg>\n",
              "    </button>\n",
              "    <script>\n",
              "      (() => {\n",
              "      const buttonEl =\n",
              "        document.querySelector('#id_ee69cf76-e460-4eee-93fd-ffe863775572 button.colab-df-generate');\n",
              "      buttonEl.style.display =\n",
              "        google.colab.kernel.accessAllowed ? 'block' : 'none';\n",
              "\n",
              "      buttonEl.onclick = () => {\n",
              "        google.colab.notebook.generateWithVariable('result');\n",
              "      }\n",
              "      })();\n",
              "    </script>\n",
              "  </div>\n",
              "\n",
              "    </div>\n",
              "  </div>\n"
            ],
            "application/vnd.google.colaboratory.intrinsic+json": {
              "type": "dataframe",
              "variable_name": "result",
              "summary": "{\n  \"name\": \"result\",\n  \"rows\": 16,\n  \"fields\": [\n    {\n      \"column\": \"\\ub098\\uc774\\ubc94\\uc8fc\",\n      \"properties\": {\n        \"dtype\": \"category\",\n        \"num_unique_values\": 8,\n        \"samples\": [\n          \"20\\ub300\",\n          \"60\\ub300\",\n          \"10\\ub300\"\n        ],\n        \"semantic_type\": \"\",\n        \"description\": \"\"\n      }\n    },\n    {\n      \"column\": \"2\\uc8fc\\uc774\\uc0c1\\uc2dd\\uc774\\ubcf4\\ucda9\\uc81c\\ubcf5\\uc6a9\\uc5ec\\ubd80\",\n      \"properties\": {\n        \"dtype\": \"number\",\n        \"std\": 0.5163977794943222,\n        \"min\": 1.0,\n        \"max\": 2.0,\n        \"num_unique_values\": 2,\n        \"samples\": [\n          2.0,\n          1.0\n        ],\n        \"semantic_type\": \"\",\n        \"description\": \"\"\n      }\n    },\n    {\n      \"column\": \"count\",\n      \"properties\": {\n        \"dtype\": \"number\",\n        \"std\": 1419,\n        \"min\": 91,\n        \"max\": 4835,\n        \"num_unique_values\": 16,\n        \"samples\": [\n          91,\n          275\n        ],\n        \"semantic_type\": \"\",\n        \"description\": \"\"\n      }\n    }\n  ]\n}"
            }
          },
          "metadata": {},
          "execution_count": 51
        }
      ]
    },
    {
      "cell_type": "code",
      "source": [
        "import random\n",
        "# 조건에 맞게 결측치 처리\n",
        "random.seed(42)\n",
        "def fill_missing(row):\n",
        "    if pd.isna(row[\"2주이상식이보충제복용여부\"]):\n",
        "        if row[\"나이\"] >= 80:\n",
        "            # 80대 이상인 경우, 50% 확률로 1: 예 또는 2: 아니오 할당\n",
        "            return random.choices([1, 2], weights=[50, 50])[0]\n",
        "        elif row[\"나이\"] >= 30:\n",
        "            # 30대 이상인 경우, 1: 예 65%, 2: 아니오 35% 확률로 할당\n",
        "            return random.choices([1, 2], weights=[65, 35])[0]\n",
        "        else:\n",
        "            # 30대 미만인 경우, 1: 예 40%, 2: 아니오 60% 확률로 할당\n",
        "            return random.choices([1, 2], weights=[40, 60])[0]\n",
        "    return row[\"2주이상식이보충제복용여부\"]\n",
        "\n",
        "random.seed(42)\n",
        "df[\"2주이상식이보충제복용여부\"] = df.apply(fill_missing, axis=1)\n",
        "random.seed(42)\n",
        "test[\"2주이상식이보충제복용여부\"] = test.apply(fill_missing, axis=1)"
      ],
      "metadata": {
        "id": "vUtDlgL8zJDP",
        "colab": {
          "base_uri": "https://localhost:8080/"
        },
        "outputId": "a93ebafc-4dd5-4c5a-9e8c-061c9bebf121"
      },
      "execution_count": null,
      "outputs": [
        {
          "output_type": "stream",
          "name": "stderr",
          "text": [
            "<ipython-input-52-9d1973f65b5f>:18: SettingWithCopyWarning: \n",
            "A value is trying to be set on a copy of a slice from a DataFrame.\n",
            "Try using .loc[row_indexer,col_indexer] = value instead\n",
            "\n",
            "See the caveats in the documentation: https://pandas.pydata.org/pandas-docs/stable/user_guide/indexing.html#returning-a-view-versus-a-copy\n",
            "  df[\"2주이상식이보충제복용여부\"] = df.apply(fill_missing, axis=1)\n",
            "<ipython-input-52-9d1973f65b5f>:20: SettingWithCopyWarning: \n",
            "A value is trying to be set on a copy of a slice from a DataFrame.\n",
            "Try using .loc[row_indexer,col_indexer] = value instead\n",
            "\n",
            "See the caveats in the documentation: https://pandas.pydata.org/pandas-docs/stable/user_guide/indexing.html#returning-a-view-versus-a-copy\n",
            "  test[\"2주이상식이보충제복용여부\"] = test.apply(fill_missing, axis=1)\n"
          ]
        }
      ]
    },
    {
      "cell_type": "code",
      "source": [
        "df[\"2주이상식이보충제복용여부\"] = df[\"2주이상식이보충제복용여부\"].replace({\n",
        "    1: 1,\n",
        "    2: 0\n",
        "    })"
      ],
      "metadata": {
        "id": "VosPtGhghOCE",
        "colab": {
          "base_uri": "https://localhost:8080/"
        },
        "outputId": "fc7ac155-c85b-437e-a8e4-85ecc6b1aeb2"
      },
      "execution_count": null,
      "outputs": [
        {
          "output_type": "stream",
          "name": "stderr",
          "text": [
            "<ipython-input-53-b860d782fd9e>:1: SettingWithCopyWarning: \n",
            "A value is trying to be set on a copy of a slice from a DataFrame.\n",
            "Try using .loc[row_indexer,col_indexer] = value instead\n",
            "\n",
            "See the caveats in the documentation: https://pandas.pydata.org/pandas-docs/stable/user_guide/indexing.html#returning-a-view-versus-a-copy\n",
            "  df[\"2주이상식이보충제복용여부\"] = df[\"2주이상식이보충제복용여부\"].replace({\n"
          ]
        }
      ]
    },
    {
      "cell_type": "code",
      "source": [
        "test[\"2주이상식이보충제복용여부\"] = test[\"2주이상식이보충제복용여부\"].replace({\n",
        "    1: 1,\n",
        "    2: 0\n",
        "    })"
      ],
      "metadata": {
        "colab": {
          "base_uri": "https://localhost:8080/"
        },
        "id": "FsPbCvpfh2oC",
        "outputId": "54c38053-f0d3-40bb-d7fa-80ec2d8c8dcc"
      },
      "execution_count": null,
      "outputs": [
        {
          "output_type": "stream",
          "name": "stderr",
          "text": [
            "<ipython-input-54-db06e562bdaf>:1: SettingWithCopyWarning: \n",
            "A value is trying to be set on a copy of a slice from a DataFrame.\n",
            "Try using .loc[row_indexer,col_indexer] = value instead\n",
            "\n",
            "See the caveats in the documentation: https://pandas.pydata.org/pandas-docs/stable/user_guide/indexing.html#returning-a-view-versus-a-copy\n",
            "  test[\"2주이상식이보충제복용여부\"] = test[\"2주이상식이보충제복용여부\"].replace({\n"
          ]
        }
      ]
    },
    {
      "cell_type": "markdown",
      "source": [
        "## 254, 255\n",
        "- 다중분류(1: 예, 2: 아니오, 3: 비해당(초등학생 미만), 9: 모름/무응답)으로 이루어짐\n",
        "- 결측치 2: 아니오로 처리하는게 나을듯"
      ],
      "metadata": {
        "id": "Gzu06q061-ru"
      }
    },
    {
      "cell_type": "markdown",
      "source": [
        "- 254"
      ],
      "metadata": {
        "id": "-_ds03312qnZ"
      }
    },
    {
      "cell_type": "code",
      "source": [
        "# 결측치를 2: 아니오로 처리\n",
        "df[\"영양교육및상담경험여부\"] = df[\"영양교육및상담경험여부\"].fillna(2)\n",
        "test[\"영양교육및상담경험여부\"] = test[\"영양교육및상담경험여부\"].fillna(2)"
      ],
      "metadata": {
        "id": "mbaUhKOkzI2-",
        "colab": {
          "base_uri": "https://localhost:8080/"
        },
        "outputId": "40f34220-f8bf-4fd6-aa0b-44693f4f6da9"
      },
      "execution_count": null,
      "outputs": [
        {
          "output_type": "stream",
          "name": "stderr",
          "text": [
            "<ipython-input-55-bd7786828cfb>:2: SettingWithCopyWarning: \n",
            "A value is trying to be set on a copy of a slice from a DataFrame.\n",
            "Try using .loc[row_indexer,col_indexer] = value instead\n",
            "\n",
            "See the caveats in the documentation: https://pandas.pydata.org/pandas-docs/stable/user_guide/indexing.html#returning-a-view-versus-a-copy\n",
            "  df[\"영양교육및상담경험여부\"] = df[\"영양교육및상담경험여부\"].fillna(2)\n",
            "<ipython-input-55-bd7786828cfb>:3: SettingWithCopyWarning: \n",
            "A value is trying to be set on a copy of a slice from a DataFrame.\n",
            "Try using .loc[row_indexer,col_indexer] = value instead\n",
            "\n",
            "See the caveats in the documentation: https://pandas.pydata.org/pandas-docs/stable/user_guide/indexing.html#returning-a-view-versus-a-copy\n",
            "  test[\"영양교육및상담경험여부\"] = test[\"영양교육및상담경험여부\"].fillna(2)\n"
          ]
        }
      ]
    },
    {
      "cell_type": "markdown",
      "source": [
        "- 255"
      ],
      "metadata": {
        "id": "6TeAuAni33-q"
      }
    },
    {
      "cell_type": "code",
      "source": [
        "# \"나이범주\"와 \"영양표시 인지여부\"를 기준으로 그룹화하여 빈도 수 계산\n",
        "result = df.groupby([\"나이범주\", \"영양표시인지여부\"]).size().reset_index(name=\"count\")\n",
        "result"
      ],
      "metadata": {
        "colab": {
          "base_uri": "https://localhost:8080/",
          "height": 859
        },
        "id": "z9p-WjYM352c",
        "outputId": "211fd1cb-16d5-4235-93a5-7718b24343fd"
      },
      "execution_count": null,
      "outputs": [
        {
          "output_type": "stream",
          "name": "stderr",
          "text": [
            "<ipython-input-56-86e19f052731>:2: FutureWarning: The default of observed=False is deprecated and will be changed to True in a future version of pandas. Pass observed=False to retain current behavior or observed=True to adopt the future default and silence this warning.\n",
            "  result = df.groupby([\"나이범주\", \"영양표시인지여부\"]).size().reset_index(name=\"count\")\n"
          ]
        },
        {
          "output_type": "execute_result",
          "data": {
            "text/plain": [
              "   나이범주  영양표시인지여부  count\n",
              "0   10대       1.0    340\n",
              "1   10대       2.0     25\n",
              "2   10대       9.0      1\n",
              "3   20대       1.0   3878\n",
              "4   20대       2.0    208\n",
              "5   20대       9.0      0\n",
              "6   30대       1.0   5268\n",
              "7   30대       2.0    338\n",
              "8   30대       9.0      0\n",
              "9   40대       1.0   6278\n",
              "10  40대       2.0    555\n",
              "11  40대       9.0      2\n",
              "12  50대       1.0   6018\n",
              "13  50대       2.0   1336\n",
              "14  50대       9.0      2\n",
              "15  60대       1.0   4941\n",
              "16  60대       2.0   2716\n",
              "17  60대       9.0      6\n",
              "18  70대       1.0   2113\n",
              "19  70대       2.0   3503\n",
              "20  70대       9.0      1\n",
              "21  80대       1.0    386\n",
              "22  80대       2.0   1450\n",
              "23  80대       9.0      0"
            ],
            "text/html": [
              "\n",
              "  <div id=\"df-6780e47d-1602-4d25-a264-122b84a1fe1b\" class=\"colab-df-container\">\n",
              "    <div>\n",
              "<style scoped>\n",
              "    .dataframe tbody tr th:only-of-type {\n",
              "        vertical-align: middle;\n",
              "    }\n",
              "\n",
              "    .dataframe tbody tr th {\n",
              "        vertical-align: top;\n",
              "    }\n",
              "\n",
              "    .dataframe thead th {\n",
              "        text-align: right;\n",
              "    }\n",
              "</style>\n",
              "<table border=\"1\" class=\"dataframe\">\n",
              "  <thead>\n",
              "    <tr style=\"text-align: right;\">\n",
              "      <th></th>\n",
              "      <th>나이범주</th>\n",
              "      <th>영양표시인지여부</th>\n",
              "      <th>count</th>\n",
              "    </tr>\n",
              "  </thead>\n",
              "  <tbody>\n",
              "    <tr>\n",
              "      <th>0</th>\n",
              "      <td>10대</td>\n",
              "      <td>1.0</td>\n",
              "      <td>340</td>\n",
              "    </tr>\n",
              "    <tr>\n",
              "      <th>1</th>\n",
              "      <td>10대</td>\n",
              "      <td>2.0</td>\n",
              "      <td>25</td>\n",
              "    </tr>\n",
              "    <tr>\n",
              "      <th>2</th>\n",
              "      <td>10대</td>\n",
              "      <td>9.0</td>\n",
              "      <td>1</td>\n",
              "    </tr>\n",
              "    <tr>\n",
              "      <th>3</th>\n",
              "      <td>20대</td>\n",
              "      <td>1.0</td>\n",
              "      <td>3878</td>\n",
              "    </tr>\n",
              "    <tr>\n",
              "      <th>4</th>\n",
              "      <td>20대</td>\n",
              "      <td>2.0</td>\n",
              "      <td>208</td>\n",
              "    </tr>\n",
              "    <tr>\n",
              "      <th>5</th>\n",
              "      <td>20대</td>\n",
              "      <td>9.0</td>\n",
              "      <td>0</td>\n",
              "    </tr>\n",
              "    <tr>\n",
              "      <th>6</th>\n",
              "      <td>30대</td>\n",
              "      <td>1.0</td>\n",
              "      <td>5268</td>\n",
              "    </tr>\n",
              "    <tr>\n",
              "      <th>7</th>\n",
              "      <td>30대</td>\n",
              "      <td>2.0</td>\n",
              "      <td>338</td>\n",
              "    </tr>\n",
              "    <tr>\n",
              "      <th>8</th>\n",
              "      <td>30대</td>\n",
              "      <td>9.0</td>\n",
              "      <td>0</td>\n",
              "    </tr>\n",
              "    <tr>\n",
              "      <th>9</th>\n",
              "      <td>40대</td>\n",
              "      <td>1.0</td>\n",
              "      <td>6278</td>\n",
              "    </tr>\n",
              "    <tr>\n",
              "      <th>10</th>\n",
              "      <td>40대</td>\n",
              "      <td>2.0</td>\n",
              "      <td>555</td>\n",
              "    </tr>\n",
              "    <tr>\n",
              "      <th>11</th>\n",
              "      <td>40대</td>\n",
              "      <td>9.0</td>\n",
              "      <td>2</td>\n",
              "    </tr>\n",
              "    <tr>\n",
              "      <th>12</th>\n",
              "      <td>50대</td>\n",
              "      <td>1.0</td>\n",
              "      <td>6018</td>\n",
              "    </tr>\n",
              "    <tr>\n",
              "      <th>13</th>\n",
              "      <td>50대</td>\n",
              "      <td>2.0</td>\n",
              "      <td>1336</td>\n",
              "    </tr>\n",
              "    <tr>\n",
              "      <th>14</th>\n",
              "      <td>50대</td>\n",
              "      <td>9.0</td>\n",
              "      <td>2</td>\n",
              "    </tr>\n",
              "    <tr>\n",
              "      <th>15</th>\n",
              "      <td>60대</td>\n",
              "      <td>1.0</td>\n",
              "      <td>4941</td>\n",
              "    </tr>\n",
              "    <tr>\n",
              "      <th>16</th>\n",
              "      <td>60대</td>\n",
              "      <td>2.0</td>\n",
              "      <td>2716</td>\n",
              "    </tr>\n",
              "    <tr>\n",
              "      <th>17</th>\n",
              "      <td>60대</td>\n",
              "      <td>9.0</td>\n",
              "      <td>6</td>\n",
              "    </tr>\n",
              "    <tr>\n",
              "      <th>18</th>\n",
              "      <td>70대</td>\n",
              "      <td>1.0</td>\n",
              "      <td>2113</td>\n",
              "    </tr>\n",
              "    <tr>\n",
              "      <th>19</th>\n",
              "      <td>70대</td>\n",
              "      <td>2.0</td>\n",
              "      <td>3503</td>\n",
              "    </tr>\n",
              "    <tr>\n",
              "      <th>20</th>\n",
              "      <td>70대</td>\n",
              "      <td>9.0</td>\n",
              "      <td>1</td>\n",
              "    </tr>\n",
              "    <tr>\n",
              "      <th>21</th>\n",
              "      <td>80대</td>\n",
              "      <td>1.0</td>\n",
              "      <td>386</td>\n",
              "    </tr>\n",
              "    <tr>\n",
              "      <th>22</th>\n",
              "      <td>80대</td>\n",
              "      <td>2.0</td>\n",
              "      <td>1450</td>\n",
              "    </tr>\n",
              "    <tr>\n",
              "      <th>23</th>\n",
              "      <td>80대</td>\n",
              "      <td>9.0</td>\n",
              "      <td>0</td>\n",
              "    </tr>\n",
              "  </tbody>\n",
              "</table>\n",
              "</div>\n",
              "    <div class=\"colab-df-buttons\">\n",
              "\n",
              "  <div class=\"colab-df-container\">\n",
              "    <button class=\"colab-df-convert\" onclick=\"convertToInteractive('df-6780e47d-1602-4d25-a264-122b84a1fe1b')\"\n",
              "            title=\"Convert this dataframe to an interactive table.\"\n",
              "            style=\"display:none;\">\n",
              "\n",
              "  <svg xmlns=\"http://www.w3.org/2000/svg\" height=\"24px\" viewBox=\"0 -960 960 960\">\n",
              "    <path d=\"M120-120v-720h720v720H120Zm60-500h600v-160H180v160Zm220 220h160v-160H400v160Zm0 220h160v-160H400v160ZM180-400h160v-160H180v160Zm440 0h160v-160H620v160ZM180-180h160v-160H180v160Zm440 0h160v-160H620v160Z\"/>\n",
              "  </svg>\n",
              "    </button>\n",
              "\n",
              "  <style>\n",
              "    .colab-df-container {\n",
              "      display:flex;\n",
              "      gap: 12px;\n",
              "    }\n",
              "\n",
              "    .colab-df-convert {\n",
              "      background-color: #E8F0FE;\n",
              "      border: none;\n",
              "      border-radius: 50%;\n",
              "      cursor: pointer;\n",
              "      display: none;\n",
              "      fill: #1967D2;\n",
              "      height: 32px;\n",
              "      padding: 0 0 0 0;\n",
              "      width: 32px;\n",
              "    }\n",
              "\n",
              "    .colab-df-convert:hover {\n",
              "      background-color: #E2EBFA;\n",
              "      box-shadow: 0px 1px 2px rgba(60, 64, 67, 0.3), 0px 1px 3px 1px rgba(60, 64, 67, 0.15);\n",
              "      fill: #174EA6;\n",
              "    }\n",
              "\n",
              "    .colab-df-buttons div {\n",
              "      margin-bottom: 4px;\n",
              "    }\n",
              "\n",
              "    [theme=dark] .colab-df-convert {\n",
              "      background-color: #3B4455;\n",
              "      fill: #D2E3FC;\n",
              "    }\n",
              "\n",
              "    [theme=dark] .colab-df-convert:hover {\n",
              "      background-color: #434B5C;\n",
              "      box-shadow: 0px 1px 3px 1px rgba(0, 0, 0, 0.15);\n",
              "      filter: drop-shadow(0px 1px 2px rgba(0, 0, 0, 0.3));\n",
              "      fill: #FFFFFF;\n",
              "    }\n",
              "  </style>\n",
              "\n",
              "    <script>\n",
              "      const buttonEl =\n",
              "        document.querySelector('#df-6780e47d-1602-4d25-a264-122b84a1fe1b button.colab-df-convert');\n",
              "      buttonEl.style.display =\n",
              "        google.colab.kernel.accessAllowed ? 'block' : 'none';\n",
              "\n",
              "      async function convertToInteractive(key) {\n",
              "        const element = document.querySelector('#df-6780e47d-1602-4d25-a264-122b84a1fe1b');\n",
              "        const dataTable =\n",
              "          await google.colab.kernel.invokeFunction('convertToInteractive',\n",
              "                                                    [key], {});\n",
              "        if (!dataTable) return;\n",
              "\n",
              "        const docLinkHtml = 'Like what you see? Visit the ' +\n",
              "          '<a target=\"_blank\" href=https://colab.research.google.com/notebooks/data_table.ipynb>data table notebook</a>'\n",
              "          + ' to learn more about interactive tables.';\n",
              "        element.innerHTML = '';\n",
              "        dataTable['output_type'] = 'display_data';\n",
              "        await google.colab.output.renderOutput(dataTable, element);\n",
              "        const docLink = document.createElement('div');\n",
              "        docLink.innerHTML = docLinkHtml;\n",
              "        element.appendChild(docLink);\n",
              "      }\n",
              "    </script>\n",
              "  </div>\n",
              "\n",
              "\n",
              "<div id=\"df-bb3d321f-183d-400d-8326-18a322042857\">\n",
              "  <button class=\"colab-df-quickchart\" onclick=\"quickchart('df-bb3d321f-183d-400d-8326-18a322042857')\"\n",
              "            title=\"Suggest charts\"\n",
              "            style=\"display:none;\">\n",
              "\n",
              "<svg xmlns=\"http://www.w3.org/2000/svg\" height=\"24px\"viewBox=\"0 0 24 24\"\n",
              "     width=\"24px\">\n",
              "    <g>\n",
              "        <path d=\"M19 3H5c-1.1 0-2 .9-2 2v14c0 1.1.9 2 2 2h14c1.1 0 2-.9 2-2V5c0-1.1-.9-2-2-2zM9 17H7v-7h2v7zm4 0h-2V7h2v10zm4 0h-2v-4h2v4z\"/>\n",
              "    </g>\n",
              "</svg>\n",
              "  </button>\n",
              "\n",
              "<style>\n",
              "  .colab-df-quickchart {\n",
              "      --bg-color: #E8F0FE;\n",
              "      --fill-color: #1967D2;\n",
              "      --hover-bg-color: #E2EBFA;\n",
              "      --hover-fill-color: #174EA6;\n",
              "      --disabled-fill-color: #AAA;\n",
              "      --disabled-bg-color: #DDD;\n",
              "  }\n",
              "\n",
              "  [theme=dark] .colab-df-quickchart {\n",
              "      --bg-color: #3B4455;\n",
              "      --fill-color: #D2E3FC;\n",
              "      --hover-bg-color: #434B5C;\n",
              "      --hover-fill-color: #FFFFFF;\n",
              "      --disabled-bg-color: #3B4455;\n",
              "      --disabled-fill-color: #666;\n",
              "  }\n",
              "\n",
              "  .colab-df-quickchart {\n",
              "    background-color: var(--bg-color);\n",
              "    border: none;\n",
              "    border-radius: 50%;\n",
              "    cursor: pointer;\n",
              "    display: none;\n",
              "    fill: var(--fill-color);\n",
              "    height: 32px;\n",
              "    padding: 0;\n",
              "    width: 32px;\n",
              "  }\n",
              "\n",
              "  .colab-df-quickchart:hover {\n",
              "    background-color: var(--hover-bg-color);\n",
              "    box-shadow: 0 1px 2px rgba(60, 64, 67, 0.3), 0 1px 3px 1px rgba(60, 64, 67, 0.15);\n",
              "    fill: var(--button-hover-fill-color);\n",
              "  }\n",
              "\n",
              "  .colab-df-quickchart-complete:disabled,\n",
              "  .colab-df-quickchart-complete:disabled:hover {\n",
              "    background-color: var(--disabled-bg-color);\n",
              "    fill: var(--disabled-fill-color);\n",
              "    box-shadow: none;\n",
              "  }\n",
              "\n",
              "  .colab-df-spinner {\n",
              "    border: 2px solid var(--fill-color);\n",
              "    border-color: transparent;\n",
              "    border-bottom-color: var(--fill-color);\n",
              "    animation:\n",
              "      spin 1s steps(1) infinite;\n",
              "  }\n",
              "\n",
              "  @keyframes spin {\n",
              "    0% {\n",
              "      border-color: transparent;\n",
              "      border-bottom-color: var(--fill-color);\n",
              "      border-left-color: var(--fill-color);\n",
              "    }\n",
              "    20% {\n",
              "      border-color: transparent;\n",
              "      border-left-color: var(--fill-color);\n",
              "      border-top-color: var(--fill-color);\n",
              "    }\n",
              "    30% {\n",
              "      border-color: transparent;\n",
              "      border-left-color: var(--fill-color);\n",
              "      border-top-color: var(--fill-color);\n",
              "      border-right-color: var(--fill-color);\n",
              "    }\n",
              "    40% {\n",
              "      border-color: transparent;\n",
              "      border-right-color: var(--fill-color);\n",
              "      border-top-color: var(--fill-color);\n",
              "    }\n",
              "    60% {\n",
              "      border-color: transparent;\n",
              "      border-right-color: var(--fill-color);\n",
              "    }\n",
              "    80% {\n",
              "      border-color: transparent;\n",
              "      border-right-color: var(--fill-color);\n",
              "      border-bottom-color: var(--fill-color);\n",
              "    }\n",
              "    90% {\n",
              "      border-color: transparent;\n",
              "      border-bottom-color: var(--fill-color);\n",
              "    }\n",
              "  }\n",
              "</style>\n",
              "\n",
              "  <script>\n",
              "    async function quickchart(key) {\n",
              "      const quickchartButtonEl =\n",
              "        document.querySelector('#' + key + ' button');\n",
              "      quickchartButtonEl.disabled = true;  // To prevent multiple clicks.\n",
              "      quickchartButtonEl.classList.add('colab-df-spinner');\n",
              "      try {\n",
              "        const charts = await google.colab.kernel.invokeFunction(\n",
              "            'suggestCharts', [key], {});\n",
              "      } catch (error) {\n",
              "        console.error('Error during call to suggestCharts:', error);\n",
              "      }\n",
              "      quickchartButtonEl.classList.remove('colab-df-spinner');\n",
              "      quickchartButtonEl.classList.add('colab-df-quickchart-complete');\n",
              "    }\n",
              "    (() => {\n",
              "      let quickchartButtonEl =\n",
              "        document.querySelector('#df-bb3d321f-183d-400d-8326-18a322042857 button');\n",
              "      quickchartButtonEl.style.display =\n",
              "        google.colab.kernel.accessAllowed ? 'block' : 'none';\n",
              "    })();\n",
              "  </script>\n",
              "</div>\n",
              "\n",
              "  <div id=\"id_32c2a1b3-69fe-4ee3-9e30-0f3cb7b782b3\">\n",
              "    <style>\n",
              "      .colab-df-generate {\n",
              "        background-color: #E8F0FE;\n",
              "        border: none;\n",
              "        border-radius: 50%;\n",
              "        cursor: pointer;\n",
              "        display: none;\n",
              "        fill: #1967D2;\n",
              "        height: 32px;\n",
              "        padding: 0 0 0 0;\n",
              "        width: 32px;\n",
              "      }\n",
              "\n",
              "      .colab-df-generate:hover {\n",
              "        background-color: #E2EBFA;\n",
              "        box-shadow: 0px 1px 2px rgba(60, 64, 67, 0.3), 0px 1px 3px 1px rgba(60, 64, 67, 0.15);\n",
              "        fill: #174EA6;\n",
              "      }\n",
              "\n",
              "      [theme=dark] .colab-df-generate {\n",
              "        background-color: #3B4455;\n",
              "        fill: #D2E3FC;\n",
              "      }\n",
              "\n",
              "      [theme=dark] .colab-df-generate:hover {\n",
              "        background-color: #434B5C;\n",
              "        box-shadow: 0px 1px 3px 1px rgba(0, 0, 0, 0.15);\n",
              "        filter: drop-shadow(0px 1px 2px rgba(0, 0, 0, 0.3));\n",
              "        fill: #FFFFFF;\n",
              "      }\n",
              "    </style>\n",
              "    <button class=\"colab-df-generate\" onclick=\"generateWithVariable('result')\"\n",
              "            title=\"Generate code using this dataframe.\"\n",
              "            style=\"display:none;\">\n",
              "\n",
              "  <svg xmlns=\"http://www.w3.org/2000/svg\" height=\"24px\"viewBox=\"0 0 24 24\"\n",
              "       width=\"24px\">\n",
              "    <path d=\"M7,19H8.4L18.45,9,17,7.55,7,17.6ZM5,21V16.75L18.45,3.32a2,2,0,0,1,2.83,0l1.4,1.43a1.91,1.91,0,0,1,.58,1.4,1.91,1.91,0,0,1-.58,1.4L9.25,21ZM18.45,9,17,7.55Zm-12,3A5.31,5.31,0,0,0,4.9,8.1,5.31,5.31,0,0,0,1,6.5,5.31,5.31,0,0,0,4.9,4.9,5.31,5.31,0,0,0,6.5,1,5.31,5.31,0,0,0,8.1,4.9,5.31,5.31,0,0,0,12,6.5,5.46,5.46,0,0,0,6.5,12Z\"/>\n",
              "  </svg>\n",
              "    </button>\n",
              "    <script>\n",
              "      (() => {\n",
              "      const buttonEl =\n",
              "        document.querySelector('#id_32c2a1b3-69fe-4ee3-9e30-0f3cb7b782b3 button.colab-df-generate');\n",
              "      buttonEl.style.display =\n",
              "        google.colab.kernel.accessAllowed ? 'block' : 'none';\n",
              "\n",
              "      buttonEl.onclick = () => {\n",
              "        google.colab.notebook.generateWithVariable('result');\n",
              "      }\n",
              "      })();\n",
              "    </script>\n",
              "  </div>\n",
              "\n",
              "    </div>\n",
              "  </div>\n"
            ],
            "application/vnd.google.colaboratory.intrinsic+json": {
              "type": "dataframe",
              "variable_name": "result",
              "summary": "{\n  \"name\": \"result\",\n  \"rows\": 24,\n  \"fields\": [\n    {\n      \"column\": \"\\ub098\\uc774\\ubc94\\uc8fc\",\n      \"properties\": {\n        \"dtype\": \"category\",\n        \"num_unique_values\": 8,\n        \"samples\": [\n          \"20\\ub300\",\n          \"60\\ub300\",\n          \"10\\ub300\"\n        ],\n        \"semantic_type\": \"\",\n        \"description\": \"\"\n      }\n    },\n    {\n      \"column\": \"\\uc601\\uc591\\ud45c\\uc2dc\\uc778\\uc9c0\\uc5ec\\ubd80\",\n      \"properties\": {\n        \"dtype\": \"number\",\n        \"std\": 3.635573036585543,\n        \"min\": 1.0,\n        \"max\": 9.0,\n        \"num_unique_values\": 3,\n        \"samples\": [\n          1.0,\n          2.0,\n          9.0\n        ],\n        \"semantic_type\": \"\",\n        \"description\": \"\"\n      }\n    },\n    {\n      \"column\": \"count\",\n      \"properties\": {\n        \"dtype\": \"number\",\n        \"std\": 2156,\n        \"min\": 0,\n        \"max\": 6278,\n        \"num_unique_values\": 20,\n        \"samples\": [\n          340,\n          3503,\n          6\n        ],\n        \"semantic_type\": \"\",\n        \"description\": \"\"\n      }\n    }\n  ]\n}"
            }
          },
          "metadata": {},
          "execution_count": 56
        }
      ]
    },
    {
      "cell_type": "code",
      "source": [
        "random.seed(42)\n",
        "def fill_missing(row):\n",
        "    if pd.isna(row[\"영양표시인지여부\"]):\n",
        "        if row[\"나이범주\"] in [\"20대\", \"30대\", \"40대\"]:\n",
        "            # 50대 미만인 경우, 1: 예 90%, 2: 아니오 10%\n",
        "            return random.choices([1, 2], weights=[90, 10])[0]\n",
        "        elif row[\"나이범주\"] == \"50대\":\n",
        "            # 50대인 경우, 1: 예 85%, 2: 아니오 15%\n",
        "            return random.choices([1, 2], weights=[85, 15])[0]\n",
        "        elif row[\"나이범주\"] == \"60대\":\n",
        "            # 60대인 경우, 1: 예 65%, 2: 아니오 35%\n",
        "            return random.choices([1, 2], weights=[65, 35])[0]\n",
        "        elif row[\"나이범주\"] in [\"70대\", \"80대\"]:\n",
        "            # 70대 이상인 경우, 1: 예 20%, 2: 아니오 80%\n",
        "            return random.choices([1, 2], weights=[20, 80])[0]\n",
        "    return row[\"영양표시인지여부\"]\n",
        "random.seed(42)\n",
        "df[\"영양표시인지여부\"] = df.apply(fill_missing, axis=1)\n",
        "\n",
        "random.seed(42)\n",
        "test[\"영양표시인지여부\"] = test.apply(fill_missing, axis=1)"
      ],
      "metadata": {
        "id": "jT5lR0VO35z9",
        "colab": {
          "base_uri": "https://localhost:8080/"
        },
        "outputId": "22e91212-a207-483b-bc5d-4f347435edc4"
      },
      "execution_count": null,
      "outputs": [
        {
          "output_type": "stream",
          "name": "stderr",
          "text": [
            "<ipython-input-57-29976ab565bf>:18: SettingWithCopyWarning: \n",
            "A value is trying to be set on a copy of a slice from a DataFrame.\n",
            "Try using .loc[row_indexer,col_indexer] = value instead\n",
            "\n",
            "See the caveats in the documentation: https://pandas.pydata.org/pandas-docs/stable/user_guide/indexing.html#returning-a-view-versus-a-copy\n",
            "  df[\"영양표시인지여부\"] = df.apply(fill_missing, axis=1)\n",
            "<ipython-input-57-29976ab565bf>:21: SettingWithCopyWarning: \n",
            "A value is trying to be set on a copy of a slice from a DataFrame.\n",
            "Try using .loc[row_indexer,col_indexer] = value instead\n",
            "\n",
            "See the caveats in the documentation: https://pandas.pydata.org/pandas-docs/stable/user_guide/indexing.html#returning-a-view-versus-a-copy\n",
            "  test[\"영양표시인지여부\"] = test.apply(fill_missing, axis=1)\n"
          ]
        }
      ]
    },
    {
      "cell_type": "code",
      "source": [
        "# 나머지 결측치 9: 모름/무응답 처리\n",
        "df[\"영양표시인지여부\"] = df[\"영양표시인지여부\"].fillna(9)\n",
        "test[\"영양표시인지여부\"] = test[\"영양표시인지여부\"].fillna(9)"
      ],
      "metadata": {
        "id": "TFrCBIoX5ByH",
        "colab": {
          "base_uri": "https://localhost:8080/"
        },
        "outputId": "ee256cd8-4212-4920-d9e2-3a8d13528b83"
      },
      "execution_count": null,
      "outputs": [
        {
          "output_type": "stream",
          "name": "stderr",
          "text": [
            "<ipython-input-58-69dbcc14ee8a>:2: SettingWithCopyWarning: \n",
            "A value is trying to be set on a copy of a slice from a DataFrame.\n",
            "Try using .loc[row_indexer,col_indexer] = value instead\n",
            "\n",
            "See the caveats in the documentation: https://pandas.pydata.org/pandas-docs/stable/user_guide/indexing.html#returning-a-view-versus-a-copy\n",
            "  df[\"영양표시인지여부\"] = df[\"영양표시인지여부\"].fillna(9)\n",
            "<ipython-input-58-69dbcc14ee8a>:3: SettingWithCopyWarning: \n",
            "A value is trying to be set on a copy of a slice from a DataFrame.\n",
            "Try using .loc[row_indexer,col_indexer] = value instead\n",
            "\n",
            "See the caveats in the documentation: https://pandas.pydata.org/pandas-docs/stable/user_guide/indexing.html#returning-a-view-versus-a-copy\n",
            "  test[\"영양표시인지여부\"] = test[\"영양표시인지여부\"].fillna(9)\n"
          ]
        }
      ]
    },
    {
      "cell_type": "markdown",
      "source": [
        "## 256 (영양표시이용여부)\n",
        "- 다중분류(1: 예, 2: 아니오, 8: 비해당(초등학생 미만), 9: 모름/무응답)\n",
        "- 결측치 아니오로 대체해도 될듯"
      ],
      "metadata": {
        "id": "D825EMdh7N6H"
      }
    },
    {
      "cell_type": "code",
      "source": [
        "# \"영양표시이용여부\"가 결측치가 아닌 사람들에 대해 \"나이범주\"와 \"영양표시이용여부\"의 합산\n",
        "grouped = df[df[\"영양표시이용여부\"].notna()].groupby([\"나이범주\", \"영양표시이용여부\"]).size().reset_index(name=\"count\")\n",
        "\n",
        "# 결과 확인\n",
        "grouped"
      ],
      "metadata": {
        "colab": {
          "base_uri": "https://localhost:8080/",
          "height": 1000
        },
        "collapsed": true,
        "id": "0wae5vs37GLV",
        "outputId": "424d31fd-f8b0-47cb-c664-77778f7caca3"
      },
      "execution_count": null,
      "outputs": [
        {
          "output_type": "stream",
          "name": "stderr",
          "text": [
            "<ipython-input-59-d6a6ce24410c>:2: FutureWarning: The default of observed=False is deprecated and will be changed to True in a future version of pandas. Pass observed=False to retain current behavior or observed=True to adopt the future default and silence this warning.\n",
            "  grouped = df[df[\"영양표시이용여부\"].notna()].groupby([\"나이범주\", \"영양표시이용여부\"]).size().reset_index(name=\"count\")\n"
          ]
        },
        {
          "output_type": "execute_result",
          "data": {
            "text/plain": [
              "   나이범주  영양표시이용여부  count\n",
              "0   10대       1.0    116\n",
              "1   10대       2.0    224\n",
              "2   10대       8.0     25\n",
              "3   10대       9.0      1\n",
              "4   20대       1.0   1739\n",
              "5   20대       2.0   2139\n",
              "6   20대       8.0    208\n",
              "7   20대       9.0      0\n",
              "8   30대       1.0   2407\n",
              "9   30대       2.0   2861\n",
              "10  30대       8.0    338\n",
              "11  30대       9.0      0\n",
              "12  40대       1.0   2687\n",
              "13  40대       2.0   3591\n",
              "14  40대       8.0    555\n",
              "15  40대       9.0      2\n",
              "16  50대       1.0   2003\n",
              "17  50대       2.0   4015\n",
              "18  50대       8.0   1336\n",
              "19  50대       9.0      2\n",
              "20  60대       1.0   1339\n",
              "21  60대       2.0   3602\n",
              "22  60대       8.0   2716\n",
              "23  60대       9.0      6\n",
              "24  70대       1.0    413\n",
              "25  70대       2.0   1700\n",
              "26  70대       8.0   3503\n",
              "27  70대       9.0      1\n",
              "28  80대       1.0     68\n",
              "29  80대       2.0    318\n",
              "30  80대       8.0   1450\n",
              "31  80대       9.0      0"
            ],
            "text/html": [
              "\n",
              "  <div id=\"df-c2d3841d-7097-43ed-9232-b6c2f5d1edeb\" class=\"colab-df-container\">\n",
              "    <div>\n",
              "<style scoped>\n",
              "    .dataframe tbody tr th:only-of-type {\n",
              "        vertical-align: middle;\n",
              "    }\n",
              "\n",
              "    .dataframe tbody tr th {\n",
              "        vertical-align: top;\n",
              "    }\n",
              "\n",
              "    .dataframe thead th {\n",
              "        text-align: right;\n",
              "    }\n",
              "</style>\n",
              "<table border=\"1\" class=\"dataframe\">\n",
              "  <thead>\n",
              "    <tr style=\"text-align: right;\">\n",
              "      <th></th>\n",
              "      <th>나이범주</th>\n",
              "      <th>영양표시이용여부</th>\n",
              "      <th>count</th>\n",
              "    </tr>\n",
              "  </thead>\n",
              "  <tbody>\n",
              "    <tr>\n",
              "      <th>0</th>\n",
              "      <td>10대</td>\n",
              "      <td>1.0</td>\n",
              "      <td>116</td>\n",
              "    </tr>\n",
              "    <tr>\n",
              "      <th>1</th>\n",
              "      <td>10대</td>\n",
              "      <td>2.0</td>\n",
              "      <td>224</td>\n",
              "    </tr>\n",
              "    <tr>\n",
              "      <th>2</th>\n",
              "      <td>10대</td>\n",
              "      <td>8.0</td>\n",
              "      <td>25</td>\n",
              "    </tr>\n",
              "    <tr>\n",
              "      <th>3</th>\n",
              "      <td>10대</td>\n",
              "      <td>9.0</td>\n",
              "      <td>1</td>\n",
              "    </tr>\n",
              "    <tr>\n",
              "      <th>4</th>\n",
              "      <td>20대</td>\n",
              "      <td>1.0</td>\n",
              "      <td>1739</td>\n",
              "    </tr>\n",
              "    <tr>\n",
              "      <th>5</th>\n",
              "      <td>20대</td>\n",
              "      <td>2.0</td>\n",
              "      <td>2139</td>\n",
              "    </tr>\n",
              "    <tr>\n",
              "      <th>6</th>\n",
              "      <td>20대</td>\n",
              "      <td>8.0</td>\n",
              "      <td>208</td>\n",
              "    </tr>\n",
              "    <tr>\n",
              "      <th>7</th>\n",
              "      <td>20대</td>\n",
              "      <td>9.0</td>\n",
              "      <td>0</td>\n",
              "    </tr>\n",
              "    <tr>\n",
              "      <th>8</th>\n",
              "      <td>30대</td>\n",
              "      <td>1.0</td>\n",
              "      <td>2407</td>\n",
              "    </tr>\n",
              "    <tr>\n",
              "      <th>9</th>\n",
              "      <td>30대</td>\n",
              "      <td>2.0</td>\n",
              "      <td>2861</td>\n",
              "    </tr>\n",
              "    <tr>\n",
              "      <th>10</th>\n",
              "      <td>30대</td>\n",
              "      <td>8.0</td>\n",
              "      <td>338</td>\n",
              "    </tr>\n",
              "    <tr>\n",
              "      <th>11</th>\n",
              "      <td>30대</td>\n",
              "      <td>9.0</td>\n",
              "      <td>0</td>\n",
              "    </tr>\n",
              "    <tr>\n",
              "      <th>12</th>\n",
              "      <td>40대</td>\n",
              "      <td>1.0</td>\n",
              "      <td>2687</td>\n",
              "    </tr>\n",
              "    <tr>\n",
              "      <th>13</th>\n",
              "      <td>40대</td>\n",
              "      <td>2.0</td>\n",
              "      <td>3591</td>\n",
              "    </tr>\n",
              "    <tr>\n",
              "      <th>14</th>\n",
              "      <td>40대</td>\n",
              "      <td>8.0</td>\n",
              "      <td>555</td>\n",
              "    </tr>\n",
              "    <tr>\n",
              "      <th>15</th>\n",
              "      <td>40대</td>\n",
              "      <td>9.0</td>\n",
              "      <td>2</td>\n",
              "    </tr>\n",
              "    <tr>\n",
              "      <th>16</th>\n",
              "      <td>50대</td>\n",
              "      <td>1.0</td>\n",
              "      <td>2003</td>\n",
              "    </tr>\n",
              "    <tr>\n",
              "      <th>17</th>\n",
              "      <td>50대</td>\n",
              "      <td>2.0</td>\n",
              "      <td>4015</td>\n",
              "    </tr>\n",
              "    <tr>\n",
              "      <th>18</th>\n",
              "      <td>50대</td>\n",
              "      <td>8.0</td>\n",
              "      <td>1336</td>\n",
              "    </tr>\n",
              "    <tr>\n",
              "      <th>19</th>\n",
              "      <td>50대</td>\n",
              "      <td>9.0</td>\n",
              "      <td>2</td>\n",
              "    </tr>\n",
              "    <tr>\n",
              "      <th>20</th>\n",
              "      <td>60대</td>\n",
              "      <td>1.0</td>\n",
              "      <td>1339</td>\n",
              "    </tr>\n",
              "    <tr>\n",
              "      <th>21</th>\n",
              "      <td>60대</td>\n",
              "      <td>2.0</td>\n",
              "      <td>3602</td>\n",
              "    </tr>\n",
              "    <tr>\n",
              "      <th>22</th>\n",
              "      <td>60대</td>\n",
              "      <td>8.0</td>\n",
              "      <td>2716</td>\n",
              "    </tr>\n",
              "    <tr>\n",
              "      <th>23</th>\n",
              "      <td>60대</td>\n",
              "      <td>9.0</td>\n",
              "      <td>6</td>\n",
              "    </tr>\n",
              "    <tr>\n",
              "      <th>24</th>\n",
              "      <td>70대</td>\n",
              "      <td>1.0</td>\n",
              "      <td>413</td>\n",
              "    </tr>\n",
              "    <tr>\n",
              "      <th>25</th>\n",
              "      <td>70대</td>\n",
              "      <td>2.0</td>\n",
              "      <td>1700</td>\n",
              "    </tr>\n",
              "    <tr>\n",
              "      <th>26</th>\n",
              "      <td>70대</td>\n",
              "      <td>8.0</td>\n",
              "      <td>3503</td>\n",
              "    </tr>\n",
              "    <tr>\n",
              "      <th>27</th>\n",
              "      <td>70대</td>\n",
              "      <td>9.0</td>\n",
              "      <td>1</td>\n",
              "    </tr>\n",
              "    <tr>\n",
              "      <th>28</th>\n",
              "      <td>80대</td>\n",
              "      <td>1.0</td>\n",
              "      <td>68</td>\n",
              "    </tr>\n",
              "    <tr>\n",
              "      <th>29</th>\n",
              "      <td>80대</td>\n",
              "      <td>2.0</td>\n",
              "      <td>318</td>\n",
              "    </tr>\n",
              "    <tr>\n",
              "      <th>30</th>\n",
              "      <td>80대</td>\n",
              "      <td>8.0</td>\n",
              "      <td>1450</td>\n",
              "    </tr>\n",
              "    <tr>\n",
              "      <th>31</th>\n",
              "      <td>80대</td>\n",
              "      <td>9.0</td>\n",
              "      <td>0</td>\n",
              "    </tr>\n",
              "  </tbody>\n",
              "</table>\n",
              "</div>\n",
              "    <div class=\"colab-df-buttons\">\n",
              "\n",
              "  <div class=\"colab-df-container\">\n",
              "    <button class=\"colab-df-convert\" onclick=\"convertToInteractive('df-c2d3841d-7097-43ed-9232-b6c2f5d1edeb')\"\n",
              "            title=\"Convert this dataframe to an interactive table.\"\n",
              "            style=\"display:none;\">\n",
              "\n",
              "  <svg xmlns=\"http://www.w3.org/2000/svg\" height=\"24px\" viewBox=\"0 -960 960 960\">\n",
              "    <path d=\"M120-120v-720h720v720H120Zm60-500h600v-160H180v160Zm220 220h160v-160H400v160Zm0 220h160v-160H400v160ZM180-400h160v-160H180v160Zm440 0h160v-160H620v160ZM180-180h160v-160H180v160Zm440 0h160v-160H620v160Z\"/>\n",
              "  </svg>\n",
              "    </button>\n",
              "\n",
              "  <style>\n",
              "    .colab-df-container {\n",
              "      display:flex;\n",
              "      gap: 12px;\n",
              "    }\n",
              "\n",
              "    .colab-df-convert {\n",
              "      background-color: #E8F0FE;\n",
              "      border: none;\n",
              "      border-radius: 50%;\n",
              "      cursor: pointer;\n",
              "      display: none;\n",
              "      fill: #1967D2;\n",
              "      height: 32px;\n",
              "      padding: 0 0 0 0;\n",
              "      width: 32px;\n",
              "    }\n",
              "\n",
              "    .colab-df-convert:hover {\n",
              "      background-color: #E2EBFA;\n",
              "      box-shadow: 0px 1px 2px rgba(60, 64, 67, 0.3), 0px 1px 3px 1px rgba(60, 64, 67, 0.15);\n",
              "      fill: #174EA6;\n",
              "    }\n",
              "\n",
              "    .colab-df-buttons div {\n",
              "      margin-bottom: 4px;\n",
              "    }\n",
              "\n",
              "    [theme=dark] .colab-df-convert {\n",
              "      background-color: #3B4455;\n",
              "      fill: #D2E3FC;\n",
              "    }\n",
              "\n",
              "    [theme=dark] .colab-df-convert:hover {\n",
              "      background-color: #434B5C;\n",
              "      box-shadow: 0px 1px 3px 1px rgba(0, 0, 0, 0.15);\n",
              "      filter: drop-shadow(0px 1px 2px rgba(0, 0, 0, 0.3));\n",
              "      fill: #FFFFFF;\n",
              "    }\n",
              "  </style>\n",
              "\n",
              "    <script>\n",
              "      const buttonEl =\n",
              "        document.querySelector('#df-c2d3841d-7097-43ed-9232-b6c2f5d1edeb button.colab-df-convert');\n",
              "      buttonEl.style.display =\n",
              "        google.colab.kernel.accessAllowed ? 'block' : 'none';\n",
              "\n",
              "      async function convertToInteractive(key) {\n",
              "        const element = document.querySelector('#df-c2d3841d-7097-43ed-9232-b6c2f5d1edeb');\n",
              "        const dataTable =\n",
              "          await google.colab.kernel.invokeFunction('convertToInteractive',\n",
              "                                                    [key], {});\n",
              "        if (!dataTable) return;\n",
              "\n",
              "        const docLinkHtml = 'Like what you see? Visit the ' +\n",
              "          '<a target=\"_blank\" href=https://colab.research.google.com/notebooks/data_table.ipynb>data table notebook</a>'\n",
              "          + ' to learn more about interactive tables.';\n",
              "        element.innerHTML = '';\n",
              "        dataTable['output_type'] = 'display_data';\n",
              "        await google.colab.output.renderOutput(dataTable, element);\n",
              "        const docLink = document.createElement('div');\n",
              "        docLink.innerHTML = docLinkHtml;\n",
              "        element.appendChild(docLink);\n",
              "      }\n",
              "    </script>\n",
              "  </div>\n",
              "\n",
              "\n",
              "<div id=\"df-5413d106-dfa0-4927-ba77-d1e47a418ca8\">\n",
              "  <button class=\"colab-df-quickchart\" onclick=\"quickchart('df-5413d106-dfa0-4927-ba77-d1e47a418ca8')\"\n",
              "            title=\"Suggest charts\"\n",
              "            style=\"display:none;\">\n",
              "\n",
              "<svg xmlns=\"http://www.w3.org/2000/svg\" height=\"24px\"viewBox=\"0 0 24 24\"\n",
              "     width=\"24px\">\n",
              "    <g>\n",
              "        <path d=\"M19 3H5c-1.1 0-2 .9-2 2v14c0 1.1.9 2 2 2h14c1.1 0 2-.9 2-2V5c0-1.1-.9-2-2-2zM9 17H7v-7h2v7zm4 0h-2V7h2v10zm4 0h-2v-4h2v4z\"/>\n",
              "    </g>\n",
              "</svg>\n",
              "  </button>\n",
              "\n",
              "<style>\n",
              "  .colab-df-quickchart {\n",
              "      --bg-color: #E8F0FE;\n",
              "      --fill-color: #1967D2;\n",
              "      --hover-bg-color: #E2EBFA;\n",
              "      --hover-fill-color: #174EA6;\n",
              "      --disabled-fill-color: #AAA;\n",
              "      --disabled-bg-color: #DDD;\n",
              "  }\n",
              "\n",
              "  [theme=dark] .colab-df-quickchart {\n",
              "      --bg-color: #3B4455;\n",
              "      --fill-color: #D2E3FC;\n",
              "      --hover-bg-color: #434B5C;\n",
              "      --hover-fill-color: #FFFFFF;\n",
              "      --disabled-bg-color: #3B4455;\n",
              "      --disabled-fill-color: #666;\n",
              "  }\n",
              "\n",
              "  .colab-df-quickchart {\n",
              "    background-color: var(--bg-color);\n",
              "    border: none;\n",
              "    border-radius: 50%;\n",
              "    cursor: pointer;\n",
              "    display: none;\n",
              "    fill: var(--fill-color);\n",
              "    height: 32px;\n",
              "    padding: 0;\n",
              "    width: 32px;\n",
              "  }\n",
              "\n",
              "  .colab-df-quickchart:hover {\n",
              "    background-color: var(--hover-bg-color);\n",
              "    box-shadow: 0 1px 2px rgba(60, 64, 67, 0.3), 0 1px 3px 1px rgba(60, 64, 67, 0.15);\n",
              "    fill: var(--button-hover-fill-color);\n",
              "  }\n",
              "\n",
              "  .colab-df-quickchart-complete:disabled,\n",
              "  .colab-df-quickchart-complete:disabled:hover {\n",
              "    background-color: var(--disabled-bg-color);\n",
              "    fill: var(--disabled-fill-color);\n",
              "    box-shadow: none;\n",
              "  }\n",
              "\n",
              "  .colab-df-spinner {\n",
              "    border: 2px solid var(--fill-color);\n",
              "    border-color: transparent;\n",
              "    border-bottom-color: var(--fill-color);\n",
              "    animation:\n",
              "      spin 1s steps(1) infinite;\n",
              "  }\n",
              "\n",
              "  @keyframes spin {\n",
              "    0% {\n",
              "      border-color: transparent;\n",
              "      border-bottom-color: var(--fill-color);\n",
              "      border-left-color: var(--fill-color);\n",
              "    }\n",
              "    20% {\n",
              "      border-color: transparent;\n",
              "      border-left-color: var(--fill-color);\n",
              "      border-top-color: var(--fill-color);\n",
              "    }\n",
              "    30% {\n",
              "      border-color: transparent;\n",
              "      border-left-color: var(--fill-color);\n",
              "      border-top-color: var(--fill-color);\n",
              "      border-right-color: var(--fill-color);\n",
              "    }\n",
              "    40% {\n",
              "      border-color: transparent;\n",
              "      border-right-color: var(--fill-color);\n",
              "      border-top-color: var(--fill-color);\n",
              "    }\n",
              "    60% {\n",
              "      border-color: transparent;\n",
              "      border-right-color: var(--fill-color);\n",
              "    }\n",
              "    80% {\n",
              "      border-color: transparent;\n",
              "      border-right-color: var(--fill-color);\n",
              "      border-bottom-color: var(--fill-color);\n",
              "    }\n",
              "    90% {\n",
              "      border-color: transparent;\n",
              "      border-bottom-color: var(--fill-color);\n",
              "    }\n",
              "  }\n",
              "</style>\n",
              "\n",
              "  <script>\n",
              "    async function quickchart(key) {\n",
              "      const quickchartButtonEl =\n",
              "        document.querySelector('#' + key + ' button');\n",
              "      quickchartButtonEl.disabled = true;  // To prevent multiple clicks.\n",
              "      quickchartButtonEl.classList.add('colab-df-spinner');\n",
              "      try {\n",
              "        const charts = await google.colab.kernel.invokeFunction(\n",
              "            'suggestCharts', [key], {});\n",
              "      } catch (error) {\n",
              "        console.error('Error during call to suggestCharts:', error);\n",
              "      }\n",
              "      quickchartButtonEl.classList.remove('colab-df-spinner');\n",
              "      quickchartButtonEl.classList.add('colab-df-quickchart-complete');\n",
              "    }\n",
              "    (() => {\n",
              "      let quickchartButtonEl =\n",
              "        document.querySelector('#df-5413d106-dfa0-4927-ba77-d1e47a418ca8 button');\n",
              "      quickchartButtonEl.style.display =\n",
              "        google.colab.kernel.accessAllowed ? 'block' : 'none';\n",
              "    })();\n",
              "  </script>\n",
              "</div>\n",
              "\n",
              "  <div id=\"id_43567db1-0bdb-47ca-a5c9-b9f75c40ee04\">\n",
              "    <style>\n",
              "      .colab-df-generate {\n",
              "        background-color: #E8F0FE;\n",
              "        border: none;\n",
              "        border-radius: 50%;\n",
              "        cursor: pointer;\n",
              "        display: none;\n",
              "        fill: #1967D2;\n",
              "        height: 32px;\n",
              "        padding: 0 0 0 0;\n",
              "        width: 32px;\n",
              "      }\n",
              "\n",
              "      .colab-df-generate:hover {\n",
              "        background-color: #E2EBFA;\n",
              "        box-shadow: 0px 1px 2px rgba(60, 64, 67, 0.3), 0px 1px 3px 1px rgba(60, 64, 67, 0.15);\n",
              "        fill: #174EA6;\n",
              "      }\n",
              "\n",
              "      [theme=dark] .colab-df-generate {\n",
              "        background-color: #3B4455;\n",
              "        fill: #D2E3FC;\n",
              "      }\n",
              "\n",
              "      [theme=dark] .colab-df-generate:hover {\n",
              "        background-color: #434B5C;\n",
              "        box-shadow: 0px 1px 3px 1px rgba(0, 0, 0, 0.15);\n",
              "        filter: drop-shadow(0px 1px 2px rgba(0, 0, 0, 0.3));\n",
              "        fill: #FFFFFF;\n",
              "      }\n",
              "    </style>\n",
              "    <button class=\"colab-df-generate\" onclick=\"generateWithVariable('grouped')\"\n",
              "            title=\"Generate code using this dataframe.\"\n",
              "            style=\"display:none;\">\n",
              "\n",
              "  <svg xmlns=\"http://www.w3.org/2000/svg\" height=\"24px\"viewBox=\"0 0 24 24\"\n",
              "       width=\"24px\">\n",
              "    <path d=\"M7,19H8.4L18.45,9,17,7.55,7,17.6ZM5,21V16.75L18.45,3.32a2,2,0,0,1,2.83,0l1.4,1.43a1.91,1.91,0,0,1,.58,1.4,1.91,1.91,0,0,1-.58,1.4L9.25,21ZM18.45,9,17,7.55Zm-12,3A5.31,5.31,0,0,0,4.9,8.1,5.31,5.31,0,0,0,1,6.5,5.31,5.31,0,0,0,4.9,4.9,5.31,5.31,0,0,0,6.5,1,5.31,5.31,0,0,0,8.1,4.9,5.31,5.31,0,0,0,12,6.5,5.46,5.46,0,0,0,6.5,12Z\"/>\n",
              "  </svg>\n",
              "    </button>\n",
              "    <script>\n",
              "      (() => {\n",
              "      const buttonEl =\n",
              "        document.querySelector('#id_43567db1-0bdb-47ca-a5c9-b9f75c40ee04 button.colab-df-generate');\n",
              "      buttonEl.style.display =\n",
              "        google.colab.kernel.accessAllowed ? 'block' : 'none';\n",
              "\n",
              "      buttonEl.onclick = () => {\n",
              "        google.colab.notebook.generateWithVariable('grouped');\n",
              "      }\n",
              "      })();\n",
              "    </script>\n",
              "  </div>\n",
              "\n",
              "    </div>\n",
              "  </div>\n"
            ],
            "application/vnd.google.colaboratory.intrinsic+json": {
              "type": "dataframe",
              "variable_name": "grouped",
              "summary": "{\n  \"name\": \"grouped\",\n  \"rows\": 32,\n  \"fields\": [\n    {\n      \"column\": \"\\ub098\\uc774\\ubc94\\uc8fc\",\n      \"properties\": {\n        \"dtype\": \"category\",\n        \"num_unique_values\": 8,\n        \"samples\": [\n          \"20\\ub300\",\n          \"60\\ub300\",\n          \"10\\ub300\"\n        ],\n        \"semantic_type\": \"\",\n        \"description\": \"\"\n      }\n    },\n    {\n      \"column\": \"\\uc601\\uc591\\ud45c\\uc2dc\\uc774\\uc6a9\\uc5ec\\ubd80\",\n      \"properties\": {\n        \"dtype\": \"number\",\n        \"std\": 3.592106040535498,\n        \"min\": 1.0,\n        \"max\": 9.0,\n        \"num_unique_values\": 4,\n        \"samples\": [\n          2.0,\n          9.0,\n          1.0\n        ],\n        \"semantic_type\": \"\",\n        \"description\": \"\"\n      }\n    },\n    {\n      \"column\": \"count\",\n      \"properties\": {\n        \"dtype\": \"number\",\n        \"std\": 1336,\n        \"min\": 0,\n        \"max\": 4015,\n        \"num_unique_values\": 28,\n        \"samples\": [\n          2861,\n          68,\n          2407\n        ],\n        \"semantic_type\": \"\",\n        \"description\": \"\"\n      }\n    }\n  ]\n}"
            }
          },
          "metadata": {},
          "execution_count": 59
        }
      ]
    },
    {
      "cell_type": "code",
      "source": [
        "random.seed(42)\n",
        "def fill_missing(row):\n",
        "    if pd.isna(row[\"영양표시이용여부\"]) or row[\"영양표시이용여부\"] == 9:\n",
        "        if row[\"나이범주\"] == \"10대\":\n",
        "            # 10대의 경우, 1: 예 25%, 2: 아니오 75%\n",
        "            return random.choices([1, 2], weights=[25, 75])[0]\n",
        "        elif row[\"나이범주\"] in [\"20대\", \"30대\", \"40대\"]:\n",
        "            # 50대인 경우, 1: 예 40%, 2: 아니오 60%\n",
        "            return random.choices([1, 2], weights=[40, 60])[0]\n",
        "        elif row[\"나이범주\"]in [\"50대\", \"60대\"]:\n",
        "            # 60대인 경우, 1: 예 65%, 2: 아니오 35%\n",
        "            return random.choices([1, 2], weights=[30, 70])[0]\n",
        "        elif row[\"나이범주\"] in [\"70대\", \"80대\"]:\n",
        "            # 70대 이상인 경우, 1: 예 20%, 2: 아니오 80%\n",
        "            return random.choices([1, 2], weights=[20, 80])[0]\n",
        "    return row[\"영양표시이용여부\"]\n",
        "\n",
        "random.seed(42)\n",
        "df[\"영양표시이용여부\"] = df.apply(fill_missing, axis=1)\n",
        "\n",
        "random.seed(42)\n",
        "test[\"영양표시이용여부\"] = test.apply(fill_missing, axis=1)"
      ],
      "metadata": {
        "id": "x5JKIFf1-bhr",
        "colab": {
          "base_uri": "https://localhost:8080/"
        },
        "outputId": "098e95e4-5dae-4d93-e793-09e1b5259299"
      },
      "execution_count": null,
      "outputs": [
        {
          "output_type": "stream",
          "name": "stderr",
          "text": [
            "<ipython-input-60-73456d27d8cd>:19: SettingWithCopyWarning: \n",
            "A value is trying to be set on a copy of a slice from a DataFrame.\n",
            "Try using .loc[row_indexer,col_indexer] = value instead\n",
            "\n",
            "See the caveats in the documentation: https://pandas.pydata.org/pandas-docs/stable/user_guide/indexing.html#returning-a-view-versus-a-copy\n",
            "  df[\"영양표시이용여부\"] = df.apply(fill_missing, axis=1)\n",
            "<ipython-input-60-73456d27d8cd>:22: SettingWithCopyWarning: \n",
            "A value is trying to be set on a copy of a slice from a DataFrame.\n",
            "Try using .loc[row_indexer,col_indexer] = value instead\n",
            "\n",
            "See the caveats in the documentation: https://pandas.pydata.org/pandas-docs/stable/user_guide/indexing.html#returning-a-view-versus-a-copy\n",
            "  test[\"영양표시이용여부\"] = test.apply(fill_missing, axis=1)\n"
          ]
        }
      ]
    },
    {
      "cell_type": "markdown",
      "source": [
        "## 259 (식사요법여부)\n",
        "- 다중분류(1: 예, 2:아니오, 9:모름/무응답)\n",
        "- 결측치 무응답처리"
      ],
      "metadata": {
        "id": "_-XfUz8VA5Kd"
      }
    },
    {
      "cell_type": "code",
      "source": [
        "grouped = df[df[\"식사요법여부\"].notna()].groupby([\"성별\", \"식사요법여부\"]).size().reset_index(name=\"count\")\n",
        "grouped"
      ],
      "metadata": {
        "colab": {
          "base_uri": "https://localhost:8080/",
          "height": 238
        },
        "id": "tZEZNFN-35nW",
        "outputId": "b111c07a-2ee6-42ec-cac7-b99170175653"
      },
      "execution_count": null,
      "outputs": [
        {
          "output_type": "execute_result",
          "data": {
            "text/plain": [
              "    성별  식사요법여부  count\n",
              "0  1.0     1.0   3857\n",
              "1  1.0     2.0  12846\n",
              "2  1.0     9.0      9\n",
              "3  2.0     1.0   6847\n",
              "4  2.0     2.0  15756\n",
              "5  2.0     9.0     21"
            ],
            "text/html": [
              "\n",
              "  <div id=\"df-5bba4e54-e201-4cd3-ab67-ad513b7c69c8\" class=\"colab-df-container\">\n",
              "    <div>\n",
              "<style scoped>\n",
              "    .dataframe tbody tr th:only-of-type {\n",
              "        vertical-align: middle;\n",
              "    }\n",
              "\n",
              "    .dataframe tbody tr th {\n",
              "        vertical-align: top;\n",
              "    }\n",
              "\n",
              "    .dataframe thead th {\n",
              "        text-align: right;\n",
              "    }\n",
              "</style>\n",
              "<table border=\"1\" class=\"dataframe\">\n",
              "  <thead>\n",
              "    <tr style=\"text-align: right;\">\n",
              "      <th></th>\n",
              "      <th>성별</th>\n",
              "      <th>식사요법여부</th>\n",
              "      <th>count</th>\n",
              "    </tr>\n",
              "  </thead>\n",
              "  <tbody>\n",
              "    <tr>\n",
              "      <th>0</th>\n",
              "      <td>1.0</td>\n",
              "      <td>1.0</td>\n",
              "      <td>3857</td>\n",
              "    </tr>\n",
              "    <tr>\n",
              "      <th>1</th>\n",
              "      <td>1.0</td>\n",
              "      <td>2.0</td>\n",
              "      <td>12846</td>\n",
              "    </tr>\n",
              "    <tr>\n",
              "      <th>2</th>\n",
              "      <td>1.0</td>\n",
              "      <td>9.0</td>\n",
              "      <td>9</td>\n",
              "    </tr>\n",
              "    <tr>\n",
              "      <th>3</th>\n",
              "      <td>2.0</td>\n",
              "      <td>1.0</td>\n",
              "      <td>6847</td>\n",
              "    </tr>\n",
              "    <tr>\n",
              "      <th>4</th>\n",
              "      <td>2.0</td>\n",
              "      <td>2.0</td>\n",
              "      <td>15756</td>\n",
              "    </tr>\n",
              "    <tr>\n",
              "      <th>5</th>\n",
              "      <td>2.0</td>\n",
              "      <td>9.0</td>\n",
              "      <td>21</td>\n",
              "    </tr>\n",
              "  </tbody>\n",
              "</table>\n",
              "</div>\n",
              "    <div class=\"colab-df-buttons\">\n",
              "\n",
              "  <div class=\"colab-df-container\">\n",
              "    <button class=\"colab-df-convert\" onclick=\"convertToInteractive('df-5bba4e54-e201-4cd3-ab67-ad513b7c69c8')\"\n",
              "            title=\"Convert this dataframe to an interactive table.\"\n",
              "            style=\"display:none;\">\n",
              "\n",
              "  <svg xmlns=\"http://www.w3.org/2000/svg\" height=\"24px\" viewBox=\"0 -960 960 960\">\n",
              "    <path d=\"M120-120v-720h720v720H120Zm60-500h600v-160H180v160Zm220 220h160v-160H400v160Zm0 220h160v-160H400v160ZM180-400h160v-160H180v160Zm440 0h160v-160H620v160ZM180-180h160v-160H180v160Zm440 0h160v-160H620v160Z\"/>\n",
              "  </svg>\n",
              "    </button>\n",
              "\n",
              "  <style>\n",
              "    .colab-df-container {\n",
              "      display:flex;\n",
              "      gap: 12px;\n",
              "    }\n",
              "\n",
              "    .colab-df-convert {\n",
              "      background-color: #E8F0FE;\n",
              "      border: none;\n",
              "      border-radius: 50%;\n",
              "      cursor: pointer;\n",
              "      display: none;\n",
              "      fill: #1967D2;\n",
              "      height: 32px;\n",
              "      padding: 0 0 0 0;\n",
              "      width: 32px;\n",
              "    }\n",
              "\n",
              "    .colab-df-convert:hover {\n",
              "      background-color: #E2EBFA;\n",
              "      box-shadow: 0px 1px 2px rgba(60, 64, 67, 0.3), 0px 1px 3px 1px rgba(60, 64, 67, 0.15);\n",
              "      fill: #174EA6;\n",
              "    }\n",
              "\n",
              "    .colab-df-buttons div {\n",
              "      margin-bottom: 4px;\n",
              "    }\n",
              "\n",
              "    [theme=dark] .colab-df-convert {\n",
              "      background-color: #3B4455;\n",
              "      fill: #D2E3FC;\n",
              "    }\n",
              "\n",
              "    [theme=dark] .colab-df-convert:hover {\n",
              "      background-color: #434B5C;\n",
              "      box-shadow: 0px 1px 3px 1px rgba(0, 0, 0, 0.15);\n",
              "      filter: drop-shadow(0px 1px 2px rgba(0, 0, 0, 0.3));\n",
              "      fill: #FFFFFF;\n",
              "    }\n",
              "  </style>\n",
              "\n",
              "    <script>\n",
              "      const buttonEl =\n",
              "        document.querySelector('#df-5bba4e54-e201-4cd3-ab67-ad513b7c69c8 button.colab-df-convert');\n",
              "      buttonEl.style.display =\n",
              "        google.colab.kernel.accessAllowed ? 'block' : 'none';\n",
              "\n",
              "      async function convertToInteractive(key) {\n",
              "        const element = document.querySelector('#df-5bba4e54-e201-4cd3-ab67-ad513b7c69c8');\n",
              "        const dataTable =\n",
              "          await google.colab.kernel.invokeFunction('convertToInteractive',\n",
              "                                                    [key], {});\n",
              "        if (!dataTable) return;\n",
              "\n",
              "        const docLinkHtml = 'Like what you see? Visit the ' +\n",
              "          '<a target=\"_blank\" href=https://colab.research.google.com/notebooks/data_table.ipynb>data table notebook</a>'\n",
              "          + ' to learn more about interactive tables.';\n",
              "        element.innerHTML = '';\n",
              "        dataTable['output_type'] = 'display_data';\n",
              "        await google.colab.output.renderOutput(dataTable, element);\n",
              "        const docLink = document.createElement('div');\n",
              "        docLink.innerHTML = docLinkHtml;\n",
              "        element.appendChild(docLink);\n",
              "      }\n",
              "    </script>\n",
              "  </div>\n",
              "\n",
              "\n",
              "<div id=\"df-9e814419-fafa-421d-9cec-8c1d0c061e29\">\n",
              "  <button class=\"colab-df-quickchart\" onclick=\"quickchart('df-9e814419-fafa-421d-9cec-8c1d0c061e29')\"\n",
              "            title=\"Suggest charts\"\n",
              "            style=\"display:none;\">\n",
              "\n",
              "<svg xmlns=\"http://www.w3.org/2000/svg\" height=\"24px\"viewBox=\"0 0 24 24\"\n",
              "     width=\"24px\">\n",
              "    <g>\n",
              "        <path d=\"M19 3H5c-1.1 0-2 .9-2 2v14c0 1.1.9 2 2 2h14c1.1 0 2-.9 2-2V5c0-1.1-.9-2-2-2zM9 17H7v-7h2v7zm4 0h-2V7h2v10zm4 0h-2v-4h2v4z\"/>\n",
              "    </g>\n",
              "</svg>\n",
              "  </button>\n",
              "\n",
              "<style>\n",
              "  .colab-df-quickchart {\n",
              "      --bg-color: #E8F0FE;\n",
              "      --fill-color: #1967D2;\n",
              "      --hover-bg-color: #E2EBFA;\n",
              "      --hover-fill-color: #174EA6;\n",
              "      --disabled-fill-color: #AAA;\n",
              "      --disabled-bg-color: #DDD;\n",
              "  }\n",
              "\n",
              "  [theme=dark] .colab-df-quickchart {\n",
              "      --bg-color: #3B4455;\n",
              "      --fill-color: #D2E3FC;\n",
              "      --hover-bg-color: #434B5C;\n",
              "      --hover-fill-color: #FFFFFF;\n",
              "      --disabled-bg-color: #3B4455;\n",
              "      --disabled-fill-color: #666;\n",
              "  }\n",
              "\n",
              "  .colab-df-quickchart {\n",
              "    background-color: var(--bg-color);\n",
              "    border: none;\n",
              "    border-radius: 50%;\n",
              "    cursor: pointer;\n",
              "    display: none;\n",
              "    fill: var(--fill-color);\n",
              "    height: 32px;\n",
              "    padding: 0;\n",
              "    width: 32px;\n",
              "  }\n",
              "\n",
              "  .colab-df-quickchart:hover {\n",
              "    background-color: var(--hover-bg-color);\n",
              "    box-shadow: 0 1px 2px rgba(60, 64, 67, 0.3), 0 1px 3px 1px rgba(60, 64, 67, 0.15);\n",
              "    fill: var(--button-hover-fill-color);\n",
              "  }\n",
              "\n",
              "  .colab-df-quickchart-complete:disabled,\n",
              "  .colab-df-quickchart-complete:disabled:hover {\n",
              "    background-color: var(--disabled-bg-color);\n",
              "    fill: var(--disabled-fill-color);\n",
              "    box-shadow: none;\n",
              "  }\n",
              "\n",
              "  .colab-df-spinner {\n",
              "    border: 2px solid var(--fill-color);\n",
              "    border-color: transparent;\n",
              "    border-bottom-color: var(--fill-color);\n",
              "    animation:\n",
              "      spin 1s steps(1) infinite;\n",
              "  }\n",
              "\n",
              "  @keyframes spin {\n",
              "    0% {\n",
              "      border-color: transparent;\n",
              "      border-bottom-color: var(--fill-color);\n",
              "      border-left-color: var(--fill-color);\n",
              "    }\n",
              "    20% {\n",
              "      border-color: transparent;\n",
              "      border-left-color: var(--fill-color);\n",
              "      border-top-color: var(--fill-color);\n",
              "    }\n",
              "    30% {\n",
              "      border-color: transparent;\n",
              "      border-left-color: var(--fill-color);\n",
              "      border-top-color: var(--fill-color);\n",
              "      border-right-color: var(--fill-color);\n",
              "    }\n",
              "    40% {\n",
              "      border-color: transparent;\n",
              "      border-right-color: var(--fill-color);\n",
              "      border-top-color: var(--fill-color);\n",
              "    }\n",
              "    60% {\n",
              "      border-color: transparent;\n",
              "      border-right-color: var(--fill-color);\n",
              "    }\n",
              "    80% {\n",
              "      border-color: transparent;\n",
              "      border-right-color: var(--fill-color);\n",
              "      border-bottom-color: var(--fill-color);\n",
              "    }\n",
              "    90% {\n",
              "      border-color: transparent;\n",
              "      border-bottom-color: var(--fill-color);\n",
              "    }\n",
              "  }\n",
              "</style>\n",
              "\n",
              "  <script>\n",
              "    async function quickchart(key) {\n",
              "      const quickchartButtonEl =\n",
              "        document.querySelector('#' + key + ' button');\n",
              "      quickchartButtonEl.disabled = true;  // To prevent multiple clicks.\n",
              "      quickchartButtonEl.classList.add('colab-df-spinner');\n",
              "      try {\n",
              "        const charts = await google.colab.kernel.invokeFunction(\n",
              "            'suggestCharts', [key], {});\n",
              "      } catch (error) {\n",
              "        console.error('Error during call to suggestCharts:', error);\n",
              "      }\n",
              "      quickchartButtonEl.classList.remove('colab-df-spinner');\n",
              "      quickchartButtonEl.classList.add('colab-df-quickchart-complete');\n",
              "    }\n",
              "    (() => {\n",
              "      let quickchartButtonEl =\n",
              "        document.querySelector('#df-9e814419-fafa-421d-9cec-8c1d0c061e29 button');\n",
              "      quickchartButtonEl.style.display =\n",
              "        google.colab.kernel.accessAllowed ? 'block' : 'none';\n",
              "    })();\n",
              "  </script>\n",
              "</div>\n",
              "\n",
              "  <div id=\"id_73950536-41d7-4cfa-8043-a9f0010ebed0\">\n",
              "    <style>\n",
              "      .colab-df-generate {\n",
              "        background-color: #E8F0FE;\n",
              "        border: none;\n",
              "        border-radius: 50%;\n",
              "        cursor: pointer;\n",
              "        display: none;\n",
              "        fill: #1967D2;\n",
              "        height: 32px;\n",
              "        padding: 0 0 0 0;\n",
              "        width: 32px;\n",
              "      }\n",
              "\n",
              "      .colab-df-generate:hover {\n",
              "        background-color: #E2EBFA;\n",
              "        box-shadow: 0px 1px 2px rgba(60, 64, 67, 0.3), 0px 1px 3px 1px rgba(60, 64, 67, 0.15);\n",
              "        fill: #174EA6;\n",
              "      }\n",
              "\n",
              "      [theme=dark] .colab-df-generate {\n",
              "        background-color: #3B4455;\n",
              "        fill: #D2E3FC;\n",
              "      }\n",
              "\n",
              "      [theme=dark] .colab-df-generate:hover {\n",
              "        background-color: #434B5C;\n",
              "        box-shadow: 0px 1px 3px 1px rgba(0, 0, 0, 0.15);\n",
              "        filter: drop-shadow(0px 1px 2px rgba(0, 0, 0, 0.3));\n",
              "        fill: #FFFFFF;\n",
              "      }\n",
              "    </style>\n",
              "    <button class=\"colab-df-generate\" onclick=\"generateWithVariable('grouped')\"\n",
              "            title=\"Generate code using this dataframe.\"\n",
              "            style=\"display:none;\">\n",
              "\n",
              "  <svg xmlns=\"http://www.w3.org/2000/svg\" height=\"24px\"viewBox=\"0 0 24 24\"\n",
              "       width=\"24px\">\n",
              "    <path d=\"M7,19H8.4L18.45,9,17,7.55,7,17.6ZM5,21V16.75L18.45,3.32a2,2,0,0,1,2.83,0l1.4,1.43a1.91,1.91,0,0,1,.58,1.4,1.91,1.91,0,0,1-.58,1.4L9.25,21ZM18.45,9,17,7.55Zm-12,3A5.31,5.31,0,0,0,4.9,8.1,5.31,5.31,0,0,0,1,6.5,5.31,5.31,0,0,0,4.9,4.9,5.31,5.31,0,0,0,6.5,1,5.31,5.31,0,0,0,8.1,4.9,5.31,5.31,0,0,0,12,6.5,5.46,5.46,0,0,0,6.5,12Z\"/>\n",
              "  </svg>\n",
              "    </button>\n",
              "    <script>\n",
              "      (() => {\n",
              "      const buttonEl =\n",
              "        document.querySelector('#id_73950536-41d7-4cfa-8043-a9f0010ebed0 button.colab-df-generate');\n",
              "      buttonEl.style.display =\n",
              "        google.colab.kernel.accessAllowed ? 'block' : 'none';\n",
              "\n",
              "      buttonEl.onclick = () => {\n",
              "        google.colab.notebook.generateWithVariable('grouped');\n",
              "      }\n",
              "      })();\n",
              "    </script>\n",
              "  </div>\n",
              "\n",
              "    </div>\n",
              "  </div>\n"
            ],
            "application/vnd.google.colaboratory.intrinsic+json": {
              "type": "dataframe",
              "variable_name": "grouped",
              "summary": "{\n  \"name\": \"grouped\",\n  \"rows\": 6,\n  \"fields\": [\n    {\n      \"column\": \"\\uc131\\ubcc4\",\n      \"properties\": {\n        \"dtype\": \"number\",\n        \"std\": 0.5477225575051661,\n        \"min\": 1.0,\n        \"max\": 2.0,\n        \"num_unique_values\": 2,\n        \"samples\": [\n          2.0,\n          1.0\n        ],\n        \"semantic_type\": \"\",\n        \"description\": \"\"\n      }\n    },\n    {\n      \"column\": \"\\uc2dd\\uc0ac\\uc694\\ubc95\\uc5ec\\ubd80\",\n      \"properties\": {\n        \"dtype\": \"number\",\n        \"std\": 3.8987177379235853,\n        \"min\": 1.0,\n        \"max\": 9.0,\n        \"num_unique_values\": 3,\n        \"samples\": [\n          1.0,\n          2.0\n        ],\n        \"semantic_type\": \"\",\n        \"description\": \"\"\n      }\n    },\n    {\n      \"column\": \"count\",\n      \"properties\": {\n        \"dtype\": \"number\",\n        \"std\": 6590,\n        \"min\": 9,\n        \"max\": 15756,\n        \"num_unique_values\": 6,\n        \"samples\": [\n          3857,\n          12846\n        ],\n        \"semantic_type\": \"\",\n        \"description\": \"\"\n      }\n    }\n  ]\n}"
            }
          },
          "metadata": {},
          "execution_count": 61
        }
      ]
    },
    {
      "cell_type": "code",
      "source": [
        "random.seed(42)\n",
        "def fill_missing(row):\n",
        "    if pd.isna(row[\"식사요법여부\"]) or row[\"식사요법여부\"] == 9:\n",
        "        if row[\"성별\"] == 1:\n",
        "            # 남자인 경우, 1: 예 20%, 2: 아니오 80%\n",
        "            return random.choices([1, 2], weights=[20, 80])[0]\n",
        "        elif row[\"성별\"] == 2:\n",
        "            # 여자인 경우, 1: 예 30%, 2: 아니오 70%\n",
        "            return random.choices([1, 2], weights=[30, 70])[0]\n",
        "    return row[\"식사요법여부\"]\n",
        "random.seed(42)\n",
        "df[\"식사요법여부\"] = df.apply(fill_missing, axis=1)\n",
        "\n",
        "random.seed(42)\n",
        "test[\"식사요법여부\"] = test.apply(fill_missing, axis=1)"
      ],
      "metadata": {
        "id": "UxDnmF_T35kw",
        "colab": {
          "base_uri": "https://localhost:8080/"
        },
        "outputId": "4233cf49-443f-470c-9489-375322f0283e"
      },
      "execution_count": null,
      "outputs": [
        {
          "output_type": "stream",
          "name": "stderr",
          "text": [
            "<ipython-input-62-73bfc0177eb9>:12: SettingWithCopyWarning: \n",
            "A value is trying to be set on a copy of a slice from a DataFrame.\n",
            "Try using .loc[row_indexer,col_indexer] = value instead\n",
            "\n",
            "See the caveats in the documentation: https://pandas.pydata.org/pandas-docs/stable/user_guide/indexing.html#returning-a-view-versus-a-copy\n",
            "  df[\"식사요법여부\"] = df.apply(fill_missing, axis=1)\n",
            "<ipython-input-62-73bfc0177eb9>:15: SettingWithCopyWarning: \n",
            "A value is trying to be set on a copy of a slice from a DataFrame.\n",
            "Try using .loc[row_indexer,col_indexer] = value instead\n",
            "\n",
            "See the caveats in the documentation: https://pandas.pydata.org/pandas-docs/stable/user_guide/indexing.html#returning-a-view-versus-a-copy\n",
            "  test[\"식사요법여부\"] = test.apply(fill_missing, axis=1)\n"
          ]
        }
      ]
    },
    {
      "cell_type": "code",
      "source": [
        "df[\"식사요법여부\"].value_counts()"
      ],
      "metadata": {
        "colab": {
          "base_uri": "https://localhost:8080/",
          "height": 178
        },
        "id": "AKYMfPh135f_",
        "outputId": "82507751-00e5-4670-b61a-2a0b354b5cab"
      },
      "execution_count": null,
      "outputs": [
        {
          "output_type": "execute_result",
          "data": {
            "text/plain": [
              "식사요법여부\n",
              "2.0    32729\n",
              "1.0    12062\n",
              "Name: count, dtype: int64"
            ],
            "text/html": [
              "<div>\n",
              "<style scoped>\n",
              "    .dataframe tbody tr th:only-of-type {\n",
              "        vertical-align: middle;\n",
              "    }\n",
              "\n",
              "    .dataframe tbody tr th {\n",
              "        vertical-align: top;\n",
              "    }\n",
              "\n",
              "    .dataframe thead th {\n",
              "        text-align: right;\n",
              "    }\n",
              "</style>\n",
              "<table border=\"1\" class=\"dataframe\">\n",
              "  <thead>\n",
              "    <tr style=\"text-align: right;\">\n",
              "      <th></th>\n",
              "      <th>count</th>\n",
              "    </tr>\n",
              "    <tr>\n",
              "      <th>식사요법여부</th>\n",
              "      <th></th>\n",
              "    </tr>\n",
              "  </thead>\n",
              "  <tbody>\n",
              "    <tr>\n",
              "      <th>2.0</th>\n",
              "      <td>32729</td>\n",
              "    </tr>\n",
              "    <tr>\n",
              "      <th>1.0</th>\n",
              "      <td>12062</td>\n",
              "    </tr>\n",
              "  </tbody>\n",
              "</table>\n",
              "</div><br><label><b>dtype:</b> int64</label>"
            ]
          },
          "metadata": {},
          "execution_count": 63
        }
      ]
    },
    {
      "cell_type": "code",
      "source": [
        "df[\"식사요법여부\"].isnull().sum()"
      ],
      "metadata": {
        "colab": {
          "base_uri": "https://localhost:8080/"
        },
        "id": "SOSQfqi335dd",
        "outputId": "fd69b398-ef35-4d47-d1e2-e8d3fa77af5e"
      },
      "execution_count": null,
      "outputs": [
        {
          "output_type": "execute_result",
          "data": {
            "text/plain": [
              "0"
            ]
          },
          "metadata": {},
          "execution_count": 64
        }
      ]
    },
    {
      "cell_type": "markdown",
      "source": [
        "## 260 (식사요법이유)\n",
        "- 다중분류( 1: 질환이있어서, 2: 체중을 조절하기 위해서, 3: 기타, 8: 비해당(식사요법여부:아니오), 9: 모름/무응답)"
      ],
      "metadata": {
        "id": "gzTAqhaaD2_4"
      }
    },
    {
      "cell_type": "code",
      "source": [
        "# 결측치 무응답 처리\n",
        "df[\"식사요법이유\"] = df[\"식사요법이유\"].fillna(9)\n",
        "test[\"식사요법이유\"] = test[\"식사요법이유\"].fillna(9)"
      ],
      "metadata": {
        "id": "h55kHZNtEbjy",
        "colab": {
          "base_uri": "https://localhost:8080/"
        },
        "outputId": "490319f2-4645-43f1-fdd8-1bf9f47a2e57"
      },
      "execution_count": null,
      "outputs": [
        {
          "output_type": "stream",
          "name": "stderr",
          "text": [
            "<ipython-input-65-fe568a387478>:2: SettingWithCopyWarning: \n",
            "A value is trying to be set on a copy of a slice from a DataFrame.\n",
            "Try using .loc[row_indexer,col_indexer] = value instead\n",
            "\n",
            "See the caveats in the documentation: https://pandas.pydata.org/pandas-docs/stable/user_guide/indexing.html#returning-a-view-versus-a-copy\n",
            "  df[\"식사요법이유\"] = df[\"식사요법이유\"].fillna(9)\n",
            "<ipython-input-65-fe568a387478>:3: SettingWithCopyWarning: \n",
            "A value is trying to be set on a copy of a slice from a DataFrame.\n",
            "Try using .loc[row_indexer,col_indexer] = value instead\n",
            "\n",
            "See the caveats in the documentation: https://pandas.pydata.org/pandas-docs/stable/user_guide/indexing.html#returning-a-view-versus-a-copy\n",
            "  test[\"식사요법이유\"] = test[\"식사요법이유\"].fillna(9)\n"
          ]
        }
      ]
    },
    {
      "cell_type": "markdown",
      "source": [
        "## 264~272\n",
        "- 수치형이라 다 평균으로 대체해야지\n",
        "- 성별과 나이범주별 평균으로 대체하자"
      ],
      "metadata": {
        "id": "EYT1MxyDGNcv"
      }
    },
    {
      "cell_type": "code",
      "source": [
        "# \"나이범주\"와 \"성별\"별 평균 계산\n",
        "grouped_mean = df.groupby(['나이범주', '성별'])[\n",
        "    [\"물섭취량\", \"에너지섭취량\", \"단백질섭취량\", \"지방섭취량\", \"콜레스테롤섭취량\",\n",
        "     \"탄수화물섭취량\", \"식이섬유섭취량\", \"당섭취량\", \"나트륨섭취량\"]].mean()\n",
        "grouped_mean"
      ],
      "metadata": {
        "colab": {
          "base_uri": "https://localhost:8080/",
          "height": 639
        },
        "id": "5Z9TUBPBEbZo",
        "outputId": "ce61b156-b13d-4bce-da2b-6362f7f5c9d3"
      },
      "execution_count": null,
      "outputs": [
        {
          "output_type": "stream",
          "name": "stderr",
          "text": [
            "<ipython-input-66-ba5c02c1890e>:2: FutureWarning: The default of observed=False is deprecated and will be changed to True in a future version of pandas. Pass observed=False to retain current behavior or observed=True to adopt the future default and silence this warning.\n",
            "  grouped_mean = df.groupby(['나이범주', '성별'])[\n"
          ]
        },
        {
          "output_type": "execute_result",
          "data": {
            "text/plain": [
              "              물섭취량       에너지섭취량      단백질섭취량      지방섭취량    콜레스테롤섭취량  \\\n",
              "나이범주 성별                                                              \n",
              "10대  1.0  5.665663  2630.156850  101.215080  78.576821  374.150498   \n",
              "     2.0  3.869000  1685.375782   61.497465  48.308144  239.436186   \n",
              "20대  1.0  6.269715  2399.603779   93.596879  70.246822  350.233912   \n",
              "     2.0  4.701367  1772.186976   65.852177  53.141025  270.062638   \n",
              "30대  1.0  6.499575  2528.036951   96.998186  69.234565  363.912862   \n",
              "     2.0  4.656862  1751.006419   65.842570  48.252877  261.416002   \n",
              "40대  1.0  5.849309  2411.028958   87.478383  58.941065  325.444650   \n",
              "     2.0  4.929534  1700.153882   63.330334  43.924186  241.630345   \n",
              "50대  1.0  5.666788  2297.144124   82.138507  50.278429  277.897051   \n",
              "     2.0  5.149111  1653.708348   59.725024  37.530802  206.489010   \n",
              "60대  1.0  5.797241  2129.703371   75.305084  41.909715  226.379117   \n",
              "     2.0  4.950150  1577.543416   56.045779  31.805631  176.851644   \n",
              "70대  1.0  4.869511  1858.253907   64.157437  33.012764  176.662768   \n",
              "     2.0  4.436588  1404.122914   46.794336  23.957737  124.447196   \n",
              "80대  1.0  4.179487  1627.571290   55.033238  27.902382  147.567233   \n",
              "     2.0  3.802291  1236.948062   40.211203  19.468706   92.496612   \n",
              "\n",
              "             탄수화물섭취량    식이섬유섭취량       당섭취량       나트륨섭취량  \n",
              "나이범주 성별                                                  \n",
              "10대  1.0  330.940246  21.786071  78.509089  4249.137762  \n",
              "     2.0  233.575996  15.426061  58.719425  2513.921566  \n",
              "20대  1.0  309.904978  22.715477  67.364578  4019.316851  \n",
              "     2.0  239.444793  17.546206  59.922968  2879.068021  \n",
              "30대  1.0  327.790181  25.365857  68.576589  4490.407422  \n",
              "     2.0  247.329566  20.116989  56.037931  3105.122698  \n",
              "40대  1.0  327.206871  27.402604  64.480278  4428.294765  \n",
              "     2.0  251.630871  23.147002  58.351209  3068.490595  \n",
              "50대  1.0  329.422793  30.012098  62.761108  4218.031577  \n",
              "     2.0  264.287274  26.945846  62.330317  2908.598432  \n",
              "60대  1.0  329.568080  31.863414  61.400366  3893.638997  \n",
              "     2.0  264.432024  27.320840  55.653951  2707.587584  \n",
              "70대  1.0  305.876719  28.545397  51.436360  3404.862991  \n",
              "     2.0  247.912740  23.452091  45.373396  2456.218822  \n",
              "80대  1.0  277.954283  24.660689  44.911382  2931.284239  \n",
              "     2.0  222.445636  19.349979  36.449257  2135.685012  "
            ],
            "text/html": [
              "\n",
              "  <div id=\"df-55960b54-802c-4f3b-ae7d-50f58bba5206\" class=\"colab-df-container\">\n",
              "    <div>\n",
              "<style scoped>\n",
              "    .dataframe tbody tr th:only-of-type {\n",
              "        vertical-align: middle;\n",
              "    }\n",
              "\n",
              "    .dataframe tbody tr th {\n",
              "        vertical-align: top;\n",
              "    }\n",
              "\n",
              "    .dataframe thead th {\n",
              "        text-align: right;\n",
              "    }\n",
              "</style>\n",
              "<table border=\"1\" class=\"dataframe\">\n",
              "  <thead>\n",
              "    <tr style=\"text-align: right;\">\n",
              "      <th></th>\n",
              "      <th></th>\n",
              "      <th>물섭취량</th>\n",
              "      <th>에너지섭취량</th>\n",
              "      <th>단백질섭취량</th>\n",
              "      <th>지방섭취량</th>\n",
              "      <th>콜레스테롤섭취량</th>\n",
              "      <th>탄수화물섭취량</th>\n",
              "      <th>식이섬유섭취량</th>\n",
              "      <th>당섭취량</th>\n",
              "      <th>나트륨섭취량</th>\n",
              "    </tr>\n",
              "    <tr>\n",
              "      <th>나이범주</th>\n",
              "      <th>성별</th>\n",
              "      <th></th>\n",
              "      <th></th>\n",
              "      <th></th>\n",
              "      <th></th>\n",
              "      <th></th>\n",
              "      <th></th>\n",
              "      <th></th>\n",
              "      <th></th>\n",
              "      <th></th>\n",
              "    </tr>\n",
              "  </thead>\n",
              "  <tbody>\n",
              "    <tr>\n",
              "      <th rowspan=\"2\" valign=\"top\">10대</th>\n",
              "      <th>1.0</th>\n",
              "      <td>5.665663</td>\n",
              "      <td>2630.156850</td>\n",
              "      <td>101.215080</td>\n",
              "      <td>78.576821</td>\n",
              "      <td>374.150498</td>\n",
              "      <td>330.940246</td>\n",
              "      <td>21.786071</td>\n",
              "      <td>78.509089</td>\n",
              "      <td>4249.137762</td>\n",
              "    </tr>\n",
              "    <tr>\n",
              "      <th>2.0</th>\n",
              "      <td>3.869000</td>\n",
              "      <td>1685.375782</td>\n",
              "      <td>61.497465</td>\n",
              "      <td>48.308144</td>\n",
              "      <td>239.436186</td>\n",
              "      <td>233.575996</td>\n",
              "      <td>15.426061</td>\n",
              "      <td>58.719425</td>\n",
              "      <td>2513.921566</td>\n",
              "    </tr>\n",
              "    <tr>\n",
              "      <th rowspan=\"2\" valign=\"top\">20대</th>\n",
              "      <th>1.0</th>\n",
              "      <td>6.269715</td>\n",
              "      <td>2399.603779</td>\n",
              "      <td>93.596879</td>\n",
              "      <td>70.246822</td>\n",
              "      <td>350.233912</td>\n",
              "      <td>309.904978</td>\n",
              "      <td>22.715477</td>\n",
              "      <td>67.364578</td>\n",
              "      <td>4019.316851</td>\n",
              "    </tr>\n",
              "    <tr>\n",
              "      <th>2.0</th>\n",
              "      <td>4.701367</td>\n",
              "      <td>1772.186976</td>\n",
              "      <td>65.852177</td>\n",
              "      <td>53.141025</td>\n",
              "      <td>270.062638</td>\n",
              "      <td>239.444793</td>\n",
              "      <td>17.546206</td>\n",
              "      <td>59.922968</td>\n",
              "      <td>2879.068021</td>\n",
              "    </tr>\n",
              "    <tr>\n",
              "      <th rowspan=\"2\" valign=\"top\">30대</th>\n",
              "      <th>1.0</th>\n",
              "      <td>6.499575</td>\n",
              "      <td>2528.036951</td>\n",
              "      <td>96.998186</td>\n",
              "      <td>69.234565</td>\n",
              "      <td>363.912862</td>\n",
              "      <td>327.790181</td>\n",
              "      <td>25.365857</td>\n",
              "      <td>68.576589</td>\n",
              "      <td>4490.407422</td>\n",
              "    </tr>\n",
              "    <tr>\n",
              "      <th>2.0</th>\n",
              "      <td>4.656862</td>\n",
              "      <td>1751.006419</td>\n",
              "      <td>65.842570</td>\n",
              "      <td>48.252877</td>\n",
              "      <td>261.416002</td>\n",
              "      <td>247.329566</td>\n",
              "      <td>20.116989</td>\n",
              "      <td>56.037931</td>\n",
              "      <td>3105.122698</td>\n",
              "    </tr>\n",
              "    <tr>\n",
              "      <th rowspan=\"2\" valign=\"top\">40대</th>\n",
              "      <th>1.0</th>\n",
              "      <td>5.849309</td>\n",
              "      <td>2411.028958</td>\n",
              "      <td>87.478383</td>\n",
              "      <td>58.941065</td>\n",
              "      <td>325.444650</td>\n",
              "      <td>327.206871</td>\n",
              "      <td>27.402604</td>\n",
              "      <td>64.480278</td>\n",
              "      <td>4428.294765</td>\n",
              "    </tr>\n",
              "    <tr>\n",
              "      <th>2.0</th>\n",
              "      <td>4.929534</td>\n",
              "      <td>1700.153882</td>\n",
              "      <td>63.330334</td>\n",
              "      <td>43.924186</td>\n",
              "      <td>241.630345</td>\n",
              "      <td>251.630871</td>\n",
              "      <td>23.147002</td>\n",
              "      <td>58.351209</td>\n",
              "      <td>3068.490595</td>\n",
              "    </tr>\n",
              "    <tr>\n",
              "      <th rowspan=\"2\" valign=\"top\">50대</th>\n",
              "      <th>1.0</th>\n",
              "      <td>5.666788</td>\n",
              "      <td>2297.144124</td>\n",
              "      <td>82.138507</td>\n",
              "      <td>50.278429</td>\n",
              "      <td>277.897051</td>\n",
              "      <td>329.422793</td>\n",
              "      <td>30.012098</td>\n",
              "      <td>62.761108</td>\n",
              "      <td>4218.031577</td>\n",
              "    </tr>\n",
              "    <tr>\n",
              "      <th>2.0</th>\n",
              "      <td>5.149111</td>\n",
              "      <td>1653.708348</td>\n",
              "      <td>59.725024</td>\n",
              "      <td>37.530802</td>\n",
              "      <td>206.489010</td>\n",
              "      <td>264.287274</td>\n",
              "      <td>26.945846</td>\n",
              "      <td>62.330317</td>\n",
              "      <td>2908.598432</td>\n",
              "    </tr>\n",
              "    <tr>\n",
              "      <th rowspan=\"2\" valign=\"top\">60대</th>\n",
              "      <th>1.0</th>\n",
              "      <td>5.797241</td>\n",
              "      <td>2129.703371</td>\n",
              "      <td>75.305084</td>\n",
              "      <td>41.909715</td>\n",
              "      <td>226.379117</td>\n",
              "      <td>329.568080</td>\n",
              "      <td>31.863414</td>\n",
              "      <td>61.400366</td>\n",
              "      <td>3893.638997</td>\n",
              "    </tr>\n",
              "    <tr>\n",
              "      <th>2.0</th>\n",
              "      <td>4.950150</td>\n",
              "      <td>1577.543416</td>\n",
              "      <td>56.045779</td>\n",
              "      <td>31.805631</td>\n",
              "      <td>176.851644</td>\n",
              "      <td>264.432024</td>\n",
              "      <td>27.320840</td>\n",
              "      <td>55.653951</td>\n",
              "      <td>2707.587584</td>\n",
              "    </tr>\n",
              "    <tr>\n",
              "      <th rowspan=\"2\" valign=\"top\">70대</th>\n",
              "      <th>1.0</th>\n",
              "      <td>4.869511</td>\n",
              "      <td>1858.253907</td>\n",
              "      <td>64.157437</td>\n",
              "      <td>33.012764</td>\n",
              "      <td>176.662768</td>\n",
              "      <td>305.876719</td>\n",
              "      <td>28.545397</td>\n",
              "      <td>51.436360</td>\n",
              "      <td>3404.862991</td>\n",
              "    </tr>\n",
              "    <tr>\n",
              "      <th>2.0</th>\n",
              "      <td>4.436588</td>\n",
              "      <td>1404.122914</td>\n",
              "      <td>46.794336</td>\n",
              "      <td>23.957737</td>\n",
              "      <td>124.447196</td>\n",
              "      <td>247.912740</td>\n",
              "      <td>23.452091</td>\n",
              "      <td>45.373396</td>\n",
              "      <td>2456.218822</td>\n",
              "    </tr>\n",
              "    <tr>\n",
              "      <th rowspan=\"2\" valign=\"top\">80대</th>\n",
              "      <th>1.0</th>\n",
              "      <td>4.179487</td>\n",
              "      <td>1627.571290</td>\n",
              "      <td>55.033238</td>\n",
              "      <td>27.902382</td>\n",
              "      <td>147.567233</td>\n",
              "      <td>277.954283</td>\n",
              "      <td>24.660689</td>\n",
              "      <td>44.911382</td>\n",
              "      <td>2931.284239</td>\n",
              "    </tr>\n",
              "    <tr>\n",
              "      <th>2.0</th>\n",
              "      <td>3.802291</td>\n",
              "      <td>1236.948062</td>\n",
              "      <td>40.211203</td>\n",
              "      <td>19.468706</td>\n",
              "      <td>92.496612</td>\n",
              "      <td>222.445636</td>\n",
              "      <td>19.349979</td>\n",
              "      <td>36.449257</td>\n",
              "      <td>2135.685012</td>\n",
              "    </tr>\n",
              "  </tbody>\n",
              "</table>\n",
              "</div>\n",
              "    <div class=\"colab-df-buttons\">\n",
              "\n",
              "  <div class=\"colab-df-container\">\n",
              "    <button class=\"colab-df-convert\" onclick=\"convertToInteractive('df-55960b54-802c-4f3b-ae7d-50f58bba5206')\"\n",
              "            title=\"Convert this dataframe to an interactive table.\"\n",
              "            style=\"display:none;\">\n",
              "\n",
              "  <svg xmlns=\"http://www.w3.org/2000/svg\" height=\"24px\" viewBox=\"0 -960 960 960\">\n",
              "    <path d=\"M120-120v-720h720v720H120Zm60-500h600v-160H180v160Zm220 220h160v-160H400v160Zm0 220h160v-160H400v160ZM180-400h160v-160H180v160Zm440 0h160v-160H620v160ZM180-180h160v-160H180v160Zm440 0h160v-160H620v160Z\"/>\n",
              "  </svg>\n",
              "    </button>\n",
              "\n",
              "  <style>\n",
              "    .colab-df-container {\n",
              "      display:flex;\n",
              "      gap: 12px;\n",
              "    }\n",
              "\n",
              "    .colab-df-convert {\n",
              "      background-color: #E8F0FE;\n",
              "      border: none;\n",
              "      border-radius: 50%;\n",
              "      cursor: pointer;\n",
              "      display: none;\n",
              "      fill: #1967D2;\n",
              "      height: 32px;\n",
              "      padding: 0 0 0 0;\n",
              "      width: 32px;\n",
              "    }\n",
              "\n",
              "    .colab-df-convert:hover {\n",
              "      background-color: #E2EBFA;\n",
              "      box-shadow: 0px 1px 2px rgba(60, 64, 67, 0.3), 0px 1px 3px 1px rgba(60, 64, 67, 0.15);\n",
              "      fill: #174EA6;\n",
              "    }\n",
              "\n",
              "    .colab-df-buttons div {\n",
              "      margin-bottom: 4px;\n",
              "    }\n",
              "\n",
              "    [theme=dark] .colab-df-convert {\n",
              "      background-color: #3B4455;\n",
              "      fill: #D2E3FC;\n",
              "    }\n",
              "\n",
              "    [theme=dark] .colab-df-convert:hover {\n",
              "      background-color: #434B5C;\n",
              "      box-shadow: 0px 1px 3px 1px rgba(0, 0, 0, 0.15);\n",
              "      filter: drop-shadow(0px 1px 2px rgba(0, 0, 0, 0.3));\n",
              "      fill: #FFFFFF;\n",
              "    }\n",
              "  </style>\n",
              "\n",
              "    <script>\n",
              "      const buttonEl =\n",
              "        document.querySelector('#df-55960b54-802c-4f3b-ae7d-50f58bba5206 button.colab-df-convert');\n",
              "      buttonEl.style.display =\n",
              "        google.colab.kernel.accessAllowed ? 'block' : 'none';\n",
              "\n",
              "      async function convertToInteractive(key) {\n",
              "        const element = document.querySelector('#df-55960b54-802c-4f3b-ae7d-50f58bba5206');\n",
              "        const dataTable =\n",
              "          await google.colab.kernel.invokeFunction('convertToInteractive',\n",
              "                                                    [key], {});\n",
              "        if (!dataTable) return;\n",
              "\n",
              "        const docLinkHtml = 'Like what you see? Visit the ' +\n",
              "          '<a target=\"_blank\" href=https://colab.research.google.com/notebooks/data_table.ipynb>data table notebook</a>'\n",
              "          + ' to learn more about interactive tables.';\n",
              "        element.innerHTML = '';\n",
              "        dataTable['output_type'] = 'display_data';\n",
              "        await google.colab.output.renderOutput(dataTable, element);\n",
              "        const docLink = document.createElement('div');\n",
              "        docLink.innerHTML = docLinkHtml;\n",
              "        element.appendChild(docLink);\n",
              "      }\n",
              "    </script>\n",
              "  </div>\n",
              "\n",
              "\n",
              "<div id=\"df-1cb6a717-cff3-4793-a86d-fd45e1aaa9c7\">\n",
              "  <button class=\"colab-df-quickchart\" onclick=\"quickchart('df-1cb6a717-cff3-4793-a86d-fd45e1aaa9c7')\"\n",
              "            title=\"Suggest charts\"\n",
              "            style=\"display:none;\">\n",
              "\n",
              "<svg xmlns=\"http://www.w3.org/2000/svg\" height=\"24px\"viewBox=\"0 0 24 24\"\n",
              "     width=\"24px\">\n",
              "    <g>\n",
              "        <path d=\"M19 3H5c-1.1 0-2 .9-2 2v14c0 1.1.9 2 2 2h14c1.1 0 2-.9 2-2V5c0-1.1-.9-2-2-2zM9 17H7v-7h2v7zm4 0h-2V7h2v10zm4 0h-2v-4h2v4z\"/>\n",
              "    </g>\n",
              "</svg>\n",
              "  </button>\n",
              "\n",
              "<style>\n",
              "  .colab-df-quickchart {\n",
              "      --bg-color: #E8F0FE;\n",
              "      --fill-color: #1967D2;\n",
              "      --hover-bg-color: #E2EBFA;\n",
              "      --hover-fill-color: #174EA6;\n",
              "      --disabled-fill-color: #AAA;\n",
              "      --disabled-bg-color: #DDD;\n",
              "  }\n",
              "\n",
              "  [theme=dark] .colab-df-quickchart {\n",
              "      --bg-color: #3B4455;\n",
              "      --fill-color: #D2E3FC;\n",
              "      --hover-bg-color: #434B5C;\n",
              "      --hover-fill-color: #FFFFFF;\n",
              "      --disabled-bg-color: #3B4455;\n",
              "      --disabled-fill-color: #666;\n",
              "  }\n",
              "\n",
              "  .colab-df-quickchart {\n",
              "    background-color: var(--bg-color);\n",
              "    border: none;\n",
              "    border-radius: 50%;\n",
              "    cursor: pointer;\n",
              "    display: none;\n",
              "    fill: var(--fill-color);\n",
              "    height: 32px;\n",
              "    padding: 0;\n",
              "    width: 32px;\n",
              "  }\n",
              "\n",
              "  .colab-df-quickchart:hover {\n",
              "    background-color: var(--hover-bg-color);\n",
              "    box-shadow: 0 1px 2px rgba(60, 64, 67, 0.3), 0 1px 3px 1px rgba(60, 64, 67, 0.15);\n",
              "    fill: var(--button-hover-fill-color);\n",
              "  }\n",
              "\n",
              "  .colab-df-quickchart-complete:disabled,\n",
              "  .colab-df-quickchart-complete:disabled:hover {\n",
              "    background-color: var(--disabled-bg-color);\n",
              "    fill: var(--disabled-fill-color);\n",
              "    box-shadow: none;\n",
              "  }\n",
              "\n",
              "  .colab-df-spinner {\n",
              "    border: 2px solid var(--fill-color);\n",
              "    border-color: transparent;\n",
              "    border-bottom-color: var(--fill-color);\n",
              "    animation:\n",
              "      spin 1s steps(1) infinite;\n",
              "  }\n",
              "\n",
              "  @keyframes spin {\n",
              "    0% {\n",
              "      border-color: transparent;\n",
              "      border-bottom-color: var(--fill-color);\n",
              "      border-left-color: var(--fill-color);\n",
              "    }\n",
              "    20% {\n",
              "      border-color: transparent;\n",
              "      border-left-color: var(--fill-color);\n",
              "      border-top-color: var(--fill-color);\n",
              "    }\n",
              "    30% {\n",
              "      border-color: transparent;\n",
              "      border-left-color: var(--fill-color);\n",
              "      border-top-color: var(--fill-color);\n",
              "      border-right-color: var(--fill-color);\n",
              "    }\n",
              "    40% {\n",
              "      border-color: transparent;\n",
              "      border-right-color: var(--fill-color);\n",
              "      border-top-color: var(--fill-color);\n",
              "    }\n",
              "    60% {\n",
              "      border-color: transparent;\n",
              "      border-right-color: var(--fill-color);\n",
              "    }\n",
              "    80% {\n",
              "      border-color: transparent;\n",
              "      border-right-color: var(--fill-color);\n",
              "      border-bottom-color: var(--fill-color);\n",
              "    }\n",
              "    90% {\n",
              "      border-color: transparent;\n",
              "      border-bottom-color: var(--fill-color);\n",
              "    }\n",
              "  }\n",
              "</style>\n",
              "\n",
              "  <script>\n",
              "    async function quickchart(key) {\n",
              "      const quickchartButtonEl =\n",
              "        document.querySelector('#' + key + ' button');\n",
              "      quickchartButtonEl.disabled = true;  // To prevent multiple clicks.\n",
              "      quickchartButtonEl.classList.add('colab-df-spinner');\n",
              "      try {\n",
              "        const charts = await google.colab.kernel.invokeFunction(\n",
              "            'suggestCharts', [key], {});\n",
              "      } catch (error) {\n",
              "        console.error('Error during call to suggestCharts:', error);\n",
              "      }\n",
              "      quickchartButtonEl.classList.remove('colab-df-spinner');\n",
              "      quickchartButtonEl.classList.add('colab-df-quickchart-complete');\n",
              "    }\n",
              "    (() => {\n",
              "      let quickchartButtonEl =\n",
              "        document.querySelector('#df-1cb6a717-cff3-4793-a86d-fd45e1aaa9c7 button');\n",
              "      quickchartButtonEl.style.display =\n",
              "        google.colab.kernel.accessAllowed ? 'block' : 'none';\n",
              "    })();\n",
              "  </script>\n",
              "</div>\n",
              "\n",
              "  <div id=\"id_6b386e04-e3ee-4744-a441-46fbdb630a29\">\n",
              "    <style>\n",
              "      .colab-df-generate {\n",
              "        background-color: #E8F0FE;\n",
              "        border: none;\n",
              "        border-radius: 50%;\n",
              "        cursor: pointer;\n",
              "        display: none;\n",
              "        fill: #1967D2;\n",
              "        height: 32px;\n",
              "        padding: 0 0 0 0;\n",
              "        width: 32px;\n",
              "      }\n",
              "\n",
              "      .colab-df-generate:hover {\n",
              "        background-color: #E2EBFA;\n",
              "        box-shadow: 0px 1px 2px rgba(60, 64, 67, 0.3), 0px 1px 3px 1px rgba(60, 64, 67, 0.15);\n",
              "        fill: #174EA6;\n",
              "      }\n",
              "\n",
              "      [theme=dark] .colab-df-generate {\n",
              "        background-color: #3B4455;\n",
              "        fill: #D2E3FC;\n",
              "      }\n",
              "\n",
              "      [theme=dark] .colab-df-generate:hover {\n",
              "        background-color: #434B5C;\n",
              "        box-shadow: 0px 1px 3px 1px rgba(0, 0, 0, 0.15);\n",
              "        filter: drop-shadow(0px 1px 2px rgba(0, 0, 0, 0.3));\n",
              "        fill: #FFFFFF;\n",
              "      }\n",
              "    </style>\n",
              "    <button class=\"colab-df-generate\" onclick=\"generateWithVariable('grouped_mean')\"\n",
              "            title=\"Generate code using this dataframe.\"\n",
              "            style=\"display:none;\">\n",
              "\n",
              "  <svg xmlns=\"http://www.w3.org/2000/svg\" height=\"24px\"viewBox=\"0 0 24 24\"\n",
              "       width=\"24px\">\n",
              "    <path d=\"M7,19H8.4L18.45,9,17,7.55,7,17.6ZM5,21V16.75L18.45,3.32a2,2,0,0,1,2.83,0l1.4,1.43a1.91,1.91,0,0,1,.58,1.4,1.91,1.91,0,0,1-.58,1.4L9.25,21ZM18.45,9,17,7.55Zm-12,3A5.31,5.31,0,0,0,4.9,8.1,5.31,5.31,0,0,0,1,6.5,5.31,5.31,0,0,0,4.9,4.9,5.31,5.31,0,0,0,6.5,1,5.31,5.31,0,0,0,8.1,4.9,5.31,5.31,0,0,0,12,6.5,5.46,5.46,0,0,0,6.5,12Z\"/>\n",
              "  </svg>\n",
              "    </button>\n",
              "    <script>\n",
              "      (() => {\n",
              "      const buttonEl =\n",
              "        document.querySelector('#id_6b386e04-e3ee-4744-a441-46fbdb630a29 button.colab-df-generate');\n",
              "      buttonEl.style.display =\n",
              "        google.colab.kernel.accessAllowed ? 'block' : 'none';\n",
              "\n",
              "      buttonEl.onclick = () => {\n",
              "        google.colab.notebook.generateWithVariable('grouped_mean');\n",
              "      }\n",
              "      })();\n",
              "    </script>\n",
              "  </div>\n",
              "\n",
              "    </div>\n",
              "  </div>\n"
            ],
            "application/vnd.google.colaboratory.intrinsic+json": {
              "type": "dataframe",
              "variable_name": "grouped_mean",
              "summary": "{\n  \"name\": \"grouped_mean\",\n  \"rows\": 16,\n  \"fields\": [\n    {\n      \"column\": \"\\ubb3c\\uc12d\\ucde8\\ub7c9\",\n      \"properties\": {\n        \"dtype\": \"number\",\n        \"std\": 0.8148272214318809,\n        \"min\": 3.8022914757103576,\n        \"max\": 6.499575371549894,\n        \"num_unique_values\": 16,\n        \"samples\": [\n          5.6656626506024095,\n          3.8689999999999998,\n          4.656861538461539\n        ],\n        \"semantic_type\": \"\",\n        \"description\": \"\"\n      }\n    },\n    {\n      \"column\": \"\\uc5d0\\ub108\\uc9c0\\uc12d\\ucde8\\ub7c9\",\n      \"properties\": {\n        \"dtype\": \"number\",\n        \"std\": 423.8836434710376,\n        \"min\": 1236.948062408939,\n        \"max\": 2630.1568501166157,\n        \"num_unique_values\": 16,\n        \"samples\": [\n          2630.1568501166157,\n          1685.3757824099418,\n          1751.0064194953786\n        ],\n        \"semantic_type\": \"\",\n        \"description\": \"\"\n      }\n    },\n    {\n      \"column\": \"\\ub2e8\\ubc31\\uc9c8\\uc12d\\ucde8\\ub7c9\",\n      \"properties\": {\n        \"dtype\": \"number\",\n        \"std\": 18.028175140891882,\n        \"min\": 40.21120284817421,\n        \"max\": 101.21507964658308,\n        \"num_unique_values\": 16,\n        \"samples\": [\n          101.21507964658308,\n          61.497465461258884,\n          65.84257042052442\n        ],\n        \"semantic_type\": \"\",\n        \"description\": \"\"\n      }\n    },\n    {\n      \"column\": \"\\uc9c0\\ubc29\\uc12d\\ucde8\\ub7c9\",\n      \"properties\": {\n        \"dtype\": \"number\",\n        \"std\": 17.158808549418488,\n        \"min\": 19.468706123529696,\n        \"max\": 78.5768208869605,\n        \"num_unique_values\": 16,\n        \"samples\": [\n          78.5768208869605,\n          48.30814402234186,\n          48.2528769485959\n        ],\n        \"semantic_type\": \"\",\n        \"description\": \"\"\n      }\n    },\n    {\n      \"column\": \"\\ucf5c\\ub808\\uc2a4\\ud14c\\ub864\\uc12d\\ucde8\\ub7c9\",\n      \"properties\": {\n        \"dtype\": \"number\",\n        \"std\": 85.06929311450436,\n        \"min\": 92.49661199936304,\n        \"max\": 374.1504983493058,\n        \"num_unique_values\": 16,\n        \"samples\": [\n          374.1504983493058,\n          239.43618603091295,\n          261.4160018249575\n        ],\n        \"semantic_type\": \"\",\n        \"description\": \"\"\n      }\n    },\n    {\n      \"column\": \"\\ud0c4\\uc218\\ud654\\ubb3c\\uc12d\\ucde8\\ub7c9\",\n      \"properties\": {\n        \"dtype\": \"number\",\n        \"std\": 40.01933971223928,\n        \"min\": 222.44563598786743,\n        \"max\": 330.94024615263555,\n        \"num_unique_values\": 16,\n        \"samples\": [\n          330.94024615263555,\n          233.5759956423861,\n          247.32956577879514\n        ],\n        \"semantic_type\": \"\",\n        \"description\": \"\"\n      }\n    },\n    {\n      \"column\": \"\\uc2dd\\uc774\\uc12c\\uc720\\uc12d\\ucde8\\ub7c9\",\n      \"properties\": {\n        \"dtype\": \"number\",\n        \"std\": 4.5570249335494,\n        \"min\": 15.426060832012656,\n        \"max\": 31.863413949473387,\n        \"num_unique_values\": 16,\n        \"samples\": [\n          21.786070936731562,\n          15.426060832012656,\n          20.116988609267562\n        ],\n        \"semantic_type\": \"\",\n        \"description\": \"\"\n      }\n    },\n    {\n      \"column\": \"\\ub2f9\\uc12d\\ucde8\\ub7c9\",\n      \"properties\": {\n        \"dtype\": \"number\",\n        \"std\": 10.217520784295107,\n        \"min\": 36.44925748252903,\n        \"max\": 78.50908910240575,\n        \"num_unique_values\": 16,\n        \"samples\": [\n          78.50908910240575,\n          58.7194248219277,\n          56.03793126324141\n        ],\n        \"semantic_type\": \"\",\n        \"description\": \"\"\n      }\n    },\n    {\n      \"column\": \"\\ub098\\ud2b8\\ub968\\uc12d\\ucde8\\ub7c9\",\n      \"properties\": {\n        \"dtype\": \"number\",\n        \"std\": 769.6633273361322,\n        \"min\": 2135.6850117218255,\n        \"max\": 4490.407421887685,\n        \"num_unique_values\": 16,\n        \"samples\": [\n          4249.137762072533,\n          2513.921566303419,\n          3105.1226981907726\n        ],\n        \"semantic_type\": \"\",\n        \"description\": \"\"\n      }\n    }\n  ]\n}"
            }
          },
          "metadata": {},
          "execution_count": 66
        }
      ]
    },
    {
      "cell_type": "markdown",
      "source": [
        "# 체크필요"
      ],
      "metadata": {
        "id": "CjMRZsJL6Yap"
      }
    },
    {
      "cell_type": "code",
      "source": [
        "cols = [\"물섭취량\", \"에너지섭취량\", \"단백질섭취량\", \"지방섭취량\", \"콜레스테롤섭취량\",\n",
        "     \"탄수화물섭취량\", \"식이섬유섭취량\", \"당섭취량\", \"나트륨섭취량\"]\n",
        "grouped_mean = df.groupby(['나이범주', '성별'], observed=False)[cols].mean().reset_index()\n",
        "df = df.merge(grouped_mean, on=['나이범주', '성별'], how='left', suffixes=('', '_median'))\n",
        "\n",
        "# 결측치 처리\n",
        "for col in cols:\n",
        "    df[col] = df[col].fillna(df[f'{col}_median'])"
      ],
      "metadata": {
        "id": "0vbUrSOAkitP"
      },
      "execution_count": null,
      "outputs": []
    },
    {
      "cell_type": "code",
      "source": [
        "test = test.merge(grouped_mean, on=['나이범주', '성별'], how='left', suffixes=('', '_median'))\n",
        "\n",
        "# 결측치 처리\n",
        "for col in cols:\n",
        "    test[col] = test[col].fillna(test[f'{col}_median'])"
      ],
      "metadata": {
        "id": "yjBooWttEbW4"
      },
      "execution_count": null,
      "outputs": []
    },
    {
      "cell_type": "code",
      "source": [
        "cols_todrop = [col + \"_median\" for col in cols]"
      ],
      "metadata": {
        "id": "p-g_HQ33mfqf"
      },
      "execution_count": null,
      "outputs": []
    },
    {
      "cell_type": "code",
      "source": [
        "df = df.drop(columns=cols_todrop)\n",
        "test = test.drop(columns=cols_todrop)"
      ],
      "metadata": {
        "id": "ZqSmOyEZ6H_e"
      },
      "execution_count": null,
      "outputs": []
    },
    {
      "cell_type": "code",
      "source": [
        "df[\"나트륨섭취량\"].isnull().sum()"
      ],
      "metadata": {
        "colab": {
          "base_uri": "https://localhost:8080/"
        },
        "id": "yV7_-2igEbUU",
        "outputId": "95529cbf-6a1b-4256-cb79-488393e5d988"
      },
      "execution_count": null,
      "outputs": [
        {
          "output_type": "execute_result",
          "data": {
            "text/plain": [
              "0"
            ]
          },
          "metadata": {},
          "execution_count": 71
        }
      ]
    },
    {
      "cell_type": "code",
      "source": [
        "test[\"물섭취량\"].isnull().sum()"
      ],
      "metadata": {
        "colab": {
          "base_uri": "https://localhost:8080/"
        },
        "id": "F6wp4aveaTX0",
        "outputId": "bf3756ef-d2c4-4d52-b04d-e5c4ba60a995"
      },
      "execution_count": null,
      "outputs": [
        {
          "output_type": "execute_result",
          "data": {
            "text/plain": [
              "0"
            ]
          },
          "metadata": {},
          "execution_count": 72
        }
      ]
    },
    {
      "cell_type": "markdown",
      "source": [
        "## 273 (가구 내 식생활관리자여부)\n",
        "- 다중분류 (1: 예, 2: 아니오, 9: 모름/무응답)\n",
        "- 결측치 무응답 처리"
      ],
      "metadata": {
        "id": "vTGKY0BwdOgq"
      }
    },
    {
      "cell_type": "code",
      "source": [
        "# 결측치 무응답 처리\n",
        "df[\"가구내식생활관리자여부\"] = df[\"가구내식생활관리자여부\"].fillna(9)\n",
        "test[\"가구내식생활관리자여부\"] = test[\"가구내식생활관리자여부\"].fillna(9)"
      ],
      "metadata": {
        "id": "zjyU_YKodMnB"
      },
      "execution_count": null,
      "outputs": []
    },
    {
      "cell_type": "markdown",
      "source": [
        "## 274 (식생활형편)\n",
        "- 다중분류 (1: 충분한 양과 다양한 음식을 먹을 수 있었다, 2: 충분한 양의 음식으 먹을 수 있었으나, 다양한 음식은 먹지 못했다, 3: 경제적으로 어려워 가끔 먹을것이 부족했다, 4: 경제적으로 어려워 자주 먹을것이 부족했다, 9:모름/무응답)\n",
        "- 결측치 무응답처리"
      ],
      "metadata": {
        "id": "gYZevcfweDJw"
      }
    },
    {
      "cell_type": "markdown",
      "source": [
        "# 체크필요"
      ],
      "metadata": {
        "id": "jYNd_XFR6x30"
      }
    },
    {
      "cell_type": "code",
      "source": [
        "tmp = df.groupby('가구소득4분위')['식생활형편'].agg(lambda x: x.mode()[0]).reset_index()\n",
        "df = df.merge(tmp, on=['가구소득4분위'], how='left', suffixes=('', '_median'))\n",
        "df['식생활형편'] = df['식생활형편'].fillna(df['식생활형편_median'])\n",
        "df.drop(columns=['식생활형편_median'], inplace=True)"
      ],
      "metadata": {
        "id": "CGNMj8eGmzU5"
      },
      "execution_count": null,
      "outputs": []
    },
    {
      "cell_type": "code",
      "source": [
        "test = test.merge(tmp, on=['가구소득4분위'], how='left', suffixes=('', '_median'))\n",
        "test['식생활형편'] = test['식생활형편'].fillna(test['식생활형편_median'])\n",
        "test.drop(columns=['식생활형편_median'], inplace=True)"
      ],
      "metadata": {
        "id": "CZIB1iPUaqKB"
      },
      "execution_count": null,
      "outputs": []
    },
    {
      "cell_type": "code",
      "source": [
        "df.isna().sum().sum(), test.isna().sum().sum()"
      ],
      "metadata": {
        "colab": {
          "base_uri": "https://localhost:8080/"
        },
        "id": "52QNeDg9Shf8",
        "outputId": "f29b33cc-4a89-41c8-f218-56f41ee0a472"
      },
      "execution_count": null,
      "outputs": [
        {
          "output_type": "execute_result",
          "data": {
            "text/plain": [
              "(0, 0)"
            ]
          },
          "metadata": {},
          "execution_count": 76
        }
      ]
    },
    {
      "cell_type": "markdown",
      "source": [
        "## 나머지, target 컬럼들"
      ],
      "metadata": {
        "id": "7eyG3z_7q0Sd"
      }
    },
    {
      "cell_type": "markdown",
      "source": [
        "- 천식의사진단여부: 0: 없음, 1: 있음, 8: 비해당(소아, 청소년), 9: 모름/무응답"
      ],
      "metadata": {
        "id": "oRIpod3N4h4a"
      }
    },
    {
      "cell_type": "code",
      "source": [
        "df[\"천식의사진단여부\"].value_counts()"
      ],
      "metadata": {
        "colab": {
          "base_uri": "https://localhost:8080/",
          "height": 210
        },
        "id": "LmH0orSNk46P",
        "outputId": "62c744bc-b46e-4b9e-dfd8-33082518832a"
      },
      "execution_count": null,
      "outputs": [
        {
          "output_type": "execute_result",
          "data": {
            "text/plain": [
              "천식의사진단여부\n",
              "0.0    40837\n",
              "9.0     2577\n",
              "1.0     1377\n",
              "Name: count, dtype: int64"
            ],
            "text/html": [
              "<div>\n",
              "<style scoped>\n",
              "    .dataframe tbody tr th:only-of-type {\n",
              "        vertical-align: middle;\n",
              "    }\n",
              "\n",
              "    .dataframe tbody tr th {\n",
              "        vertical-align: top;\n",
              "    }\n",
              "\n",
              "    .dataframe thead th {\n",
              "        text-align: right;\n",
              "    }\n",
              "</style>\n",
              "<table border=\"1\" class=\"dataframe\">\n",
              "  <thead>\n",
              "    <tr style=\"text-align: right;\">\n",
              "      <th></th>\n",
              "      <th>count</th>\n",
              "    </tr>\n",
              "    <tr>\n",
              "      <th>천식의사진단여부</th>\n",
              "      <th></th>\n",
              "    </tr>\n",
              "  </thead>\n",
              "  <tbody>\n",
              "    <tr>\n",
              "      <th>0.0</th>\n",
              "      <td>40837</td>\n",
              "    </tr>\n",
              "    <tr>\n",
              "      <th>9.0</th>\n",
              "      <td>2577</td>\n",
              "    </tr>\n",
              "    <tr>\n",
              "      <th>1.0</th>\n",
              "      <td>1377</td>\n",
              "    </tr>\n",
              "  </tbody>\n",
              "</table>\n",
              "</div><br><label><b>dtype:</b> int64</label>"
            ]
          },
          "metadata": {},
          "execution_count": 77
        }
      ]
    },
    {
      "cell_type": "code",
      "source": [
        "df[\"천식의사진단여부\"] = df[\"천식의사진단여부\"].replace({9:0, 8:0})\n",
        "test[\"천식의사진단여부\"] = test[\"천식의사진단여부\"].replace({9:0, 8:0})"
      ],
      "metadata": {
        "id": "8zKyD2gDk42-"
      },
      "execution_count": null,
      "outputs": []
    },
    {
      "cell_type": "markdown",
      "source": [
        "- 천식진단시기: 0~79: 0-79세, 80: 80세 이상,\n",
        "888: 비해당(소아, 청소년 의사진단 받지않음), 999: 모름/무응답"
      ],
      "metadata": {
        "id": "WS92tkmJ4sAt"
      }
    },
    {
      "cell_type": "code",
      "source": [
        "df[\"천식진단시기\"].value_counts()"
      ],
      "metadata": {
        "colab": {
          "base_uri": "https://localhost:8080/",
          "height": 490
        },
        "id": "oOo4KVMRnAn0",
        "outputId": "b7cf07c6-1b3c-4af3-ff50-251c91ae3fb2"
      },
      "execution_count": null,
      "outputs": [
        {
          "output_type": "execute_result",
          "data": {
            "text/plain": [
              "천식진단시기\n",
              "888.0    40837\n",
              "999.0     2591\n",
              "63.0        51\n",
              "53.0        45\n",
              "45.0        39\n",
              "         ...  \n",
              "74.0         7\n",
              "76.0         7\n",
              "39.0         6\n",
              "79.0         4\n",
              "26.0         4\n",
              "Name: count, Length: 83, dtype: int64"
            ],
            "text/html": [
              "<div>\n",
              "<style scoped>\n",
              "    .dataframe tbody tr th:only-of-type {\n",
              "        vertical-align: middle;\n",
              "    }\n",
              "\n",
              "    .dataframe tbody tr th {\n",
              "        vertical-align: top;\n",
              "    }\n",
              "\n",
              "    .dataframe thead th {\n",
              "        text-align: right;\n",
              "    }\n",
              "</style>\n",
              "<table border=\"1\" class=\"dataframe\">\n",
              "  <thead>\n",
              "    <tr style=\"text-align: right;\">\n",
              "      <th></th>\n",
              "      <th>count</th>\n",
              "    </tr>\n",
              "    <tr>\n",
              "      <th>천식진단시기</th>\n",
              "      <th></th>\n",
              "    </tr>\n",
              "  </thead>\n",
              "  <tbody>\n",
              "    <tr>\n",
              "      <th>888.0</th>\n",
              "      <td>40837</td>\n",
              "    </tr>\n",
              "    <tr>\n",
              "      <th>999.0</th>\n",
              "      <td>2591</td>\n",
              "    </tr>\n",
              "    <tr>\n",
              "      <th>63.0</th>\n",
              "      <td>51</td>\n",
              "    </tr>\n",
              "    <tr>\n",
              "      <th>53.0</th>\n",
              "      <td>45</td>\n",
              "    </tr>\n",
              "    <tr>\n",
              "      <th>45.0</th>\n",
              "      <td>39</td>\n",
              "    </tr>\n",
              "    <tr>\n",
              "      <th>...</th>\n",
              "      <td>...</td>\n",
              "    </tr>\n",
              "    <tr>\n",
              "      <th>74.0</th>\n",
              "      <td>7</td>\n",
              "    </tr>\n",
              "    <tr>\n",
              "      <th>76.0</th>\n",
              "      <td>7</td>\n",
              "    </tr>\n",
              "    <tr>\n",
              "      <th>39.0</th>\n",
              "      <td>6</td>\n",
              "    </tr>\n",
              "    <tr>\n",
              "      <th>79.0</th>\n",
              "      <td>4</td>\n",
              "    </tr>\n",
              "    <tr>\n",
              "      <th>26.0</th>\n",
              "      <td>4</td>\n",
              "    </tr>\n",
              "  </tbody>\n",
              "</table>\n",
              "<p>83 rows × 1 columns</p>\n",
              "</div><br><label><b>dtype:</b> int64</label>"
            ]
          },
          "metadata": {},
          "execution_count": 79
        }
      ]
    },
    {
      "cell_type": "code",
      "source": [
        "df[\"천식의사진단여부\"].isnull().sum()"
      ],
      "metadata": {
        "colab": {
          "base_uri": "https://localhost:8080/"
        },
        "id": "FXHvZgrmnAlQ",
        "outputId": "0ec371a5-5eb3-4b4b-87e5-f10888c27ae6"
      },
      "execution_count": null,
      "outputs": [
        {
          "output_type": "execute_result",
          "data": {
            "text/plain": [
              "0"
            ]
          },
          "metadata": {},
          "execution_count": 80
        }
      ]
    },
    {
      "cell_type": "markdown",
      "source": [
        "- 천식약복용\n",
        "  - 1: 악화방지 및 천식증상관리를 위해 정기적으로 치료를 받음.\n",
        "  - 2: 증상이 있을 때만 치료를 받음\n",
        "  - 3: 치료받지 않음\n",
        "  - 8: 비해당 (소아, 청소년 의사진단 받지않음)\n",
        "  - 9: 모름/무응답"
      ],
      "metadata": {
        "id": "Q5Ij7WZb5Ggs"
      }
    },
    {
      "cell_type": "code",
      "source": [
        "df[\"천식약복용\"].value_counts()"
      ],
      "metadata": {
        "colab": {
          "base_uri": "https://localhost:8080/",
          "height": 272
        },
        "id": "EiXQqpYinAPW",
        "outputId": "96755534-7da7-404f-e21b-684d0f2afb29"
      },
      "execution_count": null,
      "outputs": [
        {
          "output_type": "execute_result",
          "data": {
            "text/plain": [
              "천식약복용\n",
              "8.0    40837\n",
              "9.0     2577\n",
              "3.0      681\n",
              "2.0      367\n",
              "1.0      329\n",
              "Name: count, dtype: int64"
            ],
            "text/html": [
              "<div>\n",
              "<style scoped>\n",
              "    .dataframe tbody tr th:only-of-type {\n",
              "        vertical-align: middle;\n",
              "    }\n",
              "\n",
              "    .dataframe tbody tr th {\n",
              "        vertical-align: top;\n",
              "    }\n",
              "\n",
              "    .dataframe thead th {\n",
              "        text-align: right;\n",
              "    }\n",
              "</style>\n",
              "<table border=\"1\" class=\"dataframe\">\n",
              "  <thead>\n",
              "    <tr style=\"text-align: right;\">\n",
              "      <th></th>\n",
              "      <th>count</th>\n",
              "    </tr>\n",
              "    <tr>\n",
              "      <th>천식약복용</th>\n",
              "      <th></th>\n",
              "    </tr>\n",
              "  </thead>\n",
              "  <tbody>\n",
              "    <tr>\n",
              "      <th>8.0</th>\n",
              "      <td>40837</td>\n",
              "    </tr>\n",
              "    <tr>\n",
              "      <th>9.0</th>\n",
              "      <td>2577</td>\n",
              "    </tr>\n",
              "    <tr>\n",
              "      <th>3.0</th>\n",
              "      <td>681</td>\n",
              "    </tr>\n",
              "    <tr>\n",
              "      <th>2.0</th>\n",
              "      <td>367</td>\n",
              "    </tr>\n",
              "    <tr>\n",
              "      <th>1.0</th>\n",
              "      <td>329</td>\n",
              "    </tr>\n",
              "  </tbody>\n",
              "</table>\n",
              "</div><br><label><b>dtype:</b> int64</label>"
            ]
          },
          "metadata": {},
          "execution_count": 81
        }
      ]
    },
    {
      "cell_type": "code",
      "source": [
        "df[\"천식약복용\"] = df[\"천식약복용\"].replace({\n",
        "    3:0, 8:0, 9:0,\n",
        "    2:1, 2:2\n",
        "})\n",
        "test[\"천식약복용\"] = test[\"천식약복용\"].replace({\n",
        "    3:0, 8:0, 9:0,\n",
        "    2:1, 2:2\n",
        "})"
      ],
      "metadata": {
        "id": "QRcKskjCmtRO"
      },
      "execution_count": null,
      "outputs": []
    },
    {
      "cell_type": "markdown",
      "source": [
        "- 아토피의사진단여부\n",
        "  - 0: 없음\n",
        "  - 1: 있음\n",
        "  - 8: 비해당(소아,청소년)\n",
        "  - 9: 모름/무응답"
      ],
      "metadata": {
        "id": "rPK7aYA65nIt"
      }
    },
    {
      "cell_type": "code",
      "source": [
        "df[\"아토피의사진단여부\"].value_counts()"
      ],
      "metadata": {
        "colab": {
          "base_uri": "https://localhost:8080/",
          "height": 210
        },
        "id": "sPAveJK4mtB2",
        "outputId": "fc7c806b-3b40-4375-f576-c23a0f78bee8"
      },
      "execution_count": null,
      "outputs": [
        {
          "output_type": "execute_result",
          "data": {
            "text/plain": [
              "아토피의사진단여부\n",
              "0.0    40845\n",
              "9.0     2582\n",
              "1.0     1364\n",
              "Name: count, dtype: int64"
            ],
            "text/html": [
              "<div>\n",
              "<style scoped>\n",
              "    .dataframe tbody tr th:only-of-type {\n",
              "        vertical-align: middle;\n",
              "    }\n",
              "\n",
              "    .dataframe tbody tr th {\n",
              "        vertical-align: top;\n",
              "    }\n",
              "\n",
              "    .dataframe thead th {\n",
              "        text-align: right;\n",
              "    }\n",
              "</style>\n",
              "<table border=\"1\" class=\"dataframe\">\n",
              "  <thead>\n",
              "    <tr style=\"text-align: right;\">\n",
              "      <th></th>\n",
              "      <th>count</th>\n",
              "    </tr>\n",
              "    <tr>\n",
              "      <th>아토피의사진단여부</th>\n",
              "      <th></th>\n",
              "    </tr>\n",
              "  </thead>\n",
              "  <tbody>\n",
              "    <tr>\n",
              "      <th>0.0</th>\n",
              "      <td>40845</td>\n",
              "    </tr>\n",
              "    <tr>\n",
              "      <th>9.0</th>\n",
              "      <td>2582</td>\n",
              "    </tr>\n",
              "    <tr>\n",
              "      <th>1.0</th>\n",
              "      <td>1364</td>\n",
              "    </tr>\n",
              "  </tbody>\n",
              "</table>\n",
              "</div><br><label><b>dtype:</b> int64</label>"
            ]
          },
          "metadata": {},
          "execution_count": 83
        }
      ]
    },
    {
      "cell_type": "code",
      "source": [
        "df[\"아토피의사진단여부\"] = df[\"아토피의사진단여부\"].replace({9:0, 8:0})\n",
        "test[\"아토피의사진단여부\"] = test[\"아토피의사진단여부\"].replace({9:0, 8:0})"
      ],
      "metadata": {
        "id": "HjPw71c1ms_M"
      },
      "execution_count": null,
      "outputs": []
    },
    {
      "cell_type": "markdown",
      "source": [
        "- 아토피진단시기: 0~79: 0-79세, 80: 80세 이상,\n",
        "888: 비해당(소아, 청소년 의사진단 받지않음), 999: 모름/무응답"
      ],
      "metadata": {
        "id": "Cyg6WWuy55ql"
      }
    },
    {
      "cell_type": "code",
      "source": [
        "df[\"아토피진단시기\"].value_counts()"
      ],
      "metadata": {
        "colab": {
          "base_uri": "https://localhost:8080/",
          "height": 490
        },
        "id": "t-yldVp0k4z8",
        "outputId": "18da59f1-5cae-4686-f4de-af3f5c37b786"
      },
      "execution_count": null,
      "outputs": [
        {
          "output_type": "execute_result",
          "data": {
            "text/plain": [
              "아토피진단시기\n",
              "888.0    40845\n",
              "999.0     2592\n",
              "7.0         94\n",
              "5.0         93\n",
              "6.0         88\n",
              "         ...  \n",
              "75.0         2\n",
              "74.0         2\n",
              "78.0         2\n",
              "76.0         1\n",
              "69.0         1\n",
              "Name: count, Length: 81, dtype: int64"
            ],
            "text/html": [
              "<div>\n",
              "<style scoped>\n",
              "    .dataframe tbody tr th:only-of-type {\n",
              "        vertical-align: middle;\n",
              "    }\n",
              "\n",
              "    .dataframe tbody tr th {\n",
              "        vertical-align: top;\n",
              "    }\n",
              "\n",
              "    .dataframe thead th {\n",
              "        text-align: right;\n",
              "    }\n",
              "</style>\n",
              "<table border=\"1\" class=\"dataframe\">\n",
              "  <thead>\n",
              "    <tr style=\"text-align: right;\">\n",
              "      <th></th>\n",
              "      <th>count</th>\n",
              "    </tr>\n",
              "    <tr>\n",
              "      <th>아토피진단시기</th>\n",
              "      <th></th>\n",
              "    </tr>\n",
              "  </thead>\n",
              "  <tbody>\n",
              "    <tr>\n",
              "      <th>888.0</th>\n",
              "      <td>40845</td>\n",
              "    </tr>\n",
              "    <tr>\n",
              "      <th>999.0</th>\n",
              "      <td>2592</td>\n",
              "    </tr>\n",
              "    <tr>\n",
              "      <th>7.0</th>\n",
              "      <td>94</td>\n",
              "    </tr>\n",
              "    <tr>\n",
              "      <th>5.0</th>\n",
              "      <td>93</td>\n",
              "    </tr>\n",
              "    <tr>\n",
              "      <th>6.0</th>\n",
              "      <td>88</td>\n",
              "    </tr>\n",
              "    <tr>\n",
              "      <th>...</th>\n",
              "      <td>...</td>\n",
              "    </tr>\n",
              "    <tr>\n",
              "      <th>75.0</th>\n",
              "      <td>2</td>\n",
              "    </tr>\n",
              "    <tr>\n",
              "      <th>74.0</th>\n",
              "      <td>2</td>\n",
              "    </tr>\n",
              "    <tr>\n",
              "      <th>78.0</th>\n",
              "      <td>2</td>\n",
              "    </tr>\n",
              "    <tr>\n",
              "      <th>76.0</th>\n",
              "      <td>1</td>\n",
              "    </tr>\n",
              "    <tr>\n",
              "      <th>69.0</th>\n",
              "      <td>1</td>\n",
              "    </tr>\n",
              "  </tbody>\n",
              "</table>\n",
              "<p>81 rows × 1 columns</p>\n",
              "</div><br><label><b>dtype:</b> int64</label>"
            ]
          },
          "metadata": {},
          "execution_count": 85
        }
      ]
    },
    {
      "cell_type": "code",
      "source": [
        "df[\"아토피진단시기\"].isnull().sum()"
      ],
      "metadata": {
        "colab": {
          "base_uri": "https://localhost:8080/"
        },
        "id": "W-6qADJ1k4xX",
        "outputId": "3fa18cc9-45ef-4f99-fbee-e4c9501ba47d"
      },
      "execution_count": null,
      "outputs": [
        {
          "output_type": "execute_result",
          "data": {
            "text/plain": [
              "0"
            ]
          },
          "metadata": {},
          "execution_count": 86
        }
      ]
    },
    {
      "cell_type": "markdown",
      "source": [
        "- 비염의사진단여부\n",
        "  - 0: 없음\n",
        "  - 1: 있음\n",
        "  - 8: 비해당(소아,청소년)\n",
        "  - 9: 모름/무응답"
      ],
      "metadata": {
        "id": "NTTBllEQ6F0v"
      }
    },
    {
      "cell_type": "code",
      "source": [
        "df[\"비염의사진단여부\"].value_counts()"
      ],
      "metadata": {
        "colab": {
          "base_uri": "https://localhost:8080/",
          "height": 210
        },
        "id": "erTQYp1Nk4ug",
        "outputId": "bf155740-2921-4868-9da0-9f8c3990900b"
      },
      "execution_count": null,
      "outputs": [
        {
          "output_type": "execute_result",
          "data": {
            "text/plain": [
              "비염의사진단여부\n",
              "0.0    35872\n",
              "1.0     6336\n",
              "9.0     2583\n",
              "Name: count, dtype: int64"
            ],
            "text/html": [
              "<div>\n",
              "<style scoped>\n",
              "    .dataframe tbody tr th:only-of-type {\n",
              "        vertical-align: middle;\n",
              "    }\n",
              "\n",
              "    .dataframe tbody tr th {\n",
              "        vertical-align: top;\n",
              "    }\n",
              "\n",
              "    .dataframe thead th {\n",
              "        text-align: right;\n",
              "    }\n",
              "</style>\n",
              "<table border=\"1\" class=\"dataframe\">\n",
              "  <thead>\n",
              "    <tr style=\"text-align: right;\">\n",
              "      <th></th>\n",
              "      <th>count</th>\n",
              "    </tr>\n",
              "    <tr>\n",
              "      <th>비염의사진단여부</th>\n",
              "      <th></th>\n",
              "    </tr>\n",
              "  </thead>\n",
              "  <tbody>\n",
              "    <tr>\n",
              "      <th>0.0</th>\n",
              "      <td>35872</td>\n",
              "    </tr>\n",
              "    <tr>\n",
              "      <th>1.0</th>\n",
              "      <td>6336</td>\n",
              "    </tr>\n",
              "    <tr>\n",
              "      <th>9.0</th>\n",
              "      <td>2583</td>\n",
              "    </tr>\n",
              "  </tbody>\n",
              "</table>\n",
              "</div><br><label><b>dtype:</b> int64</label>"
            ]
          },
          "metadata": {},
          "execution_count": 87
        }
      ]
    },
    {
      "cell_type": "code",
      "source": [
        "df[\"비염의사진단여부\"] = df[\"비염의사진단여부\"].replace({9:0, 8:0})\n",
        "test[\"비염의사진단여부\"] = test[\"비염의사진단여부\"].replace({9:0, 8:0})"
      ],
      "metadata": {
        "id": "KRzadvM8fVrb"
      },
      "execution_count": null,
      "outputs": []
    },
    {
      "cell_type": "markdown",
      "source": [
        "- 비염진단시기: 0~79: 0-79세, 80: 80세 이상,\n",
        "888: 비해당(소아, 청소년 의사진단 받지않음), 999: 모름/무응답"
      ],
      "metadata": {
        "id": "SoeO3wGw6Taz"
      }
    },
    {
      "cell_type": "code",
      "source": [
        "df[\"비염진단시기\"].value_counts()"
      ],
      "metadata": {
        "colab": {
          "base_uri": "https://localhost:8080/",
          "height": 490
        },
        "id": "Sk8PlBcSfVo-",
        "outputId": "9b2b1df7-23fa-4047-e91a-f2988c8e59d3"
      },
      "execution_count": null,
      "outputs": [
        {
          "output_type": "execute_result",
          "data": {
            "text/plain": [
              "비염진단시기\n",
              "888.0    35872\n",
              "999.0     2604\n",
              "23.0       231\n",
              "33.0       217\n",
              "35.0       215\n",
              "         ...  \n",
              "80.0         9\n",
              "0.0          8\n",
              "2.0          8\n",
              "1.0          5\n",
              "79.0         1\n",
              "Name: count, Length: 83, dtype: int64"
            ],
            "text/html": [
              "<div>\n",
              "<style scoped>\n",
              "    .dataframe tbody tr th:only-of-type {\n",
              "        vertical-align: middle;\n",
              "    }\n",
              "\n",
              "    .dataframe tbody tr th {\n",
              "        vertical-align: top;\n",
              "    }\n",
              "\n",
              "    .dataframe thead th {\n",
              "        text-align: right;\n",
              "    }\n",
              "</style>\n",
              "<table border=\"1\" class=\"dataframe\">\n",
              "  <thead>\n",
              "    <tr style=\"text-align: right;\">\n",
              "      <th></th>\n",
              "      <th>count</th>\n",
              "    </tr>\n",
              "    <tr>\n",
              "      <th>비염진단시기</th>\n",
              "      <th></th>\n",
              "    </tr>\n",
              "  </thead>\n",
              "  <tbody>\n",
              "    <tr>\n",
              "      <th>888.0</th>\n",
              "      <td>35872</td>\n",
              "    </tr>\n",
              "    <tr>\n",
              "      <th>999.0</th>\n",
              "      <td>2604</td>\n",
              "    </tr>\n",
              "    <tr>\n",
              "      <th>23.0</th>\n",
              "      <td>231</td>\n",
              "    </tr>\n",
              "    <tr>\n",
              "      <th>33.0</th>\n",
              "      <td>217</td>\n",
              "    </tr>\n",
              "    <tr>\n",
              "      <th>35.0</th>\n",
              "      <td>215</td>\n",
              "    </tr>\n",
              "    <tr>\n",
              "      <th>...</th>\n",
              "      <td>...</td>\n",
              "    </tr>\n",
              "    <tr>\n",
              "      <th>80.0</th>\n",
              "      <td>9</td>\n",
              "    </tr>\n",
              "    <tr>\n",
              "      <th>0.0</th>\n",
              "      <td>8</td>\n",
              "    </tr>\n",
              "    <tr>\n",
              "      <th>2.0</th>\n",
              "      <td>8</td>\n",
              "    </tr>\n",
              "    <tr>\n",
              "      <th>1.0</th>\n",
              "      <td>5</td>\n",
              "    </tr>\n",
              "    <tr>\n",
              "      <th>79.0</th>\n",
              "      <td>1</td>\n",
              "    </tr>\n",
              "  </tbody>\n",
              "</table>\n",
              "<p>83 rows × 1 columns</p>\n",
              "</div><br><label><b>dtype:</b> int64</label>"
            ]
          },
          "metadata": {},
          "execution_count": 89
        }
      ]
    },
    {
      "cell_type": "code",
      "source": [
        "df[\"비염진단시기\"].isnull().sum()"
      ],
      "metadata": {
        "colab": {
          "base_uri": "https://localhost:8080/"
        },
        "id": "p_CDh_WefVme",
        "outputId": "3e39a368-6e4f-40dc-edb2-bf41f7c75282"
      },
      "execution_count": null,
      "outputs": [
        {
          "output_type": "execute_result",
          "data": {
            "text/plain": [
              "0"
            ]
          },
          "metadata": {},
          "execution_count": 90
        }
      ]
    },
    {
      "cell_type": "code",
      "source": [
        "df.shape, test.shape"
      ],
      "metadata": {
        "colab": {
          "base_uri": "https://localhost:8080/"
        },
        "id": "GfEwqsCIihwF",
        "outputId": "287817d9-2bd5-4fb0-923b-c591a0aeff93"
      },
      "execution_count": null,
      "outputs": [
        {
          "output_type": "execute_result",
          "data": {
            "text/plain": [
              "((44791, 56), (11198, 56))"
            ]
          },
          "metadata": {},
          "execution_count": 91
        }
      ]
    },
    {
      "cell_type": "code",
      "source": [
        "df.isna().sum().sum(), test.isna().sum().sum()"
      ],
      "metadata": {
        "colab": {
          "base_uri": "https://localhost:8080/"
        },
        "id": "O9NDQVjxioKq",
        "outputId": "f0a1e881-bbed-43f8-b5f7-8cbae630b07f"
      },
      "execution_count": null,
      "outputs": [
        {
          "output_type": "execute_result",
          "data": {
            "text/plain": [
              "(0, 0)"
            ]
          },
          "metadata": {},
          "execution_count": 92
        }
      ]
    },
    {
      "cell_type": "code",
      "source": [
        "df.shape, test.shape"
      ],
      "metadata": {
        "colab": {
          "base_uri": "https://localhost:8080/"
        },
        "id": "NZatFmIEo5YB",
        "outputId": "3cef1cf3-da2d-4485-e491-011977ea82ec"
      },
      "execution_count": null,
      "outputs": [
        {
          "output_type": "execute_result",
          "data": {
            "text/plain": [
              "((44791, 56), (11198, 56))"
            ]
          },
          "metadata": {},
          "execution_count": 93
        }
      ]
    },
    {
      "cell_type": "code",
      "source": [],
      "metadata": {
        "id": "q6XVrbZvMgE6"
      },
      "execution_count": null,
      "outputs": []
    },
    {
      "cell_type": "code",
      "source": [
        "DATA_PATH = '/content/drive/MyDrive/dayoon/데이터톤/공유 데이터셋 및 베이스라인코드/데이터 최신버젼/'"
      ],
      "metadata": {
        "id": "-VonBki-oFel"
      },
      "execution_count": null,
      "outputs": []
    },
    {
      "cell_type": "code",
      "source": [
        "df.to_csv(f'{DATA_PATH}train_kjh.csv', index=False)"
      ],
      "metadata": {
        "id": "9cdwrl5HSuJV"
      },
      "execution_count": null,
      "outputs": []
    },
    {
      "cell_type": "code",
      "source": [
        "test.to_csv(f'{DATA_PATH}test_kjh.csv', index=False)"
      ],
      "metadata": {
        "id": "_2K7QY2diVr1"
      },
      "execution_count": null,
      "outputs": []
    },
    {
      "cell_type": "code",
      "source": [],
      "metadata": {
        "id": "4_NCIseUMdh9"
      },
      "execution_count": null,
      "outputs": []
    }
  ]
}